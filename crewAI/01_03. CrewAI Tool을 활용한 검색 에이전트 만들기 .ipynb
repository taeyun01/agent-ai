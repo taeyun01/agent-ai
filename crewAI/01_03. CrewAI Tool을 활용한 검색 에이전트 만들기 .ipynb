{
 "cells": [
  {
   "cell_type": "code",
   "execution_count": 1,
   "id": "04b7288a-5ceb-4d4c-b7d3-48eeb1acd429",
   "metadata": {},
   "outputs": [],
   "source": [
    "import warnings\n",
    "warnings.filterwarnings('ignore')\n",
    "from dotenv import load_dotenv\n",
    "\n",
    "load_dotenv()"
   ]
  },
  {
   "cell_type": "markdown",
   "id": "8a122934",
   "metadata": {},
   "source": [
    "#### SerperDevTool와 WebsiteSearchTool를 활용해 태크뉴스를 작성하는 Task를 만들어보자"
   ]
  },
  {
   "cell_type": "code",
   "execution_count": 2,
   "id": "1791a0d1-6b65-4abf-94c7-215c137ff079",
   "metadata": {},
   "outputs": [],
   "source": [
    "from crewai import Agent, Task, Crew\n",
    "from crewai.process import Process\n",
    "# Importing crewAI tools\n",
    "\n",
    "# 검색 도구에서 가장 대표적인 3가지 도구\n",
    "from crewai_tools import (\n",
    "    SerperDevTool,  # Serper API를 활용한 결과물을 받을 수 있는 도구. 특정 키워드를 주면, 그걸 구글에 검색한 결과를 가져옴.\n",
    "    WebsiteSearchTool, # 특정 키워드 그리고 어떤 웹사이트를 주면 해당 웹사이트 내에서 해당 키워드와 관련이 있는 부분만 가져옴. RAG가 내부적으로 실행이 되는 도구라고 보면 된다. 웹사이트 전체를 긁어오는게 아닌 키워드와 관련이 있는 부분만 가져옴\n",
    "    ScrapeWebsiteTool # 특정 웹사이트를 주면 해당 웹사이트 내에서 모든 텍스트를 스크래핑해서 가져옴. (크롤링 같은거)\n",
    ")"
   ]
  },
  {
   "cell_type": "code",
   "execution_count": null,
   "id": "ed5598c0-ccfd-4a01-be45-4f500c19a960",
   "metadata": {},
   "outputs": [],
   "source": [
    "from langchain_openai import ChatOpenAI\n",
    "\n",
    "llm = ChatOpenAI(model = \"gpt-4o-mini\") # gpt-4o-mini 모델을 사용\n",
    "\n",
    "search_tool = SerperDevTool()\n",
    "web_rag_tool = WebsiteSearchTool()\n",
    "scrap_tool = ScrapeWebsiteTool()\n",
    "\n",
    "# 테크 뉴스레터를 작성하는 에이전트 만들기\n",
    "\n",
    "# 테크 트렌드 연구원\n",
    "researcher = Agent(\n",
    "    role='테크 트렌드 연구원',\n",
    "    goal=\"인공지능 분야의 최신 기술 트렌드를 한국어로 제공합니다. 지금은 2024년 9월입니다.\", # 최신 정보를 가져올 수 있게 2024년 9월 이라고 현재 시점을 명시적이로 작성\n",
    "    backstory='기술 트렌드에 예리한 안목을 지닌 전문 분석가이자 AI 개발자입니다.', # 어떤 문장을 넣어도 상관없지만, role과 goal에서 설명하지 못한 추가적인 내용들을 담아주면 좋다. (길게 작성해도 되고ㅡ )\n",
    "    tools=[search_tool, web_rag_tool], # tool은 검색 도구과, 웹사이트 검색 도구를 사용.\n",
    "    verbose=True, # 이 에이전트가 제대로 수행하고 있는지 결과물을 확인할 수 있도록 출력\n",
    "    max_iter=5, # (최대 5번만 실행) 해당 에이전트가 주어진 테스크를 수행하는데에 있어서 반복수행하는 것을 제한하는 것 (max_iter값을 정해주지 않으면 goal에서 명령한 값을을 계속 수행함, 즉 웹 검색을 계속 반복해서 토큰수가 엄청 많이 나감, 그래서 최대 웹 검색 결과를 5번만 받아오도록 제한)\n",
    "    llm = llm # \n",
    ")\n",
    "\n",
    "# 주어진 테크 트렌드 연구원의 정보를 기반으로 해서 작성하는 뉴스레터 에이전트\n",
    "writer = Agent(\n",
    "    role='뉴스레터 작성자',\n",
    "    goal=\"최신 AI 기술 트렌드에 대한 매력적인 테크 뉴스레터를 한국어로 작성하세요. 지금은 2024년 8월입니다.\",\n",
    "    backstory='기술에 대한 열정을 가진 숙련된 작가입니다.',\n",
    "    verbose=True,\n",
    "    allow_delegation=False, # 다른 에이전트에게 작업을 위임하는 것을 허용하지 않음 (writer에이전트만 수행하게 만듬) 이 부분을 설정하지 않으면 가끔 가다 writer에이전트가 뉴스레터를 작성하는 과정에서 부족한 정보를 researcher에게 계속해서 요청하는 모습을 볼 수 있음.\n",
    "    llm = llm\n",
    ")\n",
    "\n",
    "# Define tasks\n",
    "# 각 각의 에이전트(researcher, writer)가 수행해야하는 테스크 정의\n",
    "\n",
    "# 첫 번째로 researcher 에이전트가 수행해야하는 테스크 정의\n",
    "research = Task(\n",
    "    description='AI 업계의 최신 기술 동향을 조사하고 요약을 제공하세요.',\n",
    "    expected_output='AI 업계에서 가장 주목받는 3대 기술 개발 동향과 그 중요성에 대한 신선한 관점을 요약한 글',\n",
    "    agent=researcher # 이 테스크를 researcher 에이전트가 수행하도록 지정\n",
    ")\n",
    "\n",
    "# 두 번째로 writer 에이전트가 수행해야하는 테스크 정의\n",
    "write = Task(\n",
    "    description=\"\"\"테크 트렌드 연구원의 요약을 바탕으로 AI 산업에 대한 매력적인 테크 뉴스레터를 작성하세요.\n",
    "    테크 뉴스레터이므로 전문적인 용어를 사용해도 괜찮습니다.\"\"\", # 테크 뉴스레터 이므로 특별히 전문적인 용어 사용 허용\n",
    "    expected_output='최신 기술 관련 소식을 재밌는 말투로 소개하는 4문단짜리 마크다운 형식 뉴스레터', # 결과물을 재밌는 말투로 4문단 짜리 마크다운 형싱으로 작성\n",
    "    agent=writer, # 이 테스크를 writer 에이전트가 수행하도록 지정\n",
    "    output_file=r'C:\\Users\\user\\new_post.md'  # 주어진 경로에다가 해당 테스크의 결과물을 저장\n",
    ")\n",
    "\n",
    "# Assemble a crew with planning enabled\n",
    "# 에이전트들과 테스크를 조합해서 크루 만들기\n",
    "crew = Crew(\n",
    "    agents=[researcher, writer],\n",
    "    tasks=[research, write],\n",
    "    verbose=True,\n",
    "    process=Process.sequential # 테스크를 순차적으로 수행하도록 지정\n",
    ")\n",
    "\n",
    "# Execute tasks\n",
    "# 크루 실행\n",
    "result = crew.kickoff()"
   ]
  },
  {
   "cell_type": "code",
   "execution_count": null,
   "id": "2b1121e5-8743-4534-b27c-838443490f90",
   "metadata": {},
   "outputs": [],
   "source": [
    "from IPython.display import display, Markdown\n",
    "display(Markdown(result.raw))"
   ]
  }
 ],
 "metadata": {
  "kernelspec": {
   "display_name": "Python 3 (ipykernel)",
   "language": "python",
   "name": "python3"
  },
  "language_info": {
   "codemirror_mode": {
    "name": "ipython",
    "version": 3
   },
   "file_extension": ".py",
   "mimetype": "text/x-python",
   "name": "python",
   "nbconvert_exporter": "python",
   "pygments_lexer": "ipython3",
   "version": "3.12.4"
  }
 },
 "nbformat": 4,
 "nbformat_minor": 5
}
