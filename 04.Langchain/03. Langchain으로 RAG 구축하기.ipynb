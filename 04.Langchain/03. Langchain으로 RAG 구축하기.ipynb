{
 "cells": [
  {
   "cell_type": "code",
   "execution_count": 4,
   "id": "c9d440fe-fb64-4c54-b2a4-fff909edec5c",
   "metadata": {},
   "outputs": [
    {
     "data": {
      "text/plain": [
       "True"
      ]
     },
     "execution_count": 4,
     "metadata": {},
     "output_type": "execute_result"
    }
   ],
   "source": [
    "from dotenv import load_dotenv\n",
    "\n",
    "load_dotenv()"
   ]
  },
  {
   "cell_type": "markdown",
   "id": "8954ad49-8bc6-4bfa-b4a8-12dc6ddfb97e",
   "metadata": {},
   "source": [
    "### **Document Loader로 문서 불러오기**"
   ]
  },
  {
   "cell_type": "code",
   "execution_count": 5,
   "id": "f209b3d8-87e2-40ce-9de4-dd1aeef255b5",
   "metadata": {},
   "outputs": [
    {
     "name": "stdout",
     "output_type": "stream",
     "text": [
      "Note: you may need to restart the kernel to use updated packages.\n"
     ]
    }
   ],
   "source": [
    "#PyPDF 설치\n",
    "%pip install -q pypdf langchain langchain_community faiss-cpu langchain_openai"
   ]
  },
  {
   "cell_type": "code",
   "execution_count": 6,
   "id": "75ac187e-246a-41de-8e70-00b0909f679f",
   "metadata": {},
   "outputs": [],
   "source": [
    "#PyPDFLoader 불러오기\n",
    "from langchain_community.document_loaders import PyPDFLoader\n",
    "\n",
    "# PDF파일 불러올 객체 PyPDFLoader 선언\n",
    "loader = PyPDFLoader(r\"/workspaces/codespaces-jupyter/ai-agent.pdf\")\n",
    "\n",
    "# PDF파일 로드 및 페이지별로 자르기\n",
    "pages = loader.load_and_split()"
   ]
  },
  {
   "cell_type": "code",
   "execution_count": 7,
   "id": "ead91adf-c9be-4d8b-b644-54de918e4056",
   "metadata": {
    "collapsed": true,
    "jupyter": {
     "outputs_hidden": true
    }
   },
   "outputs": [
    {
     "data": {
      "text/plain": [
       "Document(metadata={'source': '/workspaces/codespaces-jupyter/ai-agent.pdf', 'page': 0}, page_content='Life Changing Education \\n모두의\\x00AI\\x00케인의\\x00LangGraph로\\x00끝내는\\x00멀티\\x00AI\\x00Agent\\x00ft.\\x00\\n5가지\\x00Advanced\\x00AI\\x00agent\\x00구축\\x00프로젝트 \\n\\x00안내.\\n해당\\x00교육\\x00과정\\x00소개서는\\x00모든\\x00강의\\x00영상이\\x00촬영하기\\x00전\\x00작성되었습니다. \\n*\\x00커리큘럼은\\x00촬영\\x00및\\x00편집을\\x00거치며\\x00일부\\x00변경될\\x00수\\x00있으나,\\x00전반적인\\x00강의\\x00내용에는\\x00변동이\\x00없습니다.\\x00 \\n아래\\x00각\\x00오픈\\x00일정에\\x00따라\\x00공개됩니다.\\x00 \\n●1차\\x00:\\x002024년\\x0009월\\x0019일 \\n●2차\\x00:\\x002024년\\x0010월\\x0014일 \\n●3차\\x00:\\x002024년\\x0011월\\x0011일 \\n●전체\\x00:\\x002024년\\x0012월\\x0009일 \\n\\x00\\x00\\x00\\x00\\x00\\x00\\x00\\x00\\x00\\x00\\x00\\x00\\x00\\x00\\x00\\x00\\x00\\x00\\x00\\x00\\x00\\x00\\x00\\x00\\x00\\x00\\x00\\x00\\x00\\x00\\x00\\x00\\x00\\x00\\x00\\x00\\x00\\x00\\x00\\x00\\x00\\x00\\x00\\x00\\x00\\x00\\x00\\x00\\x00\\x00\\x00\\x00\\x00\\x00\\x00\\x00\\x00\\x00\\x00\\x00\\x00\\x00\\x00\\x00\\x00\\x00\\x00\\x00\\x00\\x00\\x00\\x00\\x00\\x00\\x00\\x00\\x00\\x00\\x00\\x00\\x00\\x00\\x00\\x00\\x00\\x00\\x00\\x00\\x00\\x00최근\\x00수정일자\\x002024년\\x0008월\\x0012일')"
      ]
     },
     "execution_count": 7,
     "metadata": {},
     "output_type": "execute_result"
    }
   ],
   "source": [
    "# 첫 번째 페이지 출력\n",
    "pages[0] # 문서의 metadata, 경로, 페이지, 컨텐츠 등 나오는 걸 볼 수 있음(페이지의 내용은 page_content 키값에 저장돼있는걸 볼 수 있음)"
   ]
  },
  {
   "cell_type": "code",
   "execution_count": 8,
   "id": "b2197d3a-fa90-4679-8494-b16357ada4de",
   "metadata": {
    "collapsed": true,
    "jupyter": {
     "outputs_hidden": true
    },
    "scrolled": true
   },
   "outputs": [
    {
     "data": {
      "text/plain": [
       "[('Life Changing Education \\n모두의\\x00AI\\x00케인의\\x00LangGraph로\\x00끝내는\\x00멀티\\x00AI\\x00Agent\\x00ft.\\x00\\n5가지\\x00Advanced\\x00AI\\x00agent\\x00구축\\x00프로젝트 \\n\\x00',\n",
       "  {'source': '/workspaces/codespaces-jupyter/ai-agent.pdf', 'page': 0}),\n",
       " ('Life Changing Education Copyright ⓒ FAST CAMPUS Corp. All Rights Reserved. \\n강의정보강의장\\x00\\x00\\x00\\x00\\x00\\x00\\x00\\x00\\x00\\x00\\x00\\x00\\x00\\x00온라인',\n",
       "  {'source': '/workspaces/codespaces-jupyter/ai-agent.pdf', 'page': 1}),\n",
       " ('Life Changing Education Copyright ⓒ FAST CAMPUS Corp. All Rights Reserved. \\n강의목표-14가지\\x00실습으로\\x00역할에\\x00맞는\\x00모델',\n",
       "  {'source': '/workspaces/codespaces-jupyter/ai-agent.pdf', 'page': 2}),\n",
       " ('Life Changing Education Copyright ⓒ FAST CAMPUS Corp. All Rights Reserved. 강사케인 과목 -모두의\\x00AI\\x00케인의\\x00LangG',\n",
       "  {'source': '/workspaces/codespaces-jupyter/ai-agent.pdf', 'page': 3}),\n",
       " ('Life Changing Education \\nCH01.\\x00강의\\x00소개 \\n01.\\x00강의\\x00소개 \\nCH02.\\x00에이전트의\\x00개념 \\n01.\\x00에이전트의\\x00개념과\\x00필요성 \\n02.\\x00에이전트의\\x00종류\\x00-\\x00단',\n",
       "  {'source': '/workspaces/codespaces-jupyter/ai-agent.pdf', 'page': 4}),\n",
       " ('Life Changing Education \\nCH01.\\x00CrewAI \\n01.\\x00Crew\\x00AI의\\x00개념과\\x00원리 \\n02.\\x00Crew\\x00AI의\\x00구성\\x00요소 \\n03.\\x00Crew\\x00AI\\x00개발환경\\x00구축 ',\n",
       "  {'source': '/workspaces/codespaces-jupyter/ai-agent.pdf', 'page': 5}),\n",
       " ('Life Changing Education \\nCH01.\\x00Langgraph\\x00자세히\\x00알아보기 \\n01.\\x00Langgraph의\\x00기본\\x00개념,\\x00State,\\x00Node,\\x00Edge\\x00이해하기 \\n02.',\n",
       "  {'source': '/workspaces/codespaces-jupyter/ai-agent.pdf', 'page': 6}),\n",
       " ('Life Changing Education \\nCH01.\\x00단일\\x00에이전트로\\x00Perplexity\\x00만들어보기 \\n01.\\x00Perplexity\\x00리버스\\x00엔지니어링 \\n02.\\x00Perplexity의\\x00',\n",
       "  {'source': '/workspaces/codespaces-jupyter/ai-agent.pdf', 'page': 7}),\n",
       " ('Life Changing Education \\nCH04.\\x00멀티\\x00에이전트로\\x00기업\\x00분석\\x00리포트\\x00에이전트\\x00만들어보기 \\n01.\\x00기업\\x00분석\\x00리포트\\x00에이전트\\x00아키텍처\\x00설계해보기 \\n02.\\x00기업\\x00',\n",
       "  {'source': '/workspaces/codespaces-jupyter/ai-agent.pdf', 'page': 8}),\n",
       " ('Life Changing Education \\nCH01.\\x00창의적\\x00사고에서\\x00시작되는\\x00SW\\x00프로그래밍 \\n01.\\x00컴퓨팅\\x00사고와\\x00프로그래밍에\\x00대해\\x00알아봅시다. \\n02.\\x00가자~!\\x00파이썬의\\x00세',\n",
       "  {'source': '/workspaces/codespaces-jupyter/ai-agent.pdf', 'page': 9}),\n",
       " ('Life Changing Education \\nCH04.\\x00돌고도는\\x00반복구조~\\x00반복문에\\x00대해\\x00알아볼까요? \\n01.\\x00반복\\x00구조(Loop)와\\x00While\\x00반복문\\x00그리고\\x00입력문\\x00만들기 \\n02',\n",
       "  {'source': '/workspaces/codespaces-jupyter/ai-agent.pdf', 'page': 10}),\n",
       " ('Life Changing Education \\nCH08.\\x00파일\\x00입출력과\\x00예외처리에\\x00대해\\x00알아볼까요? \\n01.\\x00파일\\x00입출력과\\x00예외처리 \\n02.\\x00파일\\x00읽기와\\x00쓰기\\x00그리고\\x00내용\\x00추가해보기',\n",
       "  {'source': '/workspaces/codespaces-jupyter/ai-agent.pdf', 'page': 11}),\n",
       " ('Life Changing Education \\nCH11.\\x00심화\\x00:\\x00파이썬\\x00객체와\\x00클래스에\\x00대해\\x00알아볼까요? \\n01.\\x00객체와\\x00클래스\\x00그리고\\x00객체지향\\x00프로그래밍에\\x00대해 \\n02.\\x00클래스\\x00',\n",
       "  {'source': '/workspaces/codespaces-jupyter/ai-agent.pdf', 'page': 12}),\n",
       " ('Life Changing Education Copyright ⓒ FAST CAMPUS Corp. All Rights Reserved. \\n주의\\x00사항-상황에\\x00따라\\x00사전\\x00공지\\x00없이\\x00할인',\n",
       "  {'source': '/workspaces/codespaces-jupyter/ai-agent.pdf', 'page': 13})]"
      ]
     },
     "execution_count": 8,
     "metadata": {},
     "output_type": "execute_result"
    }
   ],
   "source": [
    "# fon in문을 돌아서 리스트에 넣기 (페이지 전부 추출)\n",
    "[(i.page_content[:100], i.metadata) for i in pages]"
   ]
  },
  {
   "cell_type": "markdown",
   "id": "722007be",
   "metadata": {},
   "source": [
    "### WebBaseLoader를 통해 실제로 URL안에있는 텍스트 가져오기"
   ]
  },
  {
   "cell_type": "code",
   "execution_count": 9,
   "id": "0440f457-d80d-4213-8105-a09ca394a4ff",
   "metadata": {
    "collapsed": true,
    "jupyter": {
     "outputs_hidden": true
    }
   },
   "outputs": [
    {
     "name": "stderr",
     "output_type": "stream",
     "text": [
      "USER_AGENT environment variable not set, consider setting it to identify your requests.\n"
     ]
    },
    {
     "name": "stderr",
     "output_type": "stream",
     "text": [
      "/workspaces/codespaces-jupyter/.venv/lib/python3.12/site-packages/urllib3/connectionpool.py:1099: InsecureRequestWarning: Unverified HTTPS request is being made to host 'www.espn.com'. Adding certificate verification is strongly advised. See: https://urllib3.readthedocs.io/en/latest/advanced-usage.html#tls-warnings\n",
      "  warnings.warn(\n"
     ]
    },
    {
     "data": {
      "text/plain": [
       "[Document(metadata={'source': 'https://www.espn.com/', 'title': 'ESPN - Serving Sports Fans. Anytime. Anywhere.', 'description': 'Visit ESPN for live scores, highlights and sports news. Stream exclusive games on ESPN+ and play fantasy sports.', 'language': 'en'}, page_content=\"\\n\\n\\n\\n\\n\\n\\n\\n\\nESPN - Serving Sports Fans. Anytime. Anywhere.\\n\\n\\n\\n\\n\\n\\n\\n\\n\\n\\n\\n\\n\\n\\n\\n\\n\\n\\n\\n\\n\\n\\n\\n\\n\\n\\n\\n\\n\\n\\n\\n\\n\\n\\n\\n\\n\\n\\n\\n\\n\\n\\n\\n\\n\\n\\n\\n\\n\\n\\n\\n\\n\\n\\n\\n\\n\\n\\n\\n\\n\\n\\n\\n\\n\\n\\n\\n\\n\\n\\n\\n\\n\\n\\n\\n\\n\\n\\n\\n\\n\\n\\n\\n\\n\\n\\n\\n\\n\\n\\n\\n\\n        Skip to main content\\n    \\n\\n        Skip to navigation\\n    \\n\\n\\n\\n\\n\\n\\n\\n\\n\\n\\n\\n\\n\\n\\n\\n\\n\\n\\n\\n\\n\\n\\n\\n\\n\\n\\n\\n\\n\\n\\n\\n\\n\\n<\\n\\n>\\n\\n\\n\\n\\n\\n\\n\\n\\n\\nMenuESPN\\n\\n\\n\\n\\n\\nscores\\n\\n\\n\\n\\nNEW! Find where to watch all of your favorite sports!\\n\\n\\n\\n\\n\\n\\n\\nNFLNBAMLBNCAAFNHLSoccerWNBAMore SportsBoxingCFLNCAACricketF1GolfHorseLLWSMMANASCARNBA G LeagueNBA Summer LeagueNCAAMNCAAWNWSLOlympicsPLLProfessional WrestlingRacingRN BBRN FBRugbySports BettingTennisX GamesUFLFantasyWatchESPN BETESPN+\\n\\n\\n\\n\\n\\n\\n\\n\\n\\n\\n\\n\\n\\n\\n\\n  \\n\\nSubscribe Now\\n\\n\\n\\n\\n\\nFormula One\\n\\n\\n\\n\\n\\n\\n\\nNHL\\n\\n\\n\\n\\n\\n\\n\\nNFL PrimeTime\\n\\n\\n\\n\\n\\n\\n\\nNCAA Women's Volleyball\\n\\n\\nQuick Links\\n\\n\\n\\n\\nWhere To Watch\\n\\n\\n\\n\\n\\n\\n\\nNBA Opening Week Schedule\\n\\n\\n\\n\\n\\n\\n\\nWorld Series\\n\\n\\n\\n\\n\\n\\n\\nMLB Playoff Bracket\\n\\n\\n\\n\\n\\n\\n\\n2024 NFL Schedule\\n\\n\\n\\n\\n\\n\\n\\nCollege Football Schedule\\n\\n\\n\\n\\n\\n\\n\\nESPN Radio: Listen Live\\n\\n\\n\\n\\n\\n\\n\\nWhere To Watch\\n\\n\\n\\n\\n\\n\\nFavorites\\n\\n\\n\\n\\n\\n\\n      Manage Favorites\\n      \\n\\n\\n\\nCustomize ESPNCreate AccountLog InFantasy\\n\\n\\n\\n\\nFootball\\n\\n\\n\\n\\n\\n\\n\\nBaseball\\n\\n\\n\\n\\n\\n\\n\\nBasketball\\n\\n\\n\\n\\n\\n\\n\\nHockey\\n\\n\\nESPN Sites\\n\\n\\n\\n\\nESPN Deportes\\n\\n\\n\\n\\n\\n\\n\\nAndscape\\n\\n\\n\\n\\n\\n\\n\\nespnW\\n\\n\\n\\n\\n\\n\\n\\nESPNFC\\n\\n\\n\\n\\n\\n\\n\\nX Games\\n\\n\\n\\n\\n\\n\\n\\nSEC Network\\n\\n\\nESPN Apps\\n\\n\\n\\n\\nESPN\\n\\n\\n\\n\\n\\n\\n\\nESPN Fantasy\\n\\n\\n\\n\\n\\n\\n\\nTournament Challenge\\n\\n\\nFollow ESPN\\n\\n\\n\\n\\nFacebook\\n\\n\\n\\n\\n\\n\\n\\nX/Twitter\\n\\n\\n\\n\\n\\n\\n\\nInstagram\\n\\n\\n\\n\\n\\n\\n\\nSnapchat\\n\\n\\n\\n\\n\\n\\n\\nTikTok\\n\\n\\n\\n\\n\\n\\n\\nYouTube\\n\\n\\nFollow live: Tua has Dolphins a step ahead in his Miami return11mAP Photo/Lynne SladkyTua Tagovailoa took long, cautious road back from his latest concussionConcussion concerns remain for TuaNFL SCOREBOARDSUNDAY'S WEEK 8 GAMESSee AllWeek 8 arrivals fuse Halloween spirit with tributes to NBA legendsBuccaneers' 'Creamsicles,' Steelers' color rush top Week 8 uniformsTOP HEADLINESDodgers' Ohtani (shoulder) to play in Game 3Canes up to No. 5; Irish, BYU, Ags enter top 10Patriots QB Maye leaves game with concussionFever ax Sides despite Clark stardom, playoff bidDuke-Zona, IU-Kansas to play '27 Vegas twinbillTen Hag slams VAR process after Utd's latest lossDeion's Buffs clinch bowl, but 'not all we're after'Redick comes clean about car wash film sessionProjecting CFP top 12 after Week 9LOOKING BACK AT ALL THE ACTIONIndiana’s historic start, Ohio State’s narrow escape and more Week 9 takeawaysAs we approach November, it's getting increasingly difficult to shrug off all we've seen as dumb luck, soft schedules and total flukes.13hDavid HaleJacob Musselman-Imagn ImagesProjecting the CFP top 12 after Week 9: Welcome, Texas A&MWe assess how the committee would stack the top teams in the country after Week 9.16hHeather DinichCollege Football Playoff picks after Week 9Updated bowl projections: How all 47 games, including the CFP, line upLOOKS WHO'S BACKCollege Football Power Rankings: Colorado makes its first appearanceOur college football experts break down how each team in our top 25 performed in Week 9.4hESPNRon Chenoy-Imagn ImagesWhy Finebaum is ready to bring Bama back from the dead6h0:43SUNDAY'S BEST PLAYSLions' Gibbs races 70 yards for TD, Montgomery throws TD to LaPortaThe Detroit running back hit 22.03 mph on the run.43mEric WoodyardGregory Shamus/Getty ImagesPatriots QB Drake Maye sprints to 17-yard TD vs. JetsMaye gave the Patriots a 7-0 lead in the first quarter.2hMike ReissAnthony Richardson connects with Josh Downs on 69-yard touchdown passWorld Series - Game 2LAD lead series 2-0Passan: Yankees need to wake up before this dream World Series ends as a New York nightmareAfter stumbling to a 0-2 Fall Classic deficit, the Bombers' margin for error has disappeared.2hJeff PassanSteph Chambers/Getty ImagesDave Roberts on Ohtani injury: 'We're encouraged'15h0:32Game 2 takeaways and the big question for Game 3Are the Yankees done? Is Freeman a shoo-in for MVP? What we've learned so farGreatest games ever played: The 2004 Red Sox 20 years later6hHoward BryantWHAT CAUGHT OUR EYE ON SATURDAYUnreal tip drill turns into a Troy catch you have to see to believe6h0:19Fight breaks out at end of Michigan State vs. Michigan15h0:53UFC 308 - Featherweight - Main Event - Title FightUFC 308 fight grades: Topuria-Holloway gets an A, but does it top the list?Massive finishes, impressive submissions and a dramatic title fight, we grade the best and worst from UFC 308.21hAndreas HaleUFC 308 takeaways: Topuria delivers on promise, Chimaev ready for middleweight crown Top HeadlinesDodgers' Ohtani (shoulder) to play in Game 3Canes up to No. 5; Irish, BYU, Ags enter top 10Patriots QB Maye leaves game with concussionFever ax Sides despite Clark stardom, playoff bidDuke-Zona, IU-Kansas to play '27 Vegas twinbillTen Hag slams VAR process after Utd's latest lossDeion's Buffs clinch bowl, but 'not all we're after'Redick comes clean about car wash film sessionProjecting CFP top 12 after Week 9Favorites FantasyManage FavoritesFantasy HomeCustomize ESPNCreate AccountLog InICYMI0:51UNC DL makes ridiculous 84-yard pick sixNorth Carolina defensive lineman Jahvaree Ritzie intercepts Virginia's quarterback and goes 84 yards for a touchdown. Best of ESPN+Dan Sanger/Icon Sportswire2024 College Football Playoff, bowl projections after Week 9Eight weeks in, the postseason picture seems to be taking shape. Or is it? Surprise teams are everywhere.ESPNRanking every player in Dodgers vs. Yankees World Series\\nFrom baseball's elite to the last men off the bench, here's how both rosters stack up.Photo by Al Bello/Getty ImagesNFL's worst teams in 2024 and beyond: Which need to rebuild?The Browns, Giants, Panthers, Raiders, Saints and Titans have roster issues and huge questions for 2025. Which team could turn things around?Copyright 2024 NBAE (Photo by Andrew D. Bernstein/NBAE via Getty Images)NBA Rank 2024: Coaches, scouts and execs debate ESPN's top 100ESPN just finished its countdown of the top 100 players for the 2024-25 season. And NBA decision-makers have thoughts. Trending NowMegan Briggs/Getty ImagesDolphins QB Tua Tagovailoa still faces concussion concernsMedical experts, ex-NFL players describe challenges for athletes trying to decide whether to keep playing.Photo by Jesse D. Garrabrant/NBAE via Getty ImagesEnd of an era? LeBron, Steph and KD as the NBA's eldersStephen Curry, Kevin Durant and LeBron James took home a gold medal this summer. But what will be their impact in the 2024-25 NBA season?Matt Krohn-Imagn ImagesWay-Too-Early WNBA Power Rankings: Liberty, Lynx open on topNew York has been crowned champ. The draft lottery, an expansion draft, April's rookie draft and free agency await. But first, our updated rankings.Marcus Smith for ESPNAnthony Edwards, Justin Jefferson and Minnesota's iconic jersey swapEdwards and Jefferson finally recreated the iconic image of Moss and Garnett. Now, they want to bring titles to Minnesota. Sign up to play the #1 Fantasy game!Create A LeagueJoin Public LeagueReactivate A LeagueMock Draft NowSign up for FREE!Create A LeagueJoin a Public LeagueReactivate a LeaguePractice With a Mock DraftSign up for FREE!Create A LeagueJoin a Public LeagueReactivate a LeaguePractice with a Mock DraftGet a custom ESPN experienceEnjoy the benefits of a personalized accountSelect your favorite leagues, teams and players and get the latest scores, news and updates that matter most to you. \\n\\nESPN+\\n\\n\\n\\n\\nFormula One\\n\\n\\n\\n\\n\\n\\n\\nNHL\\n\\n\\n\\n\\n\\n\\n\\nNFL PrimeTime\\n\\n\\n\\n\\n\\n\\n\\nNCAA Women's Volleyball\\n\\n\\nQuick Links\\n\\n\\n\\n\\nWhere To Watch\\n\\n\\n\\n\\n\\n\\n\\nNBA Opening Week Schedule\\n\\n\\n\\n\\n\\n\\n\\nWorld Series\\n\\n\\n\\n\\n\\n\\n\\nMLB Playoff Bracket\\n\\n\\n\\n\\n\\n\\n\\n2024 NFL Schedule\\n\\n\\n\\n\\n\\n\\n\\nCollege Football Schedule\\n\\n\\n\\n\\n\\n\\n\\nESPN Radio: Listen Live\\n\\n\\n\\n\\n\\n\\n\\nWhere To Watch\\n\\n\\nFantasy\\n\\n\\n\\n\\nFootball\\n\\n\\n\\n\\n\\n\\n\\nBaseball\\n\\n\\n\\n\\n\\n\\n\\nBasketball\\n\\n\\n\\n\\n\\n\\n\\nHockey\\n\\n\\nESPN Sites\\n\\n\\n\\n\\nESPN Deportes\\n\\n\\n\\n\\n\\n\\n\\nAndscape\\n\\n\\n\\n\\n\\n\\n\\nespnW\\n\\n\\n\\n\\n\\n\\n\\nESPNFC\\n\\n\\n\\n\\n\\n\\n\\nX Games\\n\\n\\n\\n\\n\\n\\n\\nSEC Network\\n\\n\\nESPN Apps\\n\\n\\n\\n\\nESPN\\n\\n\\n\\n\\n\\n\\n\\nESPN Fantasy\\n\\n\\n\\n\\n\\n\\n\\nTournament Challenge\\n\\n\\nFollow ESPN\\n\\n\\n\\n\\nFacebook\\n\\n\\n\\n\\n\\n\\n\\nX/Twitter\\n\\n\\n\\n\\n\\n\\n\\nInstagram\\n\\n\\n\\n\\n\\n\\n\\nSnapchat\\n\\n\\n\\n\\n\\n\\n\\nTikTok\\n\\n\\n\\n\\n\\n\\n\\nYouTube\\n\\n\\nTerms of UsePrivacy PolicySupplemental Privacy Policy for SingaporeInterest Based Ads© ESPN Enterprises, Inc. All rights reserved.\\n\\n\\n\\n\\n\\n\\n\\n\\n\\n\\n\\n\\n\\n\\n\\n\\n\\n\")]"
      ]
     },
     "execution_count": 9,
     "metadata": {},
     "output_type": "execute_result"
    }
   ],
   "source": [
    "from langchain_community.document_loaders import WebBaseLoader\n",
    "#텍스트 추출할 URL 입력\n",
    "loader = WebBaseLoader(\"https://www.espn.com/\")\n",
    "# loader = WebBaseLoader(\"https://www.coupang.com/np/search?component=&q=%ED%97%A4%EB%93%9C%EC%85%8B&channel=user\")\n",
    "#ssl verification 에러 방지를 위한 코드 (가끔 가다 ssl verification이라는 오류가 뜨는데 이걸 방지하기 위함. 이부분은 무시해도 됨)\n",
    "loader.requests_kwargs = {'verify':False}\n",
    "data = loader.load()\n",
    "\n",
    "data\n",
    "\n",
    "# URL의 모든 텍스트를 다 가져오려니까 너무 많은 텍스트가 담겨있다.\n",
    "# 내가 원하는 부분만 가져오고 싶다면 아래 bs4를 사용하면 된다."
   ]
  },
  {
   "cell_type": "code",
   "execution_count": 10,
   "id": "c91c1c02-c9f9-46c9-8b11-1a51143ad97e",
   "metadata": {},
   "outputs": [
    {
     "name": "stderr",
     "output_type": "stream",
     "text": [
      "/workspaces/codespaces-jupyter/.venv/lib/python3.12/site-packages/urllib3/connectionpool.py:1099: InsecureRequestWarning: Unverified HTTPS request is being made to host 'www.espn.com'. Adding certificate verification is strongly advised. See: https://urllib3.readthedocs.io/en/latest/advanced-usage.html#tls-warnings\n",
      "  warnings.warn(\n"
     ]
    },
    {
     "data": {
      "text/plain": [
       "[Document(metadata={'source': 'https://www.espn.com/'}, page_content=\"Dodgers' Ohtani (shoulder) to play in Game 3Canes up to No. 5; Irish, BYU, Ags enter top 10Patriots QB Maye leaves game with concussionFever ax Sides despite Clark stardom, playoff bidDuke-Zona, IU-Kansas to play '27 Vegas twinbillTen Hag slams VAR process after Utd's latest lossDeion's Buffs clinch bowl, but 'not all we're after'Redick comes clean about car wash film sessionProjecting CFP top 12 after Week 9 Top HeadlinesDodgers' Ohtani (shoulder) to play in Game 3Canes up to No. 5; Irish, BYU, Ags enter top 10Patriots QB Maye leaves game with concussionFever ax Sides despite Clark stardom, playoff bidDuke-Zona, IU-Kansas to play '27 Vegas twinbillTen Hag slams VAR process after Utd's latest lossDeion's Buffs clinch bowl, but 'not all we're after'Redick comes clean about car wash film sessionProjecting CFP top 12 after Week 9\")]"
      ]
     },
     "execution_count": 10,
     "metadata": {},
     "output_type": "execute_result"
    }
   ],
   "source": [
    "# 해당 URL에 원하는 class만 컨텐츠만 가져오기\n",
    "\n",
    "import bs4\n",
    "from langchain_community.document_loaders import WebBaseLoader\n",
    "#텍스트 추출할 URL 입력\n",
    "loader = WebBaseLoader(\"https://www.espn.com/\",\n",
    "                        bs_kwargs=dict(\n",
    "                            parse_only=bs4.SoupStrainer(\n",
    "                                class_=(\"headlineStack top-headlines\") # class가 headlineStack top-headlines인것을 가져옴\n",
    "                                                        )\n",
    "                                        )\n",
    "                      )\n",
    "#ssl verification 에러 방지를 위한 코드\n",
    "loader.requests_kwargs = {'verify':False}\n",
    "data = loader.load()\n",
    "data\n",
    "\n",
    "# 문서를 가져왔으면 분할을 해야한다. 아래 Text Splitter로 문서 분할을 살펴보자"
   ]
  },
  {
   "cell_type": "markdown",
   "id": "5415a3d1-2305-45a5-b569-038a0051a815",
   "metadata": {},
   "source": [
    "### **Text Splitter로 문서 분할하기**\n",
    "- Text Splitter와 RecursiveCharacterTextSplitter를 알아보자"
   ]
  },
  {
   "cell_type": "code",
   "execution_count": 11,
   "id": "fe197688-b348-4e5f-b814-4e59def032de",
   "metadata": {},
   "outputs": [
    {
     "name": "stdout",
     "output_type": "stream",
     "text": [
      "page_content='Life Changing Education \n",
      "모두의\u0000AI\u0000케인의\u0000LangGraph로\u0000끝내는\u0000멀티\u0000AI\u0000Agent\u0000ft.\u0000\n",
      "5가지\u0000Advanced\u0000AI\u0000agent\u0000구축\u0000프로젝트 \n",
      "\u0000안내.\n",
      "해당\u0000교육\u0000과정\u0000소개서는\u0000모든\u0000강의\u0000영상이\u0000촬영하기\u0000전\u0000작성되었습니다. \n",
      "*\u0000커리큘럼은\u0000촬영\u0000및\u0000편집을\u0000거치며\u0000일부\u0000변경될\u0000수\u0000있으나,\u0000전반적인\u0000강의\u0000내용에는\u0000변동이\u0000없습니다.\u0000 \n",
      "아래\u0000각\u0000오픈\u0000일정에\u0000따라\u0000공개됩니다.\u0000 \n",
      "●1차\u0000:\u00002024년\u000009월\u000019일 \n",
      "●2차\u0000:\u00002024년\u000010월\u000014일 \n",
      "●3차\u0000:\u00002024년\u000011월\u000011일 \n",
      "●전체\u0000:\u00002024년\u000012월\u000009일 \n",
      "\u0000\u0000\u0000\u0000\u0000\u0000\u0000\u0000\u0000\u0000\u0000\u0000\u0000\u0000\u0000\u0000\u0000\u0000\u0000\u0000\u0000\u0000\u0000\u0000\u0000\u0000\u0000\u0000\u0000\u0000\u0000\u0000\u0000\u0000\u0000\u0000\u0000\u0000\u0000\u0000\u0000\u0000\u0000\u0000\u0000\u0000\u0000\u0000\u0000\u0000\u0000\u0000\u0000\u0000\u0000\u0000\u0000\u0000\u0000\u0000\u0000\u0000\u0000\u0000\u0000\u0000\u0000\u0000\u0000\u0000\u0000\u0000\u0000\u0000\u0000\u0000\u0000\u0000\u0000\u0000\u0000\u0000\u0000\u0000\u0000\u0000\u0000\u0000\u0000\u0000최근\u0000수정일자\u00002024년\u000008월\u000012일' metadata={'source': '/workspaces/codespaces-jupyter/ai-agent.pdf', 'page': 0}\n"
     ]
    }
   ],
   "source": [
    "# 문서를 가져와 분할하기\n",
    "\n",
    "#PyPDFium2Loader로 PDF 문서 로드하기\n",
    "from langchain_community.document_loaders import PyPDFLoader\n",
    "loader = PyPDFLoader(r\"/workspaces/codespaces-jupyter/ai-agent.pdf\")\n",
    "pages = loader.load()\n",
    "\n",
    "#CharacterTextSplitter 모듈 로드\n",
    "from langchain_text_splitters import CharacterTextSplitter\n",
    "\n",
    "#구분자: 줄넘김, 청크 길이: 500, 청크 오버랩: 100, length_function: 글자수\n",
    "text_splitter = CharacterTextSplitter(\n",
    "    # CharacterTextSplitter의 매개변수\n",
    "    separator=\"\\n\", # 어떠한 구분자로 나눌건지 기준점 설정 (줄 바꿈 기준으로 나누겠다.)\n",
    "    chunk_size=500, # 문서의 텍스트를 500개씩 짤라서 가져오겠다.\n",
    "    chunk_overlap=100, # ⭐️⭐️ 딱 500개씩 자르면 맥락이 끊기게된다. 청크와 청크사이의 100자씩 겹치는 부분을 만들어주어 청크를 500개씩 딱 잘라도 앞뒤로 100자는 겹칠 수 있게 만들어준다.(완전히 분리시키는게 아닌 조금씩 겹치는 부분이 생겨 이어지게끔 만들어줌) 사용자의 질문의 더 많은 답변을 줄 수 있어 꼭 설정하는게 좋다.\n",
    "    length_function=len # 글자수 기준으로 짜르겠다.\n",
    ")\n",
    "#텍스트 분할\n",
    "texts = text_splitter.split_documents(pages)\n",
    "print(texts[0])"
   ]
  },
  {
   "cell_type": "code",
   "execution_count": 12,
   "id": "c1448c97-1935-4309-902f-57b4e4511ce2",
   "metadata": {},
   "outputs": [
    {
     "name": "stdout",
     "output_type": "stream",
     "text": [
      "[424, 445, 470, 257, 218, 412, 468, 149, 493, 386, 479, 461, 436, 492, 378, 465, 339, 480, 261, 485, 374, 436, 214]\n"
     ]
    }
   ],
   "source": [
    "# 500자 내외로 분할된걸 볼 수 있다.\n",
    "print([len(i.page_content) for i in texts])"
   ]
  },
  {
   "cell_type": "markdown",
   "id": "701f8301",
   "metadata": {},
   "source": [
    "### RecursiveCharacterTextSplitter로 문서 분할"
   ]
  },
  {
   "cell_type": "code",
   "execution_count": 13,
   "id": "edfd55bf-16a7-4862-a8a0-db4afeba8882",
   "metadata": {},
   "outputs": [
    {
     "name": "stdout",
     "output_type": "stream",
     "text": [
      "[424, 445, 470, 257, 218, 412, 468, 149, 493, 386, 479, 461, 436, 492, 378, 465, 339, 480, 261, 485, 374, 436, 214]\n"
     ]
    }
   ],
   "source": [
    "from langchain_community.document_loaders import PyPDFium2Loader\n",
    "\n",
    "loader = PyPDFLoader(r\"/workspaces/codespaces-jupyter/ai-agent.pdf\")\n",
    "\n",
    "pages = loader.load()\n",
    "\n",
    "from langchain_text_splitters import RecursiveCharacterTextSplitter\n",
    "\n",
    "text_splitter = RecursiveCharacterTextSplitter (\n",
    "    chunk_size=500, # 500자 기준으로 분할\n",
    "    chunk_overlap=100, # 청크의 앞뒤로 100자씩 겹치게 설정\n",
    "    length_function=len, # 글자수 기준으로 분할\n",
    "    # is_separator_regex=False,\n",
    ")\n",
    "\n",
    "texts = text_splitter.split_documents(pages)\n",
    "print([len(i.page_content) for i in texts])\n",
    "\n",
    "# 문서를 가져왔으면 문서를 수치화하는 임베딩 과정이 필요하다. 아래 예제를 살펴보자"
   ]
  },
  {
   "cell_type": "markdown",
   "id": "d768d099",
   "metadata": {},
   "source": [
    "### 차이\n",
    "- Text Splitter는 하나의 구분자를 기준으로 모든 텍스트를 주어진 청크 사이즈로 나눌려고 노력한다.\n",
    "그런데 구분자를 기준으로 짤랐는데 짤린 청크들이 청크사이즈 500을 넘게되면 더 이상 할 수 있는 일이 없게 된다.\n",
    "\n",
    "- RecursiveCharacterTextSplitter는 여러개의 구분자가 들어있는 리스트를 재귀적으로 돌면서 여러가지 구분자들을 적용 해본다.\n",
    "가장 첫번째는 문단 나눔을 기준으로 나누어 청크사이즈를 맞추려고 한다. 근데 문단 나눔을 해서 청크 사이즈 500을 못지켰다 라고 한다면 그 다음으로 작은 구분자로 넘어가게 된다.\n",
    "줄바꿈을 기준으로 구분자를 적용하고 청크사이즈를 맞추려고 하고, 그것도 안되면 더 작은 구분자 마침표 이것도 안되면 띄어쓰기 기준 이런식으로 계속 청크사이즈를 맞춘다.\n",
    "이렇게 최대한 잘게 쪼개보고 청크사이즈를 500이 되게끔 맞춰주는 과정을 수행하게 된다.\n",
    "- 즉, 알아서 여러가지 구분자를 최대한 청크사이즈가 맞게끔 적용해 가면서 자르기 때문에 우리가 구분자를 넣어주지 않아도 알아서 수행 해준다.\n",
    "- **대부분 문서분할은 RecursiveCharacterTextSplitter를 쓴다고 보면 된다.**"
   ]
  },
  {
   "cell_type": "markdown",
   "id": "3d96c094-acfc-4e7f-8778-23d569f1075e",
   "metadata": {},
   "source": [
    "### **임베딩 모델로 텍스트를 수치화하기**"
   ]
  },
  {
   "cell_type": "code",
   "execution_count": 14,
   "id": "14eca539-920f-4198-ba42-47e187033402",
   "metadata": {},
   "outputs": [
    {
     "data": {
      "text/plain": [
       "(5, 1536)"
      ]
     },
     "execution_count": 14,
     "metadata": {},
     "output_type": "execute_result"
    }
   ],
   "source": [
    "# 문서를 가져왔으면 문서를 수치화하는 임베딩과정 수행하기\n",
    "\n",
    "from langchain_openai import OpenAIEmbeddings\n",
    "\n",
    "embeddings_model = OpenAIEmbeddings(model = 'text-embedding-3-small')\n",
    "embeddings = embeddings_model.embed_documents(\n",
    "    [\n",
    "        \"Hi there!\",\n",
    "        \"Oh, hello!\",\n",
    "        \"What's your name?\",\n",
    "        \"My friends call me World\",\n",
    "        \"Hello World!\"\n",
    "    ]\n",
    ")\n",
    "\n",
    "\n",
    "len(embeddings),len(embeddings[0]) # 총 5개의 리스트, Hi there!의 숫자로 바꿨을때, 숫자로 총 몇개로 표현이 되는지 (1536차원의 벡터로 표현한것, 즉 1536개로 이 문장을 표현한것)"
   ]
  },
  {
   "cell_type": "code",
   "execution_count": 15,
   "id": "e6cdd9a2-5cfe-43a3-9156-d6a79eb53b90",
   "metadata": {},
   "outputs": [
    {
     "name": "stdout",
     "output_type": "stream",
     "text": [
      "[-0.019187437370419502, -0.03813096508383751, -0.031003428623080254, -0.004613928031176329, -0.03536667302250862, -0.004004158079624176, 0.012920353561639786, 0.05103099346160889, -0.005826693493872881, -0.03720953315496445]\n",
      "--------------------------------------------------\n",
      "임베딩 개수: len(embeddings) \n",
      "임베딩 차원: len(embeddings[0])\n"
     ]
    }
   ],
   "source": [
    "# 임베딩이 어떤식으로 생겼는지 살펴보자\n",
    "print(embeddings[0][:10]) # 10개 까지만 가져와보면 리스트에 쭉 담겨 있는걸 볼 수 있다.\n",
    "# [-0.019119014963507652, -0.03810252994298935, ...] 이런 형태의 숫자가 1536개로 이루어져 있고 그것이 하나의 문장을 나타낸다.\n",
    "print(\"-\"*50)\n",
    "print(f\"임베딩 개수: len(embeddings) \\n임베딩 차원: len(embeddings[0])\")"
   ]
  },
  {
   "cell_type": "markdown",
   "id": "2a508675",
   "metadata": {},
   "source": [
    "### PDF파일에 대해서 임베딩을 해보자"
   ]
  },
  {
   "cell_type": "code",
   "execution_count": 16,
   "id": "646b3e02-2613-4304-834d-b2b42beccf81",
   "metadata": {},
   "outputs": [
    {
     "data": {
      "text/plain": [
       "(23, 1536)"
      ]
     },
     "execution_count": 16,
     "metadata": {},
     "output_type": "execute_result"
    }
   ],
   "source": [
    "from langchain_openai import OpenAIEmbeddings\n",
    "from langchain_community.document_loaders import PyPDFLoader\n",
    "from langchain_text_splitters import RecursiveCharacterTextSplitter\n",
    "\n",
    "#임베딩 모델 API 호출\n",
    "embeddings_model = OpenAIEmbeddings(model = 'text-embedding-3-small')\n",
    "\n",
    "#PDF 문서 로드\n",
    "loader = PyPDFLoader(r\"/workspaces/codespaces-jupyter/ai-agent.pdf\")\n",
    "pages = loader.load()\n",
    "\n",
    "#PDF 문서를 여러 청크로 분할\n",
    "text_splitter = RecursiveCharacterTextSplitter(\n",
    "    chunk_size=500,\n",
    "    chunk_overlap=100\n",
    ")\n",
    "\n",
    "texts = text_splitter.split_documents(pages)\n",
    "\n",
    "#OpenAI 임베딩 모델로 청크들을 임베딩 변환하기 (Document객체들은 필요없는 객체들이 많아 실제 컨텐츠들이 담겨있는 page_content만 리스트에 담자)\n",
    "embeddings = embeddings_model.embed_documents([i.page_content for i in texts])\n",
    "len(embeddings), len(embeddings[0])\n",
    "\n",
    "# (23, 1536)이 나오는데 \n",
    "# 23개는 PDF파일을 가져온 다음 RecursiveCharacterTextSplitter로 활용해서 분할한 청크의 개수 (문장의 개수가 23개 인것이다.) 총 23개의 청크가 수치화가 진행이 된것.\n",
    "# "
   ]
  },
  {
   "cell_type": "markdown",
   "id": "f492bdbd-39a1-41c7-9e1a-44d0dbf5595c",
   "metadata": {},
   "source": [
    "### **벡터 스토어에 저장**"
   ]
  },
  {
   "cell_type": "code",
   "execution_count": 17,
   "id": "44084f8b-f232-4444-9d6a-6d2631c8d1c6",
   "metadata": {},
   "outputs": [],
   "source": [
    "# !pip install faiss-cpu"
   ]
  },
  {
   "cell_type": "code",
   "execution_count": 18,
   "id": "1292ab3e-2dca-408a-bde6-812602b1e785",
   "metadata": {},
   "outputs": [],
   "source": [
    "# FAISS가 가장 간단한 형태로 활용할 수 있기 떄문에 사용 해보자\n",
    "from langchain.vectorstores import FAISS\n",
    "\n",
    "# FAISS벡터 스토어에 내가 가진 텍스트를 임베딩 형태로 저장하기 위해서는 from_documents함수를 실행해야한다.\n",
    "# 그러면 내가 가진 텍스트를 기반으로 해서 임베딩 모델을 적용하여 임베딩으로 변환을 하고 그 값을 FAISS에다 저장하겠다. (그리고 db변수에 할당)\n",
    "db = FAISS.from_documents(texts, embeddings_model)"
   ]
  },
  {
   "cell_type": "code",
   "execution_count": 19,
   "id": "13cf3fd5-4e0e-4a16-af95-2565dc402a6f",
   "metadata": {},
   "outputs": [
    {
     "data": {
      "text/plain": [
       "[Document(metadata={'source': '/workspaces/codespaces-jupyter/ai-agent.pdf', 'page': 11}, page_content='Life Changing Education \\nCH08.\\x00파일\\x00입출력과\\x00예외처리에\\x00대해\\x00알아볼까요? \\n01.\\x00파일\\x00입출력과\\x00예외처리 \\n02.\\x00파일\\x00읽기와\\x00쓰기\\x00그리고\\x00내용\\x00추가해보기 \\n03.\\x00파일\\x00내용\\x00읽기와\\x00예외처리 \\n04.\\x00(응용실습)\\x00점수\\x00합계\\x00구하기 \\nCH09.\\x00함수란\\x00무엇일까요? \\n01.\\x00함수\\x00정의\\x00및\\x00사용하기 \\n02.\\x00함수의\\x00매개변수\\x00사용하기 \\n03.\\x00함수\\x00정의\\x00및\\x00사용하기 \\n04.\\x00함수의\\x00매개변수\\x00사용하기 \\n05.\\x00함수를\\x00통한\\x00변수에\\x00값\\x00입력하기 \\n06.\\x00인자의\\x00기본값과\\x00가변인자 \\n07.\\x00파이썬\\x00함수\\x00설명하기 \\n08.\\x00lamda\\x00함수 \\n09.\\x00(응용실습)\\x00도서\\x00대출\\x00시스템\\x00만들기 \\nCH10.\\x00함수에도\\x00내장함수와\\x00외장함수가\\x00있네요. \\n01.\\x00내장함수와\\x00외장함수 \\n02.\\x00연산,\\x00정보관련\\x00내장함수 \\n03.\\x00반복\\x00객체\\x00관련\\x00내장함수 \\n04.\\x00외장함수와\\x00인터프리터를\\x00관리하는\\x00모듈 \\n05.\\x00자료형\\x00그대로\\x00파일에\\x00저장하기 \\n06.\\x00무작위\\x00숫자\\x00만들기'),\n",
       " Document(metadata={'source': '/workspaces/codespaces-jupyter/ai-agent.pdf', 'page': 10}, page_content='Life Changing Education \\nCH04.\\x00돌고도는\\x00반복구조~\\x00반복문에\\x00대해\\x00알아볼까요? \\n01.\\x00반복\\x00구조(Loop)와\\x00While\\x00반복문\\x00그리고\\x00입력문\\x00만들기 \\n02.\\x00For\\x00반복과\\x00For\\x00문에\\x00range(\\x00)\\x00사용해보기 \\n03.\\x00While과\\x00For을\\x00비교해보기 \\n04.\\x00Continue와\\x00Break\\x00활용해보기 \\n05.\\x00(응용실습)\\x00전체\\x00구구단\\x00출력\\x00실습해보기 \\nCH05.\\x00파이썬\\x00라이브러리\\x00활용~으로\\x00스킬업 \\n01.\\x00문자열\\x00변수와\\x00연산,\\x00인덱싱과\\x00슬라이싱 \\n02.\\x00문자열\\x00슬라이싱과\\x00조작\\x00명령어 \\n03.\\x00문자열\\x00포맷팅 \\n04.\\x00(응용실습)\\x00암호\\x00만들어\\x00보기 \\nCH06.\\x00문자열과\\x00문자열\\x00조작\\x00명령어에\\x00대해\\x00알아볼까요? \\n01.\\x00문자열\\x00변수와\\x00연산,\\x00인덱싱과\\x00슬라이싱 \\n02.\\x00문자열\\x00슬라이싱과\\x00조작\\x00명령어 \\n03.\\x00문자열\\x00포맷팅 \\n04.\\x00(응용실습)\\x00암호\\x00만들어\\x00보기 \\nCH07.\\x00프로그래밍에도\\x00데이터\\x00타입이\\x00있어요'),\n",
       " Document(metadata={'source': '/workspaces/codespaces-jupyter/ai-agent.pdf', 'page': 11}, page_content='03.\\x00반복\\x00객체\\x00관련\\x00내장함수 \\n04.\\x00외장함수와\\x00인터프리터를\\x00관리하는\\x00모듈 \\n05.\\x00자료형\\x00그대로\\x00파일에\\x00저장하기 \\n06.\\x00무작위\\x00숫자\\x00만들기 \\n07.\\x00수학\\x00관련\\x00계산\\x00math\\x00및\\x00날짜와\\x00시간\\x00datetime,\\x00time \\n08.\\x00(응용실습)\\x00점심메뉴추천\\x00만들기 \\n본\\x00과정은\\x00현재\\x00촬영\\x00및\\x00편집이\\x00진행되고\\x00있는\\x00 사전\\x00판매\\x00중인\\x00강의 입니다.\\n해당\\x00교육과정\\x00소개서는\\x00변경되거나\\x00추가될\\x00수\\x00있습니다. CURRICULUM \\n부록\\x001.\\x00\\n기초\\x00프로그래밍\\x00\\n(Python)'),\n",
       " Document(metadata={'source': '/workspaces/codespaces-jupyter/ai-agent.pdf', 'page': 9}, page_content='CH03.\\x00조건문\\x00그리고\\x00알고리즘과\\x00의사코드에\\x00대해\\x00알아볼까요? \\n01.\\x00조건이란?\\x00그리고\\x00알고리즘과\\x00의사코드 \\n02.\\x00프로그래밍\\x00구조에서의\\x00조건문\\x00활용 \\n03.\\x00기본\\x00조건문을\\x00만들어보아요 \\n04.\\x00입력을\\x00이용한\\x00조건문\\x00그리고\\x00비교연산자를\\x00활용한\\x00조건문 \\n05.\\x00논리연산자\\x00이해해보며\\x00논리\\x00연산자를\\x00이용한\\x00조건문 \\n06.\\x00IF-ELSE\\x00및\\x00IF-ELIF-ELSE\\x00다중\\x00조건문에\\x00대해\\x00알아봅시다 \\n07.\\x00주석의\\x00활용에\\x00대해 \\n08.\\x00(응용실습)\\x00자동\\x00판매기를\\x00만들어\\x00볼까요? \\n본\\x00과정은\\x00현재\\x00촬영\\x00및\\x00편집이\\x00진행되고\\x00있는\\x00 사전\\x00판매\\x00중인\\x00강의 입니다.\\n해당\\x00교육과정\\x00소개서는\\x00변경되거나\\x00추가될\\x00수\\x00있습니다. CURRICULUM \\n부록\\x001.\\x00\\n기초\\x00프로그래밍\\x00\\n(Python)')]"
      ]
     },
     "execution_count": 19,
     "metadata": {},
     "output_type": "execute_result"
    }
   ],
   "source": [
    "# 임베딩으로 변환한 텍스트들이 담겨있는 db에 검색을 하기 위해서는 as_retriever함수를 사용한다.\n",
    "retriever = db.as_retriever()\n",
    "\n",
    "query = \"해당 수업에서 뭐를 가르쳐줄려고 하고 있어?\"\n",
    "\n",
    "#유사 문서 검색\n",
    "retriever.invoke(query)\n",
    "\n",
    "# 출력값을 보면 query의 질문과 가장 유사한 문서가 이렇다 라는걸 보여주고 있다. Document객체로 불러와지고 있다.(페이지도 보인다.)\n",
    "\n",
    "# 그럼 retriever를 활용해서 사용자의 질문이 들어왔을 때, 이런 유사문서를 기반으로 제대로된 답변을 하도록 만들수가 있다.\n",
    "# 아래 실습을 통해 알아보자"
   ]
  },
  {
   "cell_type": "markdown",
   "id": "2322d20c",
   "metadata": {},
   "source": [
    "### 문서기반의 내용으로 답변하는 llm만들기\n",
    "- retriever를 활용해서 사용자의 질문이 들어왔을 때, 내가 불러온 문서를 기반으로 답변을 하도록 만들기"
   ]
  },
  {
   "cell_type": "code",
   "execution_count": 21,
   "id": "bd6a367d-24eb-432d-91d6-f907e58cb053",
   "metadata": {},
   "outputs": [
    {
     "data": {
      "text/plain": [
       "\"강사 이름은 '강사케인'입니다.\""
      ]
     },
     "execution_count": 21,
     "metadata": {},
     "output_type": "execute_result"
    }
   ],
   "source": [
    "from langchain_openai import ChatOpenAI\n",
    "from langchain import hub # hub는 랭체인hub라는 커뮤니티에서 프롬프트를 공유하는 플랫폼이 있는데 거기서 내가 찾고자 하는 프롬프트를 검색해서 그대로 pull로 가져올 수 있다. \n",
    "from langchain_core.output_parsers import StrOutputParser\n",
    "from langchain_core.runnables import RunnablePassthrough\n",
    "\n",
    "model = ChatOpenAI(model=\"gpt-4o-mini\")\n",
    "prompt = hub.pull(\"rlm/rag-prompt\") # RAG에 적용하면 좋은 \"rlm/rag-prompt\"이라는 프롬프트를 가져와 사용\n",
    "\n",
    "# 문서의 page_content를 전처리해주는 함수\n",
    "# Document 객체에 있는 page_content만 뽑아서 \"\\n\\n\"이 줄바꿈을 기준으로 join을 해라.\n",
    "# 그럼 page_content을 전부 이어 붙이는것\n",
    "def format_docs(docs):\n",
    "    return \"\\n\\n\".join(doc.page_content for doc in docs)\n",
    "\n",
    "rag_chain = (\n",
    "    # \"context\"는 retriever의 검색결과를 format_docs함수에 적용한 결과를 저장하는거고,\n",
    "    # \"question\"의 RunnablePassthrough()는 이 체인에 들어온 입력값을 그대로 통과시킨다. invoke함수로 질문을 하면 그 질문이 question에 저장되게 된다.\n",
    "    {\"context\": retriever | format_docs, \"question\": RunnablePassthrough()}\n",
    "    | prompt # context와 question매개변수가 내가 정의한 prompt에 전달되게 되고 \n",
    "    | model # model에다가 prompt를 넘겨주고\n",
    "    | StrOutputParser() # 답변을 string형태로 받을 수 있게 한다.\n",
    ")\n",
    "\n",
    "rag_chain.invoke(\"강사 이름이 뭐야?\")\n",
    "\n",
    "# 만약 답변이 한글로 안나온다면 프롬프트를 따로 직접 시스템 메세지에다가 사용자 정의로 넣어주면 된다."
   ]
  }
 ],
 "metadata": {
  "kernelspec": {
   "display_name": ".venv",
   "language": "python",
   "name": "python3"
  },
  "language_info": {
   "codemirror_mode": {
    "name": "ipython",
    "version": 3
   },
   "file_extension": ".py",
   "mimetype": "text/x-python",
   "name": "python",
   "nbconvert_exporter": "python",
   "pygments_lexer": "ipython3",
   "version": "3.12.1"
  }
 },
 "nbformat": 4,
 "nbformat_minor": 5
}
