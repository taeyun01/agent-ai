{
 "cells": [
  {
   "cell_type": "code",
   "execution_count": 1,
   "id": "3b1de85a-cdf5-4cca-b683-5099e7aba318",
   "metadata": {},
   "outputs": [],
   "source": [
    "import warnings\n",
    "warnings.filterwarnings('ignore')"
   ]
  },
  {
   "cell_type": "markdown",
   "id": "711493de-8e87-4893-889c-536295bcba1a",
   "metadata": {},
   "source": [
    "#### **API 키 설정**"
   ]
  },
  {
   "cell_type": "code",
   "execution_count": null,
   "id": "1d83316f-1ffe-40d4-bedd-7b53a1f87126",
   "metadata": {},
   "outputs": [],
   "source": [
    "import os\n",
    "os.environ['OPENAI_API_KEY'] = \"내 OPEN AI 키\""
   ]
  },
  {
   "cell_type": "markdown",
   "id": "aa2311b1-f38a-44f6-a5cf-845db388f873",
   "metadata": {},
   "source": [
    "#### **필요 라이브러리 호출**"
   ]
  },
  {
   "cell_type": "code",
   "execution_count": null,
   "id": "72150ac1-59eb-47f8-92fd-23404067c9b1",
   "metadata": {},
   "outputs": [],
   "source": [
    "from typing import List, Annotated, Literal\n",
    "from typing_extensions import TypedDict\n",
    "from langchain_openai import ChatOpenAI\n",
    "from langchain_core.messages import AIMessage, SystemMessage, HumanMessage, ToolMessage\n",
    "from langgraph.checkpoint.memory import MemorySaver # 인메모리 상에서 그래프의 기억력 유지\n",
    "from langgraph.graph import StateGraph, START, END \n",
    "from langgraph.graph.message import add_messages # 계속 누적해서 메세지를 쌓기위한 함수\n",
    "from pydantic import BaseModel # pydantic 베이스모델 사용"
   ]
  },
  {
   "cell_type": "markdown",
   "id": "c522093f-4493-4fdb-a551-bc9f52a98776",
   "metadata": {},
   "source": [
    "#### **프롬프트 작성을 위한 정보 수집 함수 정의하기**"
   ]
  },
  {
   "cell_type": "code",
   "execution_count": 39,
   "id": "9d07f9d7-3152-4735-bf1c-91c53139c303",
   "metadata": {},
   "outputs": [],
   "source": [
    "template = \"\"\"Your job is to get information from a user about what type of prompt template they want to create.\n",
    "\n",
    "You should get the following information from them:\n",
    "\n",
    "- What the objective of the prompt is\n",
    "- What variables will be passed into the prompt template\n",
    "- Any constraints for what the output should NOT do\n",
    "- Any requirements that the output MUST adhere to\n",
    "\n",
    "If you are not able to discern this info, ask them to clarify! Do not attempt to wildly guess.\n",
    "\n",
    "After you are able to discern all the information, call the relevant tool.\"\"\"\n",
    "\n",
    "# 사용자와 ai사이에서 메세지를 주고 받을 때, State안에있는 messages 키값을 통해서 주고받게 되는데, 이 info체인에서 수행하는 역할은 ai가 계속해서 본인의 역할을 까먹지 않게 하기위해 작성\n",
    "# 사용자가 메세지를 입력했을때 그것을 그대로 ai가 수행하게 하는게 아니라 계속해서 사용자의 프롬프트를 구체화 하기 위한 본인의 역할을 까먹으면 안되니까, 그것을 유지해 주기 위해서 SystemMessage를 항상 messages 앞에다가 붙여줘서 그 역할을 유지할 수 있도록 만들어준다.\n",
    "def get_messages_info(messages):\n",
    "    return [SystemMessage(content=template)] + messages\n",
    "\n",
    "# 데이터모델 만들기 4가지의 키값을 받음\n",
    "class PromptInstructions(BaseModel):\n",
    "    \"\"\"Instructions on how to prompt the LLM.\"\"\"\n",
    "\n",
    "    objective: str\n",
    "    variables: List[str]\n",
    "    constraints: List[str]\n",
    "    requirements: List[str]\n",
    "\n",
    "\n",
    "llm = ChatOpenAI(model=\"gpt-4o-mini\",temperature=0) # llm모델 선언\n",
    "llm_with_tool = llm.bind_tools([PromptInstructions]) # PromptInstructions 데이터모델을 bind_tools로 엮어주면 llm이 4가지의 요소를 입출력으로 만들어줘야 되는구나 하고 인지할 수 있다.\n",
    "\n",
    "# info_chain을 통해 llm이 주어진 사용자의 프롬프트 요청에 대해서 상세사항을 시스템 메세지 하에 계속 해서 요청하게 되는 그런 흐름을 만들 수 있다.\n",
    "def info_chain(state):\n",
    "    messages = get_messages_info(state[\"messages\"]) # 사용자와 메세지를 주고 받을 때 계속해서 본인의 시스템 메세지를 상기 시키도록 get_messages_info를 엮어줌\n",
    "    response = llm_with_tool.invoke(messages) # llm_with_tool에 messages를 invoke해주면 시스템메세지가 유지된 상태로 사용자와 계속해서 상호작용을 한다.\n",
    "    return {\"messages\": [response]} # 이렇게 해서 나온 답변은 response에 저장한 다음 messages 키값에 업데이트 해준다."
   ]
  },
  {
   "cell_type": "markdown",
   "id": "7499c52d-afd7-4474-baef-f9ee5de09298",
   "metadata": {},
   "source": [
    "#### **프롬프트 작성 함수 정의하기**"
   ]
  },
  {
   "cell_type": "code",
   "execution_count": 41,
   "id": "ffc037d7-e91d-4f49-a641-99e98e82437f",
   "metadata": {},
   "outputs": [],
   "source": [
    "from langchain_core.messages import AIMessage, HumanMessage, ToolMessage\n",
    "\n",
    "# New system prompt\n",
    "prompt_system = \"\"\"Based on the following requirements, write a good prompt template:\n",
    "\n",
    "{reqs}\"\"\"\n",
    "# reqs 가 매개변수로 들어갔는데 reqs는 데이터모델에 키 값 4가지의 요소들이라고 볼 수 있다.\n",
    "\n",
    "# 프롬프트에 대한 메시지를 가져오는 함수\n",
    "# 도구 호출 이후에만 메시지를 받음\n",
    "def get_prompt_messages(messages: list):\n",
    "    tool_call = None\n",
    "    other_msgs = []\n",
    "    for m in messages:\n",
    "        if isinstance(m, AIMessage) and m.tool_calls:\n",
    "            tool_call = m.tool_calls[0][\"args\"]\n",
    "            print(tool_call)\n",
    "        elif isinstance(m, ToolMessage):\n",
    "            continue\n",
    "        elif tool_call is not None:\n",
    "            other_msgs.append(m)\n",
    "    return [SystemMessage(content=prompt_system.format(reqs=tool_call))] + other_msgs\n",
    "\n",
    "\n",
    "def prompt_gen_chain(state):\n",
    "    messages = get_prompt_messages(state[\"messages\"])\n",
    "    response = llm.invoke(messages)\n",
    "    return {\"messages\": [response]}"
   ]
  },
  {
   "cell_type": "markdown",
   "id": "8362e067-1aba-48ee-8bb2-88b290499419",
   "metadata": {},
   "source": [
    "#### **프롬프트 구성에 필요한 정보 수집을 완료하기 위한 edge 로직**"
   ]
  },
  {
   "cell_type": "code",
   "execution_count": 43,
   "id": "5860015a-e1c4-4c7e-82a1-11c732ff37b3",
   "metadata": {},
   "outputs": [],
   "source": [
    "from typing import Literal\n",
    "from langgraph.graph import END\n",
    "\n",
    "# 프롬프트 구성에 필요한 정보 수집이 완료될때까지 계속해서 상호작용 할 수 있게 info체인이 가동이 되도록 만들어줌\n",
    "def get_state(state) -> Literal[\"prompt\", \"info\", \"__end__\"]:\n",
    "    messages = state[\"messages\"]\n",
    "    if isinstance(messages[-1], AIMessage) and messages[-1].tool_calls: # 마지막 메세지가 ai메세지이거나 tool call을 가지고 있다면 \n",
    "        return \"prompt\" # 프롬프트로 넘어가게 \n",
    "    elif not isinstance(messages[-1], HumanMessage): # 사용자 메세지가 아니면 (즉, ai 메세지인데 노드가 없는것이라면)\n",
    "        return END # END로 감\n",
    "    return \"info\" # 그렇지 않으면 즉. 마지막 메세지가 사용자 메세지로 끝나면 info체인으로 연결"
   ]
  },
  {
   "cell_type": "markdown",
   "id": "acce87fb-7fde-49e5-b5c4-6f59595f74ce",
   "metadata": {},
   "source": [
    "#### **그래프 구축하기**"
   ]
  },
  {
   "cell_type": "code",
   "execution_count": 45,
   "id": "18632ebd-a437-42a0-b4ab-8992af5975f1",
   "metadata": {},
   "outputs": [],
   "source": [
    "class State(TypedDict):\n",
    "    messages: Annotated[list, add_messages]\n",
    "\n",
    "memory = MemorySaver()\n",
    "workflow = StateGraph(State)\n",
    "\n",
    "# 노드 추가\n",
    "workflow.add_node(\"info\", info_chain)\n",
    "workflow.add_node(\"prompt\", prompt_gen_chain)\n",
    "\n",
    "# 엣지 및 조건부 엣지 추가\n",
    "workflow.add_conditional_edges(\"info\", get_state)\n",
    "workflow.add_edge(\"prompt\", END)\n",
    "workflow.add_edge(START, \"info\")\n",
    "\n",
    "# 그래프 컴파일\n",
    "graph = workflow.compile(checkpointer=memory)"
   ]
  },
  {
   "cell_type": "markdown",
   "id": "a4ab2e4f-17f5-4850-b16e-f8e16de3a037",
   "metadata": {},
   "source": [
    "#### **그래프 시각화**"
   ]
  },
  {
   "cell_type": "code",
   "execution_count": 47,
   "id": "101f2296-175a-48b7-87bf-b1f01a4a8242",
   "metadata": {},
   "outputs": [
    {
     "data": {
      "image/jpeg": "[encoded data removed]",
      "text/plain": [
       "<IPython.core.display.Image object>"
      ]
     },
     "metadata": {},
     "output_type": "display_data"
    }
   ],
   "source": [
    "from IPython.display import Image, display\n",
    "\n",
    "display(Image(graph.get_graph().draw_mermaid_png()))"
   ]
  },
  {
   "cell_type": "markdown",
   "id": "e94d3d77-df04-4e39-94e4-5acf1970770d",
   "metadata": {},
   "source": [
    "#### **그래프 실행**"
   ]
  },
  {
   "cell_type": "code",
   "execution_count": 49,
   "id": "4b3b1c29-3d4a-4c17-b934-3b45a7aaad28",
   "metadata": {},
   "outputs": [
    {
     "name": "stdout",
     "output_type": "stream",
     "text": [
      "User (q/Q to quit):  시를 작성하는 프롬프트를 만들어줘\n"
     ]
    },
    {
     "name": "stdout",
     "output_type": "stream",
     "text": [
      "==================================\u001b[1m Ai Message \u001b[0m==================================\n",
      "\n",
      "시를 작성하는 프롬프트를 만들기 위해 몇 가지 정보를 더 필요로 합니다. 다음 질문에 답해 주실 수 있나요?\n",
      "\n",
      "1. 시의 목적은 무엇인가요? (예: 감정 표현, 특정 주제에 대한 탐구 등)\n",
      "2. 프롬프트 템플릿에 어떤 변수를 포함할 건가요? (예: 주제, 감정, 특정 단어 등)\n",
      "3. 출력에서 피해야 할 제약 조건이 있나요? (예: 특정 단어 사용 금지, 특정 형식 준수 등)\n",
      "4. 출력이 반드시 따라야 할 요구 사항이 있나요? (예: 특정 길이, 특정 스타일 등)\n",
      "\n",
      "이 정보를 제공해 주시면, 적절한 프롬프트 템플릿을 만들어 드리겠습니다.\n"
     ]
    },
    {
     "name": "stdout",
     "output_type": "stream",
     "text": [
      "User (q/Q to quit):  프롬프트의 목적은 사용자로부터 입력받은 감정에 알맞은 시를 작성하는거야. 변수는 감정이고, 나머지는 알아서 설정해줘.\n"
     ]
    },
    {
     "name": "stdout",
     "output_type": "stream",
     "text": [
      "==================================\u001b[1m Ai Message \u001b[0m==================================\n",
      "\n",
      "감정에 알맞은 시를 작성하는 프롬프트를 만들기 위해 추가적인 정보를 요청드립니다.\n",
      "\n",
      "1. 출력에서 피해야 할 제약 조건이 있나요? (예: 특정 단어 사용 금지, 특정 형식 준수 등)\n",
      "2. 출력이 반드시 따라야 할 요구 사항이 있나요? (예: 특정 길이, 특정 스타일 등)\n",
      "\n",
      "이 두 가지 정보를 제공해 주시면, 프롬프트 템플릿을 완성할 수 있습니다.\n"
     ]
    },
    {
     "name": "stdout",
     "output_type": "stream",
     "text": [
      "User (q/Q to quit):  그냥 넘어가줘.\n"
     ]
    },
    {
     "name": "stdout",
     "output_type": "stream",
     "text": [
      "==================================\u001b[1m Ai Message \u001b[0m==================================\n",
      "Tool Calls:\n",
      "  PromptInstructions (call_tWsavxrMu9sM2DsGQKGYb7a2)\n",
      " Call ID: call_tWsavxrMu9sM2DsGQKGYb7a2\n",
      "  Args:\n",
      "    objective: 사용자에게 입력받은 감정에 알맞은 시를 작성한다.\n",
      "    variables: ['감정']\n",
      "    constraints: []\n",
      "    requirements: ['시의 형식은 자유롭게 작성한다.', '감정에 맞는 언어와 이미지를 사용한다.']\n",
      "{'objective': '사용자에게 입력받은 감정에 알맞은 시를 작성한다.', 'variables': ['감정'], 'constraints': [], 'requirements': ['시의 형식은 자유롭게 작성한다.', '감정에 맞는 언어와 이미지를 사용한다.']}\n",
      "==================================\u001b[1m Ai Message \u001b[0m==================================\n",
      "\n",
      "**Prompt Template:**\n",
      "\n",
      "\"사용자가 입력한 감정에 맞춰 시를 작성해 주세요. 감정: {감정}. 시의 형식은 자유롭게 선택하되, 해당 감정에 적합한 언어와 이미지를 사용하여 감정을 잘 표현해 주세요.\"\n",
      "Done!\n"
     ]
    },
    {
     "name": "stdout",
     "output_type": "stream",
     "text": [
      "User (q/Q to quit):  q\n"
     ]
    },
    {
     "name": "stdout",
     "output_type": "stream",
     "text": [
      "AI: Byebye\n"
     ]
    }
   ],
   "source": [
    "import uuid\n",
    "\n",
    "config = {\"configurable\": {\"thread_id\": str(uuid.uuid4())}}\n",
    "while True:\n",
    "    user = input(\"User (q/Q to quit): \")\n",
    "    if user in {\"q\", \"Q\"}:\n",
    "        print(\"AI: Byebye\")\n",
    "        break\n",
    "    output = None\n",
    "    for output in graph.stream(\n",
    "        {\"messages\": [HumanMessage(content=user)]}, config=config, stream_mode=\"updates\"\n",
    "    ):\n",
    "        last_message = next(iter(output.values()))[\"messages\"][-1]\n",
    "        last_message.pretty_print()\n",
    "\n",
    "    if output and \"prompt\" in output:\n",
    "        print(\"Done!\")"
   ]
  },
  {
   "cell_type": "code",
   "execution_count": null,
   "id": "c019e6d5-efa5-40a5-9241-65ab3a5d4946",
   "metadata": {},
   "outputs": [],
   "source": []
  }
 ],
 "metadata": {
  "kernelspec": {
   "display_name": "Python 3",
   "language": "python",
   "name": "python3"
  },
  "language_info": {
   "codemirror_mode": {
    "name": "ipython",
    "version": 3
   },
   "file_extension": ".py",
   "mimetype": "text/x-python",
   "name": "python",
   "nbconvert_exporter": "python",
   "pygments_lexer": "ipython3",
   "version": "3.12.1"
  }
 },
 "nbformat": 4,
 "nbformat_minor": 5
}
