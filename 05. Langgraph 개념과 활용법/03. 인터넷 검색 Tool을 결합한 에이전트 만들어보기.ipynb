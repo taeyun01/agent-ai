{
 "cells": [
  {
   "cell_type": "code",
   "execution_count": null,
   "id": "50a765b5-8da4-4e37-bafa-0c6918e55d96",
   "metadata": {},
   "outputs": [],
   "source": [
    "import os\n",
    "os.environ['OPENAI_API_KEY'] = \"\"\n",
    "os.environ['TAVILY_API_KEY'] = \"\""
   ]
  },
  {
   "cell_type": "markdown",
   "id": "67e29164-e999-4d7a-85bc-2e32f3629456",
   "metadata": {},
   "source": [
    "#### **상태 설정**"
   ]
  },
  {
   "cell_type": "code",
   "execution_count": 39,
   "id": "8cf7e07c-617c-4b16-8efc-4ddf6f055eb8",
   "metadata": {
    "scrolled": true
   },
   "outputs": [],
   "source": [
    "from typing import Annotated\n",
    "from typing_extensions import TypedDict\n",
    "from langgraph.graph.message import add_messages\n",
    "\n",
    "class State(TypedDict):\n",
    "    messages: Annotated[list, add_messages]"
   ]
  },
  {
   "cell_type": "markdown",
   "id": "0882f558-5612-4acd-88fc-4a9728849499",
   "metadata": {},
   "source": [
    "#### **ToolNode로 도구 노드 구축**"
   ]
  },
  {
   "cell_type": "code",
   "execution_count": 41,
   "id": "c2761aad-b474-46d1-9ae4-4ec6a23db6d0",
   "metadata": {},
   "outputs": [],
   "source": [
    "from langchain_community.tools.tavily_search import TavilySearchResults\n",
    "from langgraph.prebuilt import ToolNode, tools_condition\n",
    "\n",
    "tool = TavilySearchResults(max_results=2)\n",
    "tools = [tool]\n",
    "tool_node = ToolNode(tools)"
   ]
  },
  {
   "cell_type": "markdown",
   "id": "ac8da11e-b181-4ad0-8eaf-872bc88cc08c",
   "metadata": {
    "jp-MarkdownHeadingCollapsed": true
   },
   "source": [
    "#### **Tool Node가 무엇일까**"
   ]
  },
  {
   "cell_type": "code",
   "execution_count": null,
   "id": "1986281a-557b-4373-bbd4-4bffe84456d9",
   "metadata": {},
   "outputs": [],
   "source": [
    "import json\n",
    "\n",
    "from langchain_core.messages import ToolMessage\n",
    "\n",
    "class BasicToolNode:\n",
    "    \"\"\"A node that runs the tools requested in the last AIMessage.\"\"\"\n",
    "\n",
    "    def __init__(self, tools: list) -> None:\n",
    "        self.tools_by_name = {tool.name: tool for tool in tools}\n",
    "\n",
    "    def __call__(self, inputs: dict):\n",
    "        if messages := inputs.get(\"messages\", []):\n",
    "            message = messages[-1]\n",
    "        else:\n",
    "            raise ValueError(\"No message found in input\")\n",
    "        outputs = []\n",
    "        for tool_call in message.tool_calls:\n",
    "            tool_result = self.tools_by_name[tool_call[\"name\"]].invoke(\n",
    "                tool_call[\"args\"]\n",
    "            )\n",
    "            outputs.append(\n",
    "                ToolMessage(\n",
    "                    content=json.dumps(tool_result),\n",
    "                    name=tool_call[\"name\"],\n",
    "                    tool_call_id=tool_call[\"id\"],\n",
    "                )\n",
    "            )\n",
    "        return {\"messages\": outputs}"
   ]
  },
  {
   "cell_type": "markdown",
   "id": "d957217d-6f18-4d51-8078-a51fb933fc73",
   "metadata": {},
   "source": [
    "#### **LLM 챗봇 설정**"
   ]
  },
  {
   "cell_type": "code",
   "execution_count": 43,
   "id": "f540a6bb-d1af-4524-964e-6262d5c41b77",
   "metadata": {},
   "outputs": [],
   "source": [
    "from langchain_openai import ChatOpenAI\n",
    "\n",
    "llm = ChatOpenAI(model=\"gpt-4o-mini\")\n",
    "llm_with_tools = llm.bind_tools(tools)\n",
    "\n",
    "def chatbot(state: State):\n",
    "    result = llm_with_tools.invoke(state[\"messages\"])\n",
    "    return {\"messages\": [result]}"
   ]
  },
  {
   "cell_type": "markdown",
   "id": "17a32949-d663-47e0-9304-24a16ee8baad",
   "metadata": {},
   "source": [
    "#### **그래프 구축**"
   ]
  },
  {
   "cell_type": "code",
   "execution_count": 45,
   "id": "517cda6b-cbec-4034-9957-995751f1598f",
   "metadata": {},
   "outputs": [],
   "source": [
    "from langgraph.graph import StateGraph\n",
    "\n",
    "graph_builder = StateGraph(State)\n",
    "\n",
    "graph_builder.add_node(\"chatbot\", chatbot)\n",
    "graph_builder.add_node(\"tools\", tool_node)\n",
    "\n",
    "graph_builder.add_edge(\"tools\", \"chatbot\")\n",
    "graph_builder.add_conditional_edges(\"chatbot\", tools_condition)\n",
    "\n",
    "graph_builder.set_entry_point(\"chatbot\")\n",
    "graph = graph_builder.compile()"
   ]
  },
  {
   "cell_type": "markdown",
   "id": "3532270c-95ee-4f29-b8c8-e6cc3fac4347",
   "metadata": {},
   "source": [
    "**인터넷 검색이 필요한 질문**"
   ]
  },
  {
   "cell_type": "code",
   "execution_count": 47,
   "id": "d261bc3e-cc7a-4c32-8eb4-a61adb5b0e66",
   "metadata": {},
   "outputs": [
    {
     "data": {
      "text/plain": [
       "{'messages': [HumanMessage(content='지금 한국 대통령은 누구야?', id='0ecd1263-8ec6-4b62-bb55-a334220783b0'),\n",
       "  AIMessage(content='', additional_kwargs={'tool_calls': [{'id': 'call_W8Fdmn3UbyGHXuZyE12dp1nQ', 'function': {'arguments': '{\"query\":\"현재 한국 대통령\"}', 'name': 'tavily_search_results_json'}, 'type': 'function'}], 'refusal': None}, response_metadata={'token_usage': {'completion_tokens': 20, 'prompt_tokens': 87, 'total_tokens': 107}, 'model_name': 'gpt-4o-mini-2024-07-18', 'system_fingerprint': 'fp_f33667828e', 'finish_reason': 'tool_calls', 'logprobs': None}, id='run-e549bad6-0401-44f3-9e54-9846814c8d8c-0', tool_calls=[{'name': 'tavily_search_results_json', 'args': {'query': '현재 한국 대통령'}, 'id': 'call_W8Fdmn3UbyGHXuZyE12dp1nQ', 'type': 'tool_call'}], usage_metadata={'input_tokens': 87, 'output_tokens': 20, 'total_tokens': 107}),\n",
       "  ToolMessage(content='[{\"url\": \"https://namu.wiki/w/\\\\ub300\\\\ud55c\\\\ubbfc\\\\uad6d \\\\ub300\\\\ud1b5\\\\ub839\", \"content\": \"\\\\ub300\\\\ud55c\\\\ubbfc\\\\uad6d \\\\ub300\\\\ud1b5\\\\ub839 \\\\uc740 \\\\ub300\\\\ud55c\\\\ubbfc\\\\uad6d \\\\uc758 \\\\ub300\\\\ud1b5\\\\ub839 \\\\uae30\\\\uad00 (\\\\u6a5f\\\\u95dc)\\\\u00b7\\\\uc9c1\\\\uc704 (\\\\u8077\\\\u4f4d) \\\\ubc0f \\\\uc774\\\\ub97c \\\\uc218\\\\ud589\\\\ud558\\\\ub294 \\\\uc778\\\\ubb3c\\\\uc744 \\\\uac00\\\\ub9ac\\\\ud0a8\\\\ub2e4. \\\\ub300\\\\ud55c\\\\ubbfc\\\\uad6d\\\\uc758 \\\\ud604\\\\uc9c1 \\\\ub300\\\\ud1b5\\\\ub839\\\\uc740 \\\\uc81c20\\\\ub300 \\\\uc724\\\\uc11d\\\\uc5f4 \\\\uc774\\\\uba70, \\\\uc784\\\\uae30\\\\ub294 2022\\\\ub144 5\\\\uc6d4 10\\\\uc77c \\\\ubd80\\\\ud130 2027\\\\ub144 5\\\\uc6d4 9\\\\uc77c \\\\uae4c\\\\uc9c0\\\\uc774\\\\ub2e4. \\\\ub300\\\\ud1b5\\\\ub839\\\\uc740 \\\\ub300\\\\ud55c\\\\ubbfc\\\\uad6d \\\\ud5cc\\\\ubc95 \\\\uc81c66\\\\uc870\\\\uc5d0\\\\uc11c \\\\uc815\\\\uc758\\\\ud558\\\\ub294 \\\\ud5cc\\\\ubc95\\\\uae30\\\\uad00 \\\\uc73c\\\\ub85c ...\"}, {\"url\": \"https://namu.wiki/w/\\\\uc724\\\\uc11d\\\\uc5f4\", \"content\": \"\\\\uc724\\\\uc11d\\\\uc5f4 \\\\ub300\\\\ud1b5\\\\ub839 \\\\ucde8\\\\uc784 (2022\\\\ub144 5\\\\uc6d4 10\\\\uc77c) \\\\uc774\\\\ud6c4 \\\\uccab \\\\ud55c\\\\ubbf8\\\\uc815\\\\uc0c1\\\\ud68c\\\\ub2f4 \\\\uac1c\\\\ucd5c\\\\uc77c\\\\uc740 2022\\\\ub144 5\\\\uc6d4 21\\\\uc77c \\\\uc774\\\\uba70, \\\\uc774\\\\ub294 \\\\ucde8\\\\uc784\\\\ud55c \\\\uc9c0 11\\\\uc77c \\\\ub9cc\\\\uc774\\\\ub2e4. \\\\ub610\\\\ud55c \\\\uc6b0\\\\ub9ac\\\\ub098\\\\ub77c \\\\ub300\\\\ud1b5\\\\ub839\\\\uc774 \\\\ubc29\\\\ubbf8\\\\ud558\\\\uae30 \\\\uc804\\\\uc5d0 \\\\ubbf8\\\\uad6d \\\\uc815\\\\uc0c1\\\\uc774 \\\\uba3c\\\\uc800 \\\\uc6b0\\\\ub9ac\\\\ub098\\\\ub77c\\\\ub97c \\\\ubc29\\\\ubb38\\\\ud558\\\\ub294 \\\\uc138 \\\\ubc88\\\\uc9f8 \\\\uc0ac\\\\ub840\\\\uc774\\\\uae30\\\\ub3c4 \\\\ud558\\\\ub2e4. # [39] \\\\ucde8\\\\uc784 \\\\ud6c4 60\\\\uc77c \\\\ub9cc\\\\uc774\\\\ub2e4. [40] \\\\ub300\\\\ud1b5\\\\ub839 ...\"}]', name='tavily_search_results_json', id='92480d5f-6c8a-496d-b011-a3634ebd59d5', tool_call_id='call_W8Fdmn3UbyGHXuZyE12dp1nQ'),\n",
       "  AIMessage(content='현재 대한민국의 대통령은 윤석열입니다. 그는 2022년 5월 10일에 취임하였으며, 임기는 2027년 5월 9일까지입니다. 더 자세한 정보는 [여기](https://namu.wiki/w/%EC%9C%A4%EC%84%9D%EC%97%B4)에서 확인하실 수 있습니다.', additional_kwargs={'refusal': None}, response_metadata={'token_usage': {'completion_tokens': 87, 'prompt_tokens': 900, 'total_tokens': 987}, 'model_name': 'gpt-4o-mini-2024-07-18', 'system_fingerprint': 'fp_f33667828e', 'finish_reason': 'stop', 'logprobs': None}, id='run-8468b2b2-b8a2-465a-9d90-dda9d0a5c6f0-0', usage_metadata={'input_tokens': 900, 'output_tokens': 87, 'total_tokens': 987})]}"
      ]
     },
     "execution_count": 47,
     "metadata": {},
     "output_type": "execute_result"
    }
   ],
   "source": [
    "graph.invoke({\"messages\": {\"role\": \"user\", \"content\": \"지금 한국 대통령은 누구야?\"}})"
   ]
  },
  {
   "cell_type": "markdown",
   "id": "76572368-5cd1-4317-bc3e-247203ff28a5",
   "metadata": {},
   "source": [
    "**LLM이 답할 수 있는 질문**"
   ]
  },
  {
   "cell_type": "code",
   "execution_count": 49,
   "id": "6dd9acc9-84b0-4a30-b07d-cb99ed452c45",
   "metadata": {},
   "outputs": [
    {
     "data": {
      "text/plain": [
       "{'messages': [HumanMessage(content='마이크로소프트가 어떤 회사야?', id='15a7fd9f-5afb-4c7d-91be-b99a8fef88c2'),\n",
       "  AIMessage(content='마이크로소프트(Microsoft)는 미국의 다국적 기술 기업으로, 소프트웨어, 하드웨어, 전자 제품 및 서비스 분야에서 활동하고 있습니다. 1975년 빌 게이츠와 폴 앨런에 의해 설립된 이 회사는 세계에서 가장 큰 소프트웨어 제작업체 중 하나로 알려져 있습니다.\\n\\n마이크로소프트의 가장 유명한 제품은 다음과 같습니다:\\n\\n1. **운영 체제**: Windows 시리즈는 개인용 컴퓨터와 서버에서 널리 사용되는 운영 체제입니다.\\n2. **오피스 제품군**: Microsoft Office는 워드, 엑셀, 파워포인트 등 다양한 생산성 도구를 포함하고 있습니다.\\n3. **클라우드 서비스**: Azure는 마이크로소프트의 클라우드 컴퓨팅 플랫폼으로, 기업들이 클라우드 기반의 서비스를 구축하고 운영할 수 있게 돕습니다.\\n4. **게임**: Xbox 게임 콘솔과 Xbox Live 서비스는 마이크로소프트의 게임 분야에서 중요한 제품입니다.\\n5. **소프트웨어 개발**: Visual Studio와 같은 개발 도구를 제공하여 소프트웨어 개발자를 지원합니다.\\n\\n마이크로소프트는 또한 인공지능(AI), 가상 현실(VR), 증강 현실(AR), 그리고 다양한 혁신 기술 분야에서도 활발히 연구 및 개발을 진행하고 있습니다. 이 회사는 전 세계적으로 수많은 직원과 고객을 보유하고 있으며, 기술 혁신과 기업 사회적 책임에 중점을 두고 운영되고 있습니다.', additional_kwargs={'refusal': None}, response_metadata={'token_usage': {'completion_tokens': 334, 'prompt_tokens': 89, 'total_tokens': 423}, 'model_name': 'gpt-4o-mini-2024-07-18', 'system_fingerprint': 'fp_9722793223', 'finish_reason': 'stop', 'logprobs': None}, id='run-f8a0ff03-0113-44f6-a500-3dbd8c5c9cbf-0', usage_metadata={'input_tokens': 89, 'output_tokens': 334, 'total_tokens': 423})]}"
      ]
     },
     "execution_count": 49,
     "metadata": {},
     "output_type": "execute_result"
    }
   ],
   "source": [
    "graph.invoke({\"messages\": {\"role\": \"user\", \"content\": \"마이크로소프트가 어떤 회사야?\"}})"
   ]
  }
 ],
 "metadata": {
  "kernelspec": {
   "display_name": "Python 3 (ipykernel)",
   "language": "python",
   "name": "python3"
  },
  "language_info": {
   "codemirror_mode": {
    "name": "ipython",
    "version": 3
   },
   "file_extension": ".py",
   "mimetype": "text/x-python",
   "name": "python",
   "nbconvert_exporter": "python",
   "pygments_lexer": "ipython3",
   "version": "3.12.4"
  }
 },
 "nbformat": 4,
 "nbformat_minor": 5
}
