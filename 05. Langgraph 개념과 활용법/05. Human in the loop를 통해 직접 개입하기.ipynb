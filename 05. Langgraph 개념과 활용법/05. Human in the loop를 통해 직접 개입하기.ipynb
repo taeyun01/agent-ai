{
 "cells": [
  {
   "cell_type": "code",
   "execution_count": 1,
   "id": "0dd2d0c3-6649-447c-bd0a-509816f590b4",
   "metadata": {
    "jupyter": {
     "source_hidden": true
    }
   },
   "outputs": [
    {
     "data": {
      "text/plain": [
       "True"
      ]
     },
     "execution_count": 1,
     "metadata": {},
     "output_type": "execute_result"
    }
   ],
   "source": [
    "from dotenv import load_dotenv\n",
    "\n",
    "load_dotenv()"
   ]
  },
  {
   "cell_type": "markdown",
   "id": "5551f6fe",
   "metadata": {},
   "source": [
    "랭그래프를 구축하고 대화하는 과정에서 사람이 직접 개입할 수 있도록 설정\n",
    "\n",
    "특정 액션을 취하기 이전에 멈추도록 설정"
   ]
  },
  {
   "cell_type": "code",
   "execution_count": 1,
   "id": "e474ae6e-7473-46e4-9364-ac69a0b4e06a",
   "metadata": {},
   "outputs": [],
   "source": [
    "# 웹검색 에이전트를 만들었을 때 코드 그대로 사용\n",
    "from typing import Annotated\n",
    "from typing_extensions import TypedDict\n",
    "from langgraph.graph.message import add_messages\n",
    "from langchain_community.tools.tavily_search import TavilySearchResults\n",
    "from langgraph.prebuilt import ToolNode, tools_condition\n",
    "from langchain_openai import ChatOpenAI\n",
    "from langgraph.graph import StateGraph\n",
    "\n",
    "from langgraph.checkpoint.memory import MemorySaver\n",
    "\n",
    "memory = MemorySaver()\n",
    "\n",
    "class State(TypedDict):\n",
    "    messages: Annotated[list, add_messages]\n",
    "\n",
    "tool = TavilySearchResults(max_results=2)\n",
    "tools = [tool]\n",
    "tool_node = ToolNode(tools)\n",
    "\n",
    "llm = ChatOpenAI(model=\"gpt-4o-mini\")\n",
    "llm_with_tools = llm.bind_tools(tools)\n",
    "\n",
    "def chatbot(state: State):\n",
    "    result = llm_with_tools.invoke(state[\"messages\"])\n",
    "    return {\"messages\": [result]}\n",
    "\n",
    "graph_builder = StateGraph(State)\n",
    "\n",
    "graph_builder.add_node(\"chatbot\", chatbot)\n",
    "graph_builder.add_node(\"tools\", tool_node)\n",
    "\n",
    "graph_builder.add_edge(\"tools\", \"chatbot\")\n",
    "graph_builder.add_conditional_edges(\"chatbot\", tools_condition)\n",
    "\n",
    "graph_builder.set_entry_point(\"chatbot\")\n",
    "graph = graph_builder.compile(\n",
    "    checkpointer=memory,\n",
    "    interrupt_before=[\"tools\"]) # 라이브러리 사용없이 interrupt_before 파라미터만 추가해서 사용하면 된다.\n",
    "                                # 특정 노드를 실행하기 이전에 멈추게 하는 파라미터 ([\"toools\"]를 넣어줬을때 toolsa노드를 실행하기 이전에 그래프가 실행을 멈춤)"
   ]
  },
  {
   "cell_type": "code",
   "execution_count": null,
   "id": "7e03451c-6735-427b-a4ea-7fdff96a0f10",
   "metadata": {},
   "outputs": [
    {
     "name": "stdout",
     "output_type": "stream",
     "text": [
      "================================\u001b[1m Human Message \u001b[0m=================================\n",
      "\n",
      "Langgraph가 뭐야?\n",
      "==================================\u001b[1m Ai Message \u001b[0m==================================\n",
      "Tool Calls:\n",
      "  tavily_search_results_json (call_y4tzCwuasYnY08vbKAFTKiZS)\n",
      " Call ID: call_y4tzCwuasYnY08vbKAFTKiZS\n",
      "  Args:\n",
      "    query: Langgraph\n"
     ]
    }
   ],
   "source": [
    "user_input = \"Langgraph가 뭐야?\" # 질문 \n",
    "config = {\"configurable\": {\"thread_id\": \"1\"}} # thread_id: 1 에 저장\n",
    "\n",
    "# 대화를 스트리밍 하도록 설정\n",
    "events = graph.stream(\n",
    "    {\"messages\": [(\"user\", user_input)]}, config, stream_mode=\"values\"\n",
    ")\n",
    "\n",
    "for event in events:\n",
    "    if \"messages\" in event:\n",
    "        event[\"messages\"][-1].pretty_print()\n",
    "\n",
    "# Langgraph가 뭐야? 라는 질문을 주면 웹검색이 필요할 건데, \n",
    "# 아래 결과를 보면 실제로 웹 검색까지 실행하는 (Tool Calls) AI Message까지 볼 수 있다.\n",
    "# 이 다음 ToolNode로 들어가서 Tool이 실행되는 것 까지는 확인할 수 없다.\n",
    "# interrupt_before 라는 파라미터를 설정해줬기 때문이다.\n",
    "\n",
    "# 어떤 노드가 실행되기 이전에 한번 멈추고 중간에 사용자가 입력을 하도록 만들어 줄 수 있다.\n",
    "# 이전에 있었던 스테이트 값들을 변경을 해서 내가 원하는 형태로 대화를 이끌어갈 수 있게끔 만들어줄 수도 있다."
   ]
  }
 ],
 "metadata": {
  "kernelspec": {
   "display_name": "Python 3",
   "language": "python",
   "name": "python3"
  },
  "language_info": {
   "codemirror_mode": {
    "name": "ipython",
    "version": 3
   },
   "file_extension": ".py",
   "mimetype": "text/x-python",
   "name": "python",
   "nbconvert_exporter": "python",
   "pygments_lexer": "ipython3",
   "version": "3.12.1"
  }
 },
 "nbformat": 4,
 "nbformat_minor": 5
}
