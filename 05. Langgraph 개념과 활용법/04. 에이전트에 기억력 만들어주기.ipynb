{
 "cells": [
  {
   "cell_type": "code",
   "execution_count": null,
   "id": "dbf83a78-1951-495c-a19f-294ddd6787c6",
   "metadata": {},
   "outputs": [],
   "source": [
    "from dotenv import load_dotenv\n",
    "\n",
    "load_dotenv()"
   ]
  },
  {
   "cell_type": "markdown",
   "id": "a08355da-41aa-4ab4-b869-205dbfffa7a7",
   "metadata": {},
   "source": [
    "#### **기억력 만들기**"
   ]
  },
  {
   "cell_type": "code",
   "execution_count": 279,
   "id": "3d977058-2434-4442-b0a5-c2d4e1ec2f1f",
   "metadata": {},
   "outputs": [],
   "source": [
    "from typing import Annotated\n",
    "from typing_extensions import TypedDict\n",
    "from langgraph.graph.message import add_messages\n",
    "from langchain_community.tools.tavily_search import TavilySearchResults\n",
    "from langgraph.prebuilt import ToolNode, tools_condition\n",
    "from langchain_openai import ChatOpenAI\n",
    "from langgraph.graph import StateGraph\n",
    "\n",
    "from langgraph.checkpoint.memory import MemorySaver\n",
    "\n",
    "memory = MemorySaver()\n",
    "\n",
    "class State(TypedDict):\n",
    "    messages: Annotated[list, add_messages]\n",
    "\n",
    "tool = TavilySearchResults(max_results=2)\n",
    "tools = [tool]\n",
    "tool_node = ToolNode(tools)\n",
    "\n",
    "llm = ChatOpenAI(model=\"gpt-4o-mini\")\n",
    "llm_with_tools = llm.bind_tools(tools)\n",
    "\n",
    "def chatbot(state: State):\n",
    "    result = llm_with_tools.invoke(state[\"messages\"])\n",
    "    return {\"messages\": [result]}\n",
    "\n",
    "graph_builder = StateGraph(State)\n",
    "\n",
    "graph_builder.add_node(\"chatbot\", chatbot)\n",
    "graph_builder.add_node(\"tools\", tool_node)\n",
    "\n",
    "graph_builder.add_edge(\"tools\", \"chatbot\")\n",
    "graph_builder.add_conditional_edges(\"chatbot\", tools_condition)\n",
    "\n",
    "graph_builder.set_entry_point(\"chatbot\")\n",
    "graph = graph_builder.compile(checkpointer=memory)"
   ]
  },
  {
   "cell_type": "code",
   "execution_count": 281,
   "id": "61986698-4d61-41c4-a691-785b42fdffc9",
   "metadata": {},
   "outputs": [
    {
     "name": "stdout",
     "output_type": "stream",
     "text": [
      "User:  대한민국의 대통령은 누구야?\n"
     ]
    },
    {
     "name": "stdout",
     "output_type": "stream",
     "text": [
      "Assistant: \n",
      "Assistant: [{\"url\": \"https://en.wikipedia.org/wiki/President_of_South_Korea\", \"content\": \"The current president, Yoon Suk Yeol, a former prosecutor general and member of the conservative People Power Party, assumed office on 10 May 2022,[3][4] after defeating the Democratic Party's nominee Lee Jae-myung with a narrow 48.5% plurality in the 2022 South Korean presidential election.[5]\\nHistory[edit]\\nPrior to the establishment of the First Republic in 1948, the Provisional Government of the Republic of Korea established in Shanghai in September 1919 as the continuation of several governments proclaimed in the aftermath of March 1st Movement earlier that year coordinated resistance against Japanese rule. However, such individuals are still entitled to retain security protection under the Presidential Security Act.[15]\\nOrder of succession[edit]\\nArticle 71 of the Constitution of South Korea states, 'In the event of the president not being able to discharge the duties of his/her office, the Prime Minister and ministers in line of the order of succession shall be the acting president.' Chaired by the president, the council in 1990 had as its statutory members the prime minister, the deputy prime minister, the ministers for foreign affairs, home affairs, finance, and national defense, the director of the Agency for National Security Planning (ANSP) which was known as the Korean Central Intelligence Agency (KCIA) until December 1980, and others designated by the president. In the case of the President, the motion must be proposed by a majority and approved by two thirds or more of the total members of the National Assembly, meaning that 200 of 300 members of the parliament must approve the bill. Contents\\nPresident of South Korea\\nThe president of the Republic of Korea (Korean:\\u00a0\\ub300\\ud55c\\ubbfc\\uad6d \\ub300\\ud1b5\\ub839; RR:\\u00a0Daehanmin-guk daetongnyeong), also known as the president of South Korea (Korean:\\u00a0\\ub300\\ud1b5\\ub839), is the head of state and head of government of the Republic of Korea.\"}, {\"url\": \"https://apnews.com/article/south-korea-election-president-yoon-76d0d61593c9ab85504bcf4b66c2c168\", \"content\": \"FILE - South Korean President Yoon Suk Yeol takes an oath during his inauguration in front of the National Assembly in Seoul, South Korea, on May 10, 2022. South Korean voters have handed liberals extended opposition control of parliament in what looks like a massive political setback to conservative President Yoon Suk Yeol.\"}]\n",
      "Assistant: 현재 대한민국의 대통령은 윤석열(Yoon Suk Yeol)입니다. 그는 2022년 5월 10일에 취임하였으며, 보수당인 국민의힘 소속입니다. 더 자세한 내용은 [위키피디아](https://en.wikipedia.org/wiki/President_of_South_Korea)에서 확인하실 수 있습니다.\n"
     ]
    },
    {
     "name": "stdout",
     "output_type": "stream",
     "text": [
      "User:  첫질문이 뭐였어?\n"
     ]
    },
    {
     "name": "stdout",
     "output_type": "stream",
     "text": [
      "Assistant: 첫 질문은 \"대한민국의 대통령은 누구야?\"였습니다.\n"
     ]
    },
    {
     "name": "stdout",
     "output_type": "stream",
     "text": [
      "User:  q\n"
     ]
    },
    {
     "name": "stdout",
     "output_type": "stream",
     "text": [
      "Goodbye!\n"
     ]
    }
   ],
   "source": [
    "config = {\"configurable\": {\"thread_id\": \"1\"}}\n",
    "while True:\n",
    "    user_input = input(\"User: \")\n",
    "    if user_input.lower() in [\"quit\", \"exit\", \"q\"]:\n",
    "        print(\"Goodbye!\")\n",
    "        break\n",
    "    for event in graph.stream({\"messages\": (\"user\", user_input)}, config):\n",
    "        for value in event.values():\n",
    "            print(\"Assistant:\", value[\"messages\"][-1].content)"
   ]
  },
  {
   "cell_type": "code",
   "execution_count": 283,
   "id": "3a318111-1cd5-4cce-ba3a-22e441af948a",
   "metadata": {
    "scrolled": true
   },
   "outputs": [
    {
     "data": {
      "text/plain": [
       "StateSnapshot(values={'messages': [HumanMessage(content='대한민국의 대통령은 누구야?', id='5f02c2f5-eaaf-4264-9560-10f9f937ace0'), AIMessage(content='', additional_kwargs={'tool_calls': [{'id': 'call_w3xccisanSEY9PI5QbKbD7Jl', 'function': {'arguments': '{\"query\":\"current president of South Korea\"}', 'name': 'tavily_search_results_json'}, 'type': 'function'}], 'refusal': None}, response_metadata={'token_usage': {'completion_tokens': 22, 'prompt_tokens': 87, 'total_tokens': 109}, 'model_name': 'gpt-4o-mini-2024-07-18', 'system_fingerprint': 'fp_f33667828e', 'finish_reason': 'tool_calls', 'logprobs': None}, id='run-b40eaf9e-450b-41fa-8e87-9bd97b18f081-0', tool_calls=[{'name': 'tavily_search_results_json', 'args': {'query': 'current president of South Korea'}, 'id': 'call_w3xccisanSEY9PI5QbKbD7Jl', 'type': 'tool_call'}], usage_metadata={'input_tokens': 87, 'output_tokens': 22, 'total_tokens': 109}), ToolMessage(content='[{\"url\": \"https://en.wikipedia.org/wiki/President_of_South_Korea\", \"content\": \"The current president, Yoon Suk Yeol, a former prosecutor general and member of the conservative People Power Party, assumed office on 10 May 2022,[3][4] after defeating the Democratic Party\\'s nominee Lee Jae-myung with a narrow 48.5% plurality in the 2022 South Korean presidential election.[5]\\\\nHistory[edit]\\\\nPrior to the establishment of the First Republic in 1948, the Provisional Government of the Republic of Korea established in Shanghai in September 1919 as the continuation of several governments proclaimed in the aftermath of March 1st Movement earlier that year coordinated resistance against Japanese rule. However, such individuals are still entitled to retain security protection under the Presidential Security Act.[15]\\\\nOrder of succession[edit]\\\\nArticle 71 of the Constitution of South Korea states, \\'In the event of the president not being able to discharge the duties of his/her office, the Prime Minister and ministers in line of the order of succession shall be the acting president.\\' Chaired by the president, the council in 1990 had as its statutory members the prime minister, the deputy prime minister, the ministers for foreign affairs, home affairs, finance, and national defense, the director of the Agency for National Security Planning (ANSP) which was known as the Korean Central Intelligence Agency (KCIA) until December 1980, and others designated by the president. In the case of the President, the motion must be proposed by a majority and approved by two thirds or more of the total members of the National Assembly, meaning that 200 of 300 members of the parliament must approve the bill. Contents\\\\nPresident of South Korea\\\\nThe president of the Republic of Korea (Korean:\\\\u00a0\\\\ub300\\\\ud55c\\\\ubbfc\\\\uad6d \\\\ub300\\\\ud1b5\\\\ub839; RR:\\\\u00a0Daehanmin-guk daetongnyeong), also known as the president of South Korea (Korean:\\\\u00a0\\\\ub300\\\\ud1b5\\\\ub839), is the head of state and head of government of the Republic of Korea.\"}, {\"url\": \"https://apnews.com/article/south-korea-election-president-yoon-76d0d61593c9ab85504bcf4b66c2c168\", \"content\": \"FILE - South Korean President Yoon Suk Yeol takes an oath during his inauguration in front of the National Assembly in Seoul, South Korea, on May 10, 2022. South Korean voters have handed liberals extended opposition control of parliament in what looks like a massive political setback to conservative President Yoon Suk Yeol.\"}]', name='tavily_search_results_json', id='4d020f38-3720-4461-a1f3-54a92ef4e5a6', tool_call_id='call_w3xccisanSEY9PI5QbKbD7Jl'), AIMessage(content='현재 대한민국의 대통령은 윤석열(Yoon Suk Yeol)입니다. 그는 2022년 5월 10일에 취임하였으며, 보수당인 국민의힘 소속입니다. 더 자세한 내용은 [위키피디아](https://en.wikipedia.org/wiki/President_of_South_Korea)에서 확인하실 수 있습니다.', additional_kwargs={'refusal': None}, response_metadata={'token_usage': {'completion_tokens': 79, 'prompt_tokens': 697, 'total_tokens': 776}, 'model_name': 'gpt-4o-mini-2024-07-18', 'system_fingerprint': 'fp_f33667828e', 'finish_reason': 'stop', 'logprobs': None}, id='run-d6f83d9f-4462-40b3-a748-7e2c793106c9-0', usage_metadata={'input_tokens': 697, 'output_tokens': 79, 'total_tokens': 776}), HumanMessage(content='첫질문이 뭐였어?', id='d15fda0a-f8d5-4c3a-98d6-f25d125f9d42'), AIMessage(content='첫 질문은 \"대한민국의 대통령은 누구야?\"였습니다.', additional_kwargs={'refusal': None}, response_metadata={'token_usage': {'completion_tokens': 15, 'prompt_tokens': 791, 'total_tokens': 806}, 'model_name': 'gpt-4o-mini-2024-07-18', 'system_fingerprint': 'fp_f33667828e', 'finish_reason': 'stop', 'logprobs': None}, id='run-83f24b4d-70e9-4634-87d1-7479b15a93f6-0', usage_metadata={'input_tokens': 791, 'output_tokens': 15, 'total_tokens': 806})]}, next=(), config={'configurable': {'thread_id': '1', 'thread_ts': '1ef6a4a3-8059-6c4c-8006-daff9af90dbb'}}, metadata={'source': 'loop', 'step': 6, 'writes': {'chatbot': {'messages': [AIMessage(content='첫 질문은 \"대한민국의 대통령은 누구야?\"였습니다.', additional_kwargs={'refusal': None}, response_metadata={'token_usage': {'completion_tokens': 15, 'prompt_tokens': 791, 'total_tokens': 806}, 'model_name': 'gpt-4o-mini-2024-07-18', 'system_fingerprint': 'fp_f33667828e', 'finish_reason': 'stop', 'logprobs': None}, id='run-83f24b4d-70e9-4634-87d1-7479b15a93f6-0', usage_metadata={'input_tokens': 791, 'output_tokens': 15, 'total_tokens': 806})]}}}, created_at='2024-09-03T23:14:07.179066+00:00', parent_config=None)"
      ]
     },
     "execution_count": 283,
     "metadata": {},
     "output_type": "execute_result"
    }
   ],
   "source": [
    "snapshot = graph.get_state(config)\n",
    "snapshot"
   ]
  },
  {
   "cell_type": "code",
   "execution_count": 285,
   "id": "8d6e4f1c-823e-44d9-9a4d-994a29413482",
   "metadata": {},
   "outputs": [
    {
     "data": {
      "text/plain": [
       "{'messages': [HumanMessage(content='내가 한 첫 질문이 뭐였어?', id='f1f66a1a-36a2-4076-bc24-c7072637b59a'),\n",
       "  AIMessage(content='죄송하지만, 이전의 대화를 기억할 수 없어서 당신의 첫 질문을 알 수 없습니다. 하지만 새로운 질문이나 요청이 있다면 도와드릴 수 있습니다!', additional_kwargs={'refusal': None}, response_metadata={'token_usage': {'completion_tokens': 38, 'prompt_tokens': 89, 'total_tokens': 127}, 'model_name': 'gpt-4o-mini-2024-07-18', 'system_fingerprint': 'fp_f905cf32a9', 'finish_reason': 'stop', 'logprobs': None}, id='run-1db3dd82-0311-4aa3-8cdb-ef3023f31a90-0', usage_metadata={'input_tokens': 89, 'output_tokens': 38, 'total_tokens': 127})]}"
      ]
     },
     "execution_count": 285,
     "metadata": {},
     "output_type": "execute_result"
    }
   ],
   "source": [
    "config2 = {\"configurable\": {\"thread_id\": \"2\"}}\n",
    "graph.invoke({\"messages\": [{\"role\": \"user\", \"content\": \"내가 한 첫 질문이 뭐였어?\"}]},\n",
    "             config2)"
   ]
  },
  {
   "cell_type": "markdown",
   "id": "8b719f25-5016-44b8-9920-507ca86729ec",
   "metadata": {},
   "source": [
    "#### **기억할 메세지 개수 제한하기**"
   ]
  },
  {
   "cell_type": "code",
   "execution_count": 287,
   "id": "838920ad-a107-44f7-92b6-d54bc1e5bbb9",
   "metadata": {},
   "outputs": [],
   "source": [
    "def filter_messages(messages: list):\n",
    "    # This is very simple helper function which only ever uses the last message\n",
    "    return messages[-2:]\n",
    "    \n",
    "def chatbot(state: State):\n",
    "    messages = filter_messages(state[\"messages\"])\n",
    "    result = llm_with_tools.invoke(messages)\n",
    "    return {\"messages\": [result]}\n",
    "\n",
    "graph_builder = StateGraph(State)\n",
    "\n",
    "graph_builder.add_node(\"chatbot\", chatbot)\n",
    "graph_builder.add_node(\"tools\", tool_node)\n",
    "\n",
    "graph_builder.add_edge(\"tools\", \"chatbot\")\n",
    "graph_builder.add_conditional_edges(\"chatbot\", tools_condition)\n",
    "\n",
    "graph_builder.set_entry_point(\"chatbot\")\n",
    "graph = graph_builder.compile(checkpointer=memory)"
   ]
  },
  {
   "cell_type": "code",
   "execution_count": 289,
   "id": "cf6b4fae-5b7d-462e-928c-062ef83360e2",
   "metadata": {},
   "outputs": [
    {
     "name": "stdout",
     "output_type": "stream",
     "text": [
      "================================\u001b[1m Human Message \u001b[0m=================================\n",
      "\n",
      "hi! I'm bob and I like soccer\n",
      "==================================\u001b[1m Ai Message \u001b[0m==================================\n",
      "\n",
      "Hi Bob! That's great to hear! Soccer is an exciting sport with a rich history and a passionate global following. Do you have a favorite team or player?\n",
      "================================\u001b[1m Human Message \u001b[0m=================================\n",
      "\n",
      "what's my name?\n",
      "==================================\u001b[1m Ai Message \u001b[0m==================================\n",
      "\n",
      "Your name is Bob!\n",
      "================================\u001b[1m Human Message \u001b[0m=================================\n",
      "\n",
      "what's my name?\n",
      "==================================\u001b[1m Ai Message \u001b[0m==================================\n",
      "\n",
      "Your name is Bob!\n",
      "================================\u001b[1m Human Message \u001b[0m=================================\n",
      "\n",
      "what's my favorite?\n",
      "==================================\u001b[1m Ai Message \u001b[0m==================================\n",
      "\n",
      "I don't have information about your personal preferences or favorites. Could you tell me what you're referring to? For example, it could be a favorite color, food, movie, etc.\n"
     ]
    }
   ],
   "source": [
    "from langchain_core.messages import HumanMessage\n",
    "\n",
    "config = {\"configurable\": {\"thread_id\": \"20\"}}\n",
    "input_message = HumanMessage(content=\"hi! I'm bob and I like soccer\")\n",
    "for event in graph.stream({\"messages\": [input_message]}, config, stream_mode=\"values\"):\n",
    "    event[\"messages\"][-1].pretty_print()\n",
    "\n",
    "# This will now not remember the previous messages\n",
    "# (because we set `messages[-1:]` in the filter messages argument)\n",
    "input_message = HumanMessage(content=\"what's my name?\")\n",
    "for event in graph.stream({\"messages\": [input_message]}, config, stream_mode=\"values\"):\n",
    "    event[\"messages\"][-1].pretty_print()\n",
    "\n",
    "input_message = HumanMessage(content=\"what's my name?\")\n",
    "for event in graph.stream({\"messages\": [input_message]}, config, stream_mode=\"values\"):\n",
    "    event[\"messages\"][-1].pretty_print()\n",
    "    \n",
    "input_message = HumanMessage(content=\"what's my favorite?\")\n",
    "for event in graph.stream({\"messages\": [input_message]}, config, stream_mode=\"values\"):\n",
    "    event[\"messages\"][-1].pretty_print()"
   ]
  },
  {
   "cell_type": "code",
   "execution_count": null,
   "id": "73ac1f54-1712-494a-bd7c-8a7e99c65b6b",
   "metadata": {},
   "outputs": [],
   "source": []
  }
 ],
 "metadata": {
  "kernelspec": {
   "display_name": "Python 3 (ipykernel)",
   "language": "python",
   "name": "python3"
  },
  "language_info": {
   "codemirror_mode": {
    "name": "ipython",
    "version": 3
   },
   "file_extension": ".py",
   "mimetype": "text/x-python",
   "name": "python",
   "nbconvert_exporter": "python",
   "pygments_lexer": "ipython3",
   "version": "3.12.4"
  }
 },
 "nbformat": 4,
 "nbformat_minor": 5
}
