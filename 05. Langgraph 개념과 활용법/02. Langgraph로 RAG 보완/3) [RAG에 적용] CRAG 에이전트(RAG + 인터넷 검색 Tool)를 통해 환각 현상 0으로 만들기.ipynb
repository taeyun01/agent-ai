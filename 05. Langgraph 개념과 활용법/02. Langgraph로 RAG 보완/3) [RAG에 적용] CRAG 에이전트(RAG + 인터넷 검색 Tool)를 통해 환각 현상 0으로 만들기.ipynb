{
 "cells": [
  {
   "cell_type": "markdown",
   "id": "4c7f6b3b-7c39-47a6-b163-23ba73b62619",
   "metadata": {},
   "source": [
    "#### **API 키 설정**"
   ]
  },
  {
   "cell_type": "code",
   "execution_count": null,
   "id": "f0d7773b-b732-42e7-8aed-aa64220eec4e",
   "metadata": {},
   "outputs": [],
   "source": [
    "import os\n",
    "os.environ['OPENAI_API_KEY'] = \"내 OPENAI API 키\"\n",
    "os.environ['TAVILY_API_KEY'] = \"내 TAVILY API 키\""
   ]
  },
  {
   "cell_type": "markdown",
   "id": "ea978535-1dea-48ac-967c-925cd18419a1",
   "metadata": {},
   "source": [
    "#### **WebBaseLoader로 웹페이지 내 텍스트를 Vector DB로 저장하고 Retriever로 만들기**"
   ]
  },
  {
   "cell_type": "code",
   "execution_count": null,
   "id": "b5e23dd5-0149-474b-8e3c-53130e18574a",
   "metadata": {},
   "outputs": [],
   "source": [
    "from langchain.text_splitter import RecursiveCharacterTextSplitter\n",
    "from langchain_community.document_loaders import WebBaseLoader\n",
    "from langchain_community.vectorstores import Chroma\n",
    "from langchain_openai import OpenAIEmbeddings\n",
    "\n",
    "# 텍스트를 가져올 url\n",
    "urls = [\n",
    "    \"https://lilianweng.github.io/posts/2023-06-23-agent/\",\n",
    "    \"https://lilianweng.github.io/posts/2023-03-15-prompt-engineering/\",\n",
    "    \"https://lilianweng.github.io/posts/2023-10-25-adv-attack-llm/\",\n",
    "]\n",
    "\n",
    "docs = [WebBaseLoader(url).load() for url in urls]\n",
    "docs_list = [item for sublist in docs for item in sublist]\n",
    "\n",
    "text_splitter = RecursiveCharacterTextSplitter.from_tiktoken_encoder(\n",
    "    chunk_size=250, chunk_overlap=0\n",
    ")\n",
    "doc_splits = text_splitter.split_documents(docs_list)\n",
    "\n",
    "# Add to vectorDB (크로마db에 저장)\n",
    "vectorstore = Chroma.from_documents(\n",
    "    documents=doc_splits,\n",
    "    collection_name=\"rag-chroma\",\n",
    "    embedding=OpenAIEmbeddings(),\n",
    ")\n",
    "\n",
    "# 리트리버로 만들기\n",
    "retriever = vectorstore.as_retriever()"
   ]
  },
  {
   "cell_type": "markdown",
   "id": "ce40e53c-9c0a-41fe-a86a-001ec02efef9",
   "metadata": {},
   "source": [
    "#### **문서 관련성 검토 함수 정의하기**\n",
    "\n",
    "문서로 검색이되면 이것이 사용자의 질문과 관련이 있는지 확인하기 위해서 문서 관련성 검토 함수를 정의."
   ]
  },
  {
   "cell_type": "code",
   "execution_count": null,
   "id": "999f99d2-57df-4b0d-96f3-b0b50e0b81c5",
   "metadata": {},
   "outputs": [],
   "source": [
    "### Retrieval Grader\n",
    "\n",
    "from langchain_core.prompts import ChatPromptTemplate\n",
    "from langchain_core.pydantic_v1 import BaseModel, Field\n",
    "from langchain_openai import ChatOpenAI\n",
    "\n",
    "\n",
    "# Data model\n",
    "# 사용자의 질문이 들어왔을 때, 그 검색된 문서와 관련성을 검토한 결과 관련이 있으면 'yes' 없으면 'no'를 나오게 스트럭쳐 아웃풋을 만들어줌\n",
    "class GradeDocuments(BaseModel):\n",
    "    \"\"\"Binary score for relevance check on retrieved documents.\"\"\"\n",
    "\n",
    "    binary_score: str = Field(\n",
    "        description=\"Documents are relevant to the question, 'yes' or 'no'\"\n",
    "    )\n",
    "\n",
    "\n",
    "# LLM with function call\n",
    "llm = ChatOpenAI(model=\"gpt-4o-mini\", temperature=0)\n",
    "structured_llm_grader = llm.with_structured_output(GradeDocuments)\n",
    "\n",
    "# Prompt\n",
    "system = \"\"\"You are a grader assessing relevance of a retrieved document to a user question. \\n \n",
    "    If the document contains keyword(s) or semantic meaning related to the question, grade it as relevant. \\n\n",
    "    Give a binary score 'yes' or 'no' score to indicate whether the document is relevant to the question.\"\"\"\n",
    "grade_prompt = ChatPromptTemplate.from_messages(\n",
    "    [\n",
    "        (\"system\", system),\n",
    "        (\"human\", \"Retrieved document: \\n\\n {document} \\n\\n User question: {question}\"),\n",
    "    ]\n",
    ")\n",
    "\n",
    "retrieval_grader = grade_prompt | structured_llm_grader"
   ]
  },
  {
   "cell_type": "markdown",
   "id": "a7daf44f-a722-4ca8-9979-d3063aff9057",
   "metadata": {},
   "source": [
    "#### **답변 작성 Chain 정의하기**"
   ]
  },
  {
   "cell_type": "code",
   "execution_count": null,
   "id": "71a5f88c-e7f2-4bd4-b275-83e02d2c0e9e",
   "metadata": {},
   "outputs": [],
   "source": [
    "### Generate\n",
    "\n",
    "from langchain import hub\n",
    "from langchain_core.output_parsers import StrOutputParser\n",
    "\n",
    "# Prompt\n",
    "prompt = hub.pull(\"rlm/rag-prompt\")\n",
    "\n",
    "# LLM\n",
    "llm = ChatOpenAI(model_name=\"gpt-4o-mini\", temperature=0)\n",
    "\n",
    "\n",
    "# Post-processing\n",
    "def format_docs(docs):\n",
    "    return \"\\n\\n\".join(doc.page_content for doc in docs)\n",
    "\n",
    "\n",
    "# Chain\n",
    "rag_chain = prompt | llm | StrOutputParser()"
   ]
  },
  {
   "cell_type": "markdown",
   "id": "98530c56-775f-4e68-b731-dd746514d554",
   "metadata": {},
   "source": [
    "#### **질문 재작성 Chain 정의하기**"
   ]
  },
  {
   "cell_type": "code",
   "execution_count": 52,
   "id": "d06b8ab2-d57f-4748-968c-821c559ba2eb",
   "metadata": {},
   "outputs": [
    {
     "data": {
      "text/plain": [
       "'What is agent memory and how does it function in artificial intelligence?'"
      ]
     },
     "execution_count": 52,
     "metadata": {},
     "output_type": "execute_result"
    }
   ],
   "source": [
    "### Question Re-writer (질문을 재작성하는 체인 정의하기)\n",
    "\n",
    "# LLM\n",
    "llm = ChatOpenAI(model=\"gpt-4o-mini\", temperature=0)\n",
    "\n",
    "# Prompt\n",
    "system = \"\"\"You a question re-writer that converts an input question to a better version that is optimized \\n \n",
    "     for web search. Look at the input and try to reason about the underlying semantic intent / meaning.\"\"\"\n",
    "re_write_prompt = ChatPromptTemplate.from_messages(\n",
    "    [\n",
    "        (\"system\", system),\n",
    "        (\n",
    "            \"human\",\n",
    "            \"Here is the initial question: \\n\\n {question} \\n Formulate an improved question.\",\n",
    "        ),\n",
    "    ]\n",
    ")\n",
    "\n",
    "# 질문을 재작성하는 체인의 경우에는 system메세지와 human메세지를 re_write_prompt로 하나로 묶어서 LLM과 연결을 시킨다음 question_rewriter라는 체인으로 정의\n",
    "question_rewriter = re_write_prompt | llm | StrOutputParser()\n",
    "question_rewriter.invoke({\"question\": question})"
   ]
  },
  {
   "cell_type": "markdown",
   "id": "9126d6eb-6cef-45f6-b565-2980ee47b1f8",
   "metadata": {},
   "source": [
    "#### **웹 검색 툴 설정**"
   ]
  },
  {
   "cell_type": "code",
   "execution_count": 54,
   "id": "e1967f0a-130d-4147-89a0-bd5a5d5e745d",
   "metadata": {},
   "outputs": [],
   "source": [
    "### Search\n",
    "\n",
    "from langchain_community.tools.tavily_search import TavilySearchResults\n",
    "\n",
    "# TavilySearchResults는 랭체인에서 미리 사전에 정의한 Tool을 사용\n",
    "web_search_tool = TavilySearchResults(k=3) # 원하는 수만큼 가져오면되는데, \n",
    "                                           # 너무 많이 가져오면 LLM이 답변을 생성할때 ContextWindowt사이즈가 너무 커질 수 있기때문에 무한정으로 크게하는건 추천하지 않음.\n",
    "                                           # 10개 ~ 20개 사이 까지는 많이 늘려서 활용함. (우선 테스트로 3개까지만)"
   ]
  },
  {
   "cell_type": "markdown",
   "id": "c83fea17-66ba-47fa-89f4-0d84bf52d4c7",
   "metadata": {},
   "source": [
    "#### **GraphState 정의하기**"
   ]
  },
  {
   "cell_type": "code",
   "execution_count": 56,
   "id": "3b2b629e-e2ec-4dc5-86ac-653c51796035",
   "metadata": {},
   "outputs": [],
   "source": [
    "from typing import List\n",
    "\n",
    "from typing_extensions import TypedDict\n",
    "\n",
    "\n",
    "class GraphState(TypedDict):\n",
    "    \"\"\"\n",
    "    Represents the state of our graph.\n",
    "\n",
    "    Attributes:\n",
    "        question: question\n",
    "        generation: LLM generation\n",
    "        web_search: whether to add search\n",
    "        documents: list of documents\n",
    "    \"\"\"\n",
    "\n",
    "    question: str\n",
    "    generation: str\n",
    "    web_search: str # web_search 키값 추가\n",
    "    documents: List[str]"
   ]
  },
  {
   "cell_type": "markdown",
   "id": "d179d1bc-7246-40e9-af65-2261dca3fedf",
   "metadata": {},
   "source": [
    "#### **위에서 정의한 Chain을 기반으로 노드 함수 정의하기**"
   ]
  },
  {
   "cell_type": "code",
   "execution_count": 58,
   "id": "c928bc1c-f427-4c3a-8b4d-86a73f6cc103",
   "metadata": {},
   "outputs": [],
   "source": [
    "from langchain.schema import Document\n",
    "\n",
    "\n",
    "def retrieve(state):\n",
    "    \"\"\"\n",
    "    Retrieve documents\n",
    "\n",
    "    Args:\n",
    "        state (dict): The current graph state\n",
    "\n",
    "    Returns:\n",
    "        state (dict): New key added to state, documents, that contains retrieved documents\n",
    "    \"\"\"\n",
    "    print(\"---RETRIEVE---\")\n",
    "    question = state[\"question\"]\n",
    "\n",
    "    # Retrieval\n",
    "    documents = retriever.get_relevant_documents(question)\n",
    "    return {\"documents\": documents, \"question\": question}\n",
    "\n",
    "\n",
    "def generate(state):\n",
    "    \"\"\"\n",
    "    Generate answer\n",
    "\n",
    "    Args:\n",
    "        state (dict): The current graph state\n",
    "\n",
    "    Returns:\n",
    "        state (dict): New key added to state, generation, that contains LLM generation\n",
    "    \"\"\"\n",
    "    print(\"---GENERATE---\")\n",
    "    question = state[\"question\"] # 사용자의 질문을 question으로 가져옴\n",
    "    documents = state[\"documents\"] # 위 retrieve함수에서 얻어낸 \"documents\"값을 가져와 documents에 저장\n",
    "\n",
    "    # RAG generation\n",
    "    # rag_chain을 invoke할 때 \"context\"와 \"question\" 매개변수에 각각 documents와 question을 넣어줌\n",
    "    generation = rag_chain.invoke({\"context\": documents, \"question\": question}) #  (이렇게 invoke를 하면 주저인 벡터db에서 뽑아낸 관련문서들과 사용자의 질문을 활용한 LLM의 답변을 받아볼 수 있음)\n",
    "    return {\"documents\": documents, \"question\": question, \"generation\": generation} # ⬆️ 이것을 \"generation\" 키값에 저장\n",
    "\n",
    "# 문서관련성 검토 함수\n",
    "def grade_documents(state):\n",
    "    \"\"\"\n",
    "    Determines whether the retrieved documents are relevant to the question.\n",
    "\n",
    "    Args:\n",
    "        state (dict): The current graph state\n",
    "\n",
    "    Returns:\n",
    "        state (dict): Updates documents key with only filtered relevant documents\n",
    "    \"\"\"\n",
    "\n",
    "    print(\"---CHECK DOCUMENT RELEVANCE TO QUESTION---\")\n",
    "    question = state[\"question\"]\n",
    "    documents = state[\"documents\"]\n",
    "\n",
    "    # Score each doc\n",
    "    filtered_docs = [] # 필터문서 빈 리스트 선언\n",
    "    web_search = \"No\" # 초기값으로 웹서치는 no\n",
    "    for d in documents: # 검색된 문서들을 for문으로 순회\n",
    "        score = retrieval_grader.invoke( # retrieval_grader를 통해 사용자의 질문이 관련성이 있는지 판단함 (retrieval_grader를 invoke로 실행시키면 yes 또는 no가 나옴)\n",
    "            {\"question\": question, \"document\": d.page_content}\n",
    "        )\n",
    "        grade = score.binary_score # grade에 저장 (키값을 binary_score로 불러와야 yes인지 no인지 확인할 수 있음)\n",
    "        if grade == \"yes\": # 사용자의 질문이 문서와 관련이 있을 때\n",
    "            print(\"---GRADE: DOCUMENT RELEVANT---\")\n",
    "            filtered_docs.append(d) # 필터문서 리스트에 추가\n",
    "        else: # 관련이 없으면 \n",
    "            print(\"---GRADE: DOCUMENT NOT RELEVANT---\")\n",
    "            web_search = \"Yes\" # 웹서치가 Yes로 활성화 시킨후 하나라도 검색한 문서중에 사용자의 질문과 무관한게 있다면 웹검색을 실행할 수 있도록 state값을 업데이트 해줌\n",
    "            continue\n",
    "    return {\"documents\": filtered_docs, \"question\": question, \"web_search\": web_search} # 사용자 질문에 관련이 있으면 web_search에 No가 들어가고 아니면 Yes가 State값에 전달이 된다.\n",
    "\n",
    "\n",
    "def transform_query(state):\n",
    "    \"\"\"\n",
    "    Transform the query to produce a better question.\n",
    "\n",
    "    Args:\n",
    "        state (dict): The current graph state\n",
    "\n",
    "    Returns:\n",
    "        state (dict): Updates question key with a re-phrased question\n",
    "    \"\"\"\n",
    "\n",
    "    print(\"---TRANSFORM QUERY---\")\n",
    "    question = state[\"question\"]\n",
    "    documents = state[\"documents\"]\n",
    "\n",
    "    # Re-write question\n",
    "    better_question = question_rewriter.invoke({\"question\": question}) # 사용자의 초기질문을 더 나아진 질문으로 바꿔줌\n",
    "    return {\"documents\": documents, \"question\": better_question}\n",
    "\n",
    "# 더 나아진 질문은 web_search에서 활용을 하게 된다.\n",
    "def web_search(state):\n",
    "    \"\"\"\n",
    "    Web search based on the re-phrased question.\n",
    "\n",
    "    Args:\n",
    "        state (dict): The current graph state\n",
    "\n",
    "    Returns:\n",
    "        state (dict): Updates documents key with appended web results\n",
    "    \"\"\"\n",
    "\n",
    "    print(\"---WEB SEARCH---\")\n",
    "    question = state[\"question\"]\n",
    "    documents = state[\"documents\"]\n",
    "\n",
    "    # Web search\n",
    "    # 더 나은 사용자의 질문을 기반으로해서 웹검색을 다시 하게됨\n",
    "    docs = web_search_tool.invoke({\"query\": question}) # web_search_tool은 최대 3개까지만 가져오게 설정함 (맨 위)\n",
    "    web_results = \"\\n\".join([d[\"content\"] for d in docs])\n",
    "    web_results = Document(page_content=web_results)\n",
    "    documents.append(web_results)\n",
    "\n",
    "    return {\"documents\": documents, \"question\": question}\n",
    "\n",
    "\n",
    "### Edges\n",
    "\n",
    "\n",
    "def decide_to_generate(state):\n",
    "    \"\"\"\n",
    "    Determines whether to generate an answer, or re-generate a question.\n",
    "\n",
    "    Args:\n",
    "        state (dict): The current graph state\n",
    "\n",
    "    Returns:\n",
    "        str: Binary decision for next node to call\n",
    "    \"\"\"\n",
    "\n",
    "    print(\"---ASSESS GRADED DOCUMENTS---\")\n",
    "    web_search = state[\"web_search\"] # 웹검색을 해야되는지에 대한 여부\n",
    "\n",
    "    if web_search == \"Yes\": # Yes면\n",
    "        # All documents have been filtered check_relevance\n",
    "        # We will re-generate a new query\n",
    "        print(\n",
    "            \"---DECISION: ALL DOCUMENTS ARE NOT RELEVANT TO QUESTION, TRANSFORM QUERY---\"\n",
    "        )\n",
    "        return \"transform_query\" # 웹검색을 해야하면 transform_query노드 실행\n",
    "    else:\n",
    "        # We have relevant documents, so generate answer\n",
    "        print(\"---DECISION: GENERATE---\")\n",
    "        return \"generate\" # 사용자 질문가 전부 관련이 있다면 generate 노드 실행"
   ]
  },
  {
   "cell_type": "markdown",
   "id": "5b269c36-a9fb-4acd-aeb9-b29ac20ff4df",
   "metadata": {},
   "source": [
    "#### **그래프 구축하기**"
   ]
  },
  {
   "cell_type": "code",
   "execution_count": 60,
   "id": "c598f9fa-278e-463d-9d3a-3a90bfceedf8",
   "metadata": {},
   "outputs": [],
   "source": [
    "from langgraph.graph import END, StateGraph, START\n",
    "\n",
    "workflow = StateGraph(GraphState)\n",
    "\n",
    "# Define the nodes\n",
    "# 위에서 선언한 5가지 함수를 선언\n",
    "workflow.add_node(\"retrieve\", retrieve)  # retrieve\n",
    "workflow.add_node(\"grade_documents\", grade_documents)  # grade documents\n",
    "workflow.add_node(\"generate\", generate)  # generatae\n",
    "workflow.add_node(\"transform_query\", transform_query)  # transform_query\n",
    "workflow.add_node(\"web_search_node\", web_search)  # web search\n",
    "\n",
    "# Build graph\n",
    "workflow.add_edge(START, \"retrieve\") # 사용자의 질문이 들어왔을때, 바로 문서 검색을 함\n",
    "workflow.add_edge(\"retrieve\", \"grade_documents\") # 그리고 문서관련성을 검토\n",
    "workflow.add_conditional_edges( # 검토한 결과를 conditional_edges 추가\n",
    "    \"grade_documents\",\n",
    "    decide_to_generate,\n",
    "    {\n",
    "        \"transform_query\": \"transform_query\", # 질문을 재작성해서 웹검색으로 넘겨야하면 transform_query 출력\n",
    "        \"generate\": \"generate\", # 그렇지 않으면 generate\n",
    "    },\n",
    ")\n",
    "workflow.add_edge(\"transform_query\", \"web_search_node\") # 질문이 재작성되면 문조건 web_search_node로 넘어가게끔\n",
    "workflow.add_edge(\"web_search_node\", \"generate\") # 웹검색 결과가 나오면 검토할게 없으니 generate 노드 실행\n",
    "workflow.add_edge(\"generate\", END)\n",
    "\n",
    "# Compile\n",
    "app = workflow.compile()"
   ]
  },
  {
   "cell_type": "markdown",
   "id": "72f79bfc-6913-4a25-9e38-9473ca60af53",
   "metadata": {},
   "source": [
    "#### **그래프 시각화**"
   ]
  },
  {
   "cell_type": "code",
   "execution_count": 62,
   "id": "f23a5a37-3352-47aa-95c8-d8c7d8b89020",
   "metadata": {},
   "outputs": [
    {
     "data": {
      "image/jpeg": "[encoded data removed]",
      "text/plain": [
       "<IPython.core.display.Image object>"
      ]
     },
     "metadata": {},
     "output_type": "display_data"
    }
   ],
   "source": [
    "from IPython.display import Image, display\n",
    "\n",
    "try:\n",
    "    display(Image(app.get_graph(xray=True).draw_mermaid_png()))\n",
    "except Exception:\n",
    "    # This requires some extra dependencies and is optional\n",
    "    pass"
   ]
  },
  {
   "cell_type": "code",
   "execution_count": 64,
   "id": "c0371b8f-a4f1-4464-90cf-b093ca5eeb63",
   "metadata": {},
   "outputs": [
    {
     "name": "stdout",
     "output_type": "stream",
     "text": [
      "---RETRIEVE---\n",
      "Node 'retrieve':\n",
      "\n",
      "---\n",
      "\n",
      "---CHECK DOCUMENT RELEVANCE TO QUESTION---\n",
      "---GRADE: DOCUMENT NOT RELEVANT---\n",
      "---GRADE: DOCUMENT NOT RELEVANT---\n",
      "---GRADE: DOCUMENT NOT RELEVANT---\n",
      "---GRADE: DOCUMENT NOT RELEVANT---\n",
      "---ASSESS GRADED DOCUMENTS---\n",
      "---DECISION: ALL DOCUMENTS ARE NOT RELEVANT TO QUESTION, TRANSFORM QUERY---\n",
      "Node 'grade_documents':\n",
      "\n",
      "---\n",
      "\n",
      "---TRANSFORM QUERY---\n",
      "Node 'transform_query':\n",
      "\n",
      "---\n",
      "\n",
      "---WEB SEARCH---\n",
      "Node 'web_search_node':\n",
      "\n",
      "---\n",
      "\n",
      "---GENERATE---\n",
      "Node 'generate':\n",
      "\n",
      "---\n",
      "\n",
      "The different types of agent memory in artificial intelligence include simple reflex agents, which act based solely on current percepts without memory, and limited memory agents, which can learn from recent experiences. Additionally, there are table-driven agents that use a lookup table to determine actions based on percept sequences. Other types include model-based agents, goal-based agents, utility-based agents, and learning agents, each with varying degrees of memory and adaptability.\n"
     ]
    }
   ],
   "source": [
    "# Run\n",
    "inputs = {\"question\": \"What are the types of agent memory?\"}\n",
    "for output in app.stream(inputs):\n",
    "    for key, value in output.items():\n",
    "        # Node\n",
    "        print(f\"Node '{key}':\")\n",
    "        # Optional: print full state at each node\n",
    "        # pprint.pprint(value[\"keys\"], indent=2, width=80, depth=None)\n",
    "    print(\"\\n---\\n\")\n",
    "\n",
    "# Final generation\n",
    "print(value[\"generation\"])"
   ]
  },
  {
   "cell_type": "markdown",
   "id": "2062d717",
   "metadata": {},
   "source": [
    "질문을 했더니 ALL DOCUMENTS ARE NOT RELEVANT TO QUESTION, TRANSFORM QUERY 라고 나오는걸 볼 수 있다.\n",
    "\n",
    "모든 문서가 질문과 관련이 없어서 TRANSFORM QUERY를 실행하겠다 라고하면서 쿼리를 바꾼 후 WEB SEARCH 노드를 실행 한다.\n",
    "\n",
    "그리고 웹검색을 기반으로 해서 LLM이 답변을 하고 있는 걸 볼 수 있다."
   ]
  },
  {
   "cell_type": "markdown",
   "id": "2083aaf2",
   "metadata": {},
   "source": [
    "기존의 벡터DB만을 통해서 RAG시스템을 구축할 때 겪었던 어려움이 있다.\n",
    "\n",
    "이 웹검색 노드를 하나 붙이는것 만으로도 기존의 조금 부족했던 답변들을 충분히 많이 보완할 수 있다는 점이 있다."
   ]
  }
 ],
 "metadata": {
  "kernelspec": {
   "display_name": "fastcampus",
   "language": "python",
   "name": "fastcampus"
  },
  "language_info": {
   "codemirror_mode": {
    "name": "ipython",
    "version": 3
   },
   "file_extension": ".py",
   "mimetype": "text/x-python",
   "name": "python",
   "nbconvert_exporter": "python",
   "pygments_lexer": "ipython3",
   "version": "3.11.9"
  }
 },
 "nbformat": 4,
 "nbformat_minor": 5
}
