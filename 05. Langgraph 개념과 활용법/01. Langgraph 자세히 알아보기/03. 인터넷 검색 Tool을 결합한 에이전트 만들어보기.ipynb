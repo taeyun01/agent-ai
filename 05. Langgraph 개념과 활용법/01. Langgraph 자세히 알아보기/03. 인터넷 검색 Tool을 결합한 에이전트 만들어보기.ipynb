{
 "cells": [
  {
   "cell_type": "markdown",
   "id": "a1b8c70e",
   "metadata": {},
   "source": [
    "OPENAI API KEY 와 TAVILY API KEY 필요"
   ]
  },
  {
   "cell_type": "code",
   "execution_count": 19,
   "id": "851494db",
   "metadata": {},
   "outputs": [
    {
     "name": "stdout",
     "output_type": "stream",
     "text": [
      "Requirement already satisfied: python-dotenv in /usr/local/python/3.12.1/lib/python3.12/site-packages (1.0.1)\n",
      "Note: you may need to restart the kernel to use updated packages.\n"
     ]
    }
   ],
   "source": [
    "%pip install python-dotenv"
   ]
  },
  {
   "cell_type": "code",
   "execution_count": 36,
   "id": "a0de1fff",
   "metadata": {},
   "outputs": [
    {
     "data": {
      "text/plain": [
       "True"
      ]
     },
     "execution_count": 36,
     "metadata": {},
     "output_type": "execute_result"
    }
   ],
   "source": [
    "from dotenv import load_dotenv\n",
    "\n",
    "load_dotenv()"
   ]
  },
  {
   "cell_type": "markdown",
   "id": "67e29164-e999-4d7a-85bc-2e32f3629456",
   "metadata": {},
   "source": [
    "#### **상태 설정**"
   ]
  },
  {
   "cell_type": "code",
   "execution_count": 37,
   "id": "8cf7e07c-617c-4b16-8efc-4ddf6f055eb8",
   "metadata": {
    "scrolled": true
   },
   "outputs": [],
   "source": [
    "from typing import Annotated\n",
    "from typing_extensions import TypedDict\n",
    "from langgraph.graph.message import add_messages\n",
    "\n",
    "class State(TypedDict):\n",
    "    messages: Annotated[list, add_messages] # messages key값을 가지고, state에 대화가 나눠지는 모든 내용들을 쌓아나가도록 하기위해 Annotated를 가져와 list형태로 받아줄거고 add_messages를 통해서 list형태의 메세지를 계속 받아줌."
   ]
  },
  {
   "cell_type": "markdown",
   "id": "0882f558-5612-4acd-88fc-4a9728849499",
   "metadata": {},
   "source": [
    "#### **ToolNode로 도구 노드 구축**"
   ]
  },
  {
   "cell_type": "code",
   "execution_count": 38,
   "id": "c2761aad-b474-46d1-9ae4-4ec6a23db6d0",
   "metadata": {},
   "outputs": [],
   "source": [
    "from langchain_community.tools.tavily_search import TavilySearchResults\n",
    "from langgraph.prebuilt import ToolNode, tools_condition\n",
    "\n",
    "tool = TavilySearchResults(max_results=2) # TavilySearchResults AI를 활용해서 최대 2개까지의 웹검색을 가져오는 API 도구를 선언\n",
    "tools = [tool]\n",
    "tool_node = ToolNode(tools)\n",
    "\n",
    "# ToolNode가 무엇인지 아래 코드를 통해 알아보자."
   ]
  },
  {
   "cell_type": "markdown",
   "id": "ac8da11e-b181-4ad0-8eaf-872bc88cc08c",
   "metadata": {
    "jp-MarkdownHeadingCollapsed": true
   },
   "source": [
    "#### **Tool Node가 무엇일까**\n",
    "ToolNode란 사용자가 정의한 특정 Tool을 Node로 변환해주는 라이브러리\n",
    "\n",
    "ToolNode는 어떻게 생겼길래 우리가 만든 어떤 Tool을 list형태로 보내주기만 하면 node로 변경이 가능할까?\n",
    "아래 코드에서 확인해보자."
   ]
  },
  {
   "cell_type": "code",
   "execution_count": 39,
   "id": "1986281a-557b-4373-bbd4-4bffe84456d9",
   "metadata": {},
   "outputs": [],
   "source": [
    "import json\n",
    "\n",
    "from langchain_core.messages import ToolMessage\n",
    "\n",
    "# ToolNode는 이런식으로 생겼다.(BasicToolNode) 두개의 함수를 포함하고있는 하나의 class다.\n",
    "# langchain의 ToolMessage를 기반으로 해서 보여주고 있다.\n",
    "class BasicToolNode:\n",
    "    \"\"\"A node that runs the tools requested in the last AIMessage.\"\"\" # 마지막 AIMessage에서 요청한 도구를 실행하는 노드\n",
    "\n",
    "    def __init__(self, tools: list) -> None: # list를 ToolNode안에 넣어주면 \n",
    "        self.tools_by_name = {tool.name: tool for tool in tools} # 이름을 받아주는 생성자(self.tools_by_name)를 선언하고. tools라는 list안에 있는 모든 도구들을 tool의 이름을 지정하도록 한다. (tool.name: tool)\n",
    "\n",
    "    def __call__(self, inputs: dict): # call함수를 실행하면  \n",
    "        if messages := inputs.get(\"messages\", []): # 주어진 메세지를 선언하고,\n",
    "            message = messages[-1] # 가장 첫번째 메세지를 가져온다.\n",
    "        else:\n",
    "            raise ValueError(\"No message found in input\") # 여기서 에러가나면 input값에서 메세지를 찾을 수 없다고 value 에러를 뱉는다.\n",
    "        outputs = []\n",
    "        for tool_call in message.tool_calls: # 그리고 여기 message에 있는 tool_calls에 대해서 하나씩 tool_call을 실행 할건데  \n",
    "            tool_result = self.tools_by_name[tool_call[\"name\"]].invoke( # 위에 선언한 생성자 tools_by_name를 통해서 tool리스트 에서 각각의 이름 \"name\"에 대해서 invoke함수를 실행하고  \n",
    "                tool_call[\"args\"] # 실행할 사항으로써 tool_call에 있는 args를 실행한다. 이렇게하면 주어진 Tool 리스트에 대해서 각각의 도구의 이름을 지어주고 args를 통해서 ai로 부터 받은 도구사용 상세 사항을 직접 invoke함수에 넣어서 그 도구들을 실행할 수 있게 해준다.\n",
    "            )\n",
    "            outputs.append( # 위에 선언한 outputs[] 리스트에 \n",
    "                ToolMessage( # ToolMessage들을 추가해준다.\n",
    "                    content=json.dumps(tool_result), # tool_result를 json형태로 content에 담아주고\n",
    "                    name=tool_call[\"name\"], # 이름은 실행한 tool의 이름\n",
    "                    tool_call_id=tool_call[\"id\"], # id는 tool_call[\"id\"]라고 선언\n",
    "                )\n",
    "            )\n",
    "        return {\"messages\": outputs} # outputs 리스트를 messages 키 값에 할당해준다.\n",
    "\n",
    "        # 이렇게 하면 BasicToolNode는 Tool 리스트를 받았을 때, 이것을 사용자로 부터 질문을 받으면 ai가 이것을 툴에게 보낼 tool calls라는 메세지 형태로 보내게 되고\n",
    "        # 그것을 리스트안에있는 도구들이 순회하면서 각각 실행하게 되는 것이다."
   ]
  },
  {
   "cell_type": "markdown",
   "id": "83f58ee0",
   "metadata": {},
   "source": [
    "### 정리\n",
    "  이렇게 하면 BasicToolNode는 Tool 리스트를 받았을 때, 이것을 사용자로 부터 질문을 받으면 ai가 이것을 툴에게 보낼 tool calls라는 메세지 형태로 보내게 되고\n",
    "\n",
    "  그것을 리스트안에있는 도구들이 순회하면서 각각 실행하게 되는 것이다.\n",
    "\n",
    "  **즉, ToolNode는 우리가 tool을 정하기만 하면 이것을 실행가능한 함수로 변환해주는 것이다.**\n",
    "\n",
    "  위에 ToolNode로 도구 노드를 구축하는 코드를 다시 살펴보자\n",
    "\n",
    "  tool = TavilySearchResults(max_results=2) # TavilySearchResults AI를 활용해서 최대 2개까지의 웹검색을 가져오는 API 도구를 선언.\n",
    "\n",
    "  tools = [tool] # 위 정의한 tool을 리스트에 담아 tools에 할당\n",
    "\n",
    "  tool_node = ToolNode(tools) # ToolNode로 우리가 선언한 tool을 실행가능한 함수로 변환하여 tool_node에 할당\n",
    "\n",
    "  #### Tool들은 직접 정의하지 않아도 langchain_community에서 도구 라이브러리들을 직접 가져다 쓸 수 있다."
   ]
  },
  {
   "cell_type": "markdown",
   "id": "d957217d-6f18-4d51-8078-a51fb933fc73",
   "metadata": {},
   "source": [
    "#### **LLM 챗봇 설정**"
   ]
  },
  {
   "cell_type": "code",
   "execution_count": 40,
   "id": "f540a6bb-d1af-4524-964e-6262d5c41b77",
   "metadata": {},
   "outputs": [],
   "source": [
    "from langchain_openai import ChatOpenAI\n",
    "\n",
    "llm = ChatOpenAI(model=\"gpt-4o-mini\") # LLM 모델을 설정\n",
    "llm_with_tools = llm.bind_tools(tools) # 모델에게 이런 Tool들이 있다는걸 bind_tools로 통해서 알려줌\n",
    "\n",
    "# 에이전트 노드 만들기 \n",
    "def chatbot(state: State): # state값을 입력을 받고 \n",
    "    result = llm_with_tools.invoke(state[\"messages\"]) # state값에 있는 \"messages\" key값에 해당하는 것을 llm_with_tools에 invoke함수로 실행. (이렇게 하면 이 llm에게 state[\"messages\"]에 있는 값을 넣어서 실행을 함)\n",
    "    return {\"messages\": [result]} # 그것으로 나온 결과물을 \"messages\" key값에 직접 value로 넣어준다."
   ]
  },
  {
   "cell_type": "markdown",
   "id": "17a32949-d663-47e0-9304-24a16ee8baad",
   "metadata": {},
   "source": [
    "#### **그래프 구축**"
   ]
  },
  {
   "cell_type": "code",
   "execution_count": 41,
   "id": "517cda6b-cbec-4034-9957-995751f1598f",
   "metadata": {},
   "outputs": [],
   "source": [
    "from langgraph.graph import StateGraph\n",
    "\n",
    "graph_builder = StateGraph(State) # 맨 위에 이미 정해준 State로 정해주고 graph_builder로 선언\n",
    "\n",
    "# 두 가지 노드를 설정\n",
    "graph_builder.add_node(\"chatbot\", chatbot) # llm을 실행할 챗봇과\n",
    "graph_builder.add_node(\"tools\", tool_node) # llm 실행 결과중 요소가 있는 경우 실행할 ToolNode를 선언\n",
    "\n",
    "graph_builder.add_edge(\"tools\", \"chatbot\") # 엣지를 통해 chatbot과 tools사이에 엣지를 그어준다. (시작점은 tools, 끝점은 chatbot) tools가 실행된 경우에는 무조건 chatbot에 응답결과를 전달하도록 설정\n",
    "graph_builder.add_conditional_edges(\"chatbot\", tools_condition) # add_conditional_edges라고 해서 이 에이전트가 도구를 활용할 필요가 있는 경우에는 ToolNode도 엣지가 이어지도록 하고, 그렇지 않으면 end로 설정\n",
    "                                                                # tools_condition는 랭그래프에서 만든 라이브러리. (이전에는 tool calls라는 속성이 llm에 응답에 포함된 경우에는 ToolNode로 가고 아니면 end로 가게 만들어줬지만 이걸 매번 실행하기가 번거롭기 때문에 라이브러리를 제공)\n",
    "graph_builder.set_entry_point(\"chatbot\") # set_entry_point로 챗봇을 설정해서 사용자의 질문이 들어오면 곧바로 챗봇 노드가 전달받을 수 있도록 만들어준다.\n",
    "graph = graph_builder.compile() # 마지막으로 컴파일을 통해 실행가능한 graph로 만들어준다."
   ]
  },
  {
   "cell_type": "markdown",
   "id": "3532270c-95ee-4f29-b8c8-e6cc3fac4347",
   "metadata": {},
   "source": [
    "**인터넷 검색이 필요한 질문**"
   ]
  },
  {
   "cell_type": "code",
   "execution_count": 44,
   "id": "d261bc3e-cc7a-4c32-8eb4-a61adb5b0e66",
   "metadata": {},
   "outputs": [
    {
     "data": {
      "text/plain": [
       "{'messages': [HumanMessage(content='한국이 최근에 계엄령이 일어났다고 하는데 언제 일어났어?', additional_kwargs={}, response_metadata={}, id='81fc57af-5efb-4805-a1a1-dc9909f1c94e'),\n",
       "  AIMessage(content='', additional_kwargs={'tool_calls': [{'id': 'call_tBgfzIA52zNtViT3Juws3NF4', 'function': {'arguments': '{\"query\":\"한국 계엄령 2023\"}', 'name': 'tavily_search_results_json'}, 'type': 'function'}], 'refusal': None}, response_metadata={'token_usage': {'completion_tokens': 25, 'prompt_tokens': 99, 'total_tokens': 124, 'completion_tokens_details': {'accepted_prediction_tokens': 0, 'audio_tokens': 0, 'reasoning_tokens': 0, 'rejected_prediction_tokens': 0}, 'prompt_tokens_details': {'audio_tokens': 0, 'cached_tokens': 0}}, 'model_name': 'gpt-4o-mini-2024-07-18', 'system_fingerprint': 'fp_0aa8d3e20b', 'finish_reason': 'tool_calls', 'logprobs': None}, id='run-efda032c-25e4-4fa7-949a-4d7190e15eba-0', tool_calls=[{'name': 'tavily_search_results_json', 'args': {'query': '한국 계엄령 2023'}, 'id': 'call_tBgfzIA52zNtViT3Juws3NF4', 'type': 'tool_call'}], usage_metadata={'input_tokens': 99, 'output_tokens': 25, 'total_tokens': 124, 'input_token_details': {'audio': 0, 'cache_read': 0}, 'output_token_details': {'audio': 0, 'reasoning': 0}}),\n",
       "  ToolMessage(content='[{\"url\": \"https://ko.wikipedia.org/wiki/2024년_대한민국_비상계엄\", \"content\": \"2024년 대한민국 비상계엄 편집 2024년 대한민국 비상계엄 날짜  2024년 12월 3일 2024년 대한민국 비상계엄은 2024년 12월 3일 오후 10시 30분경 대한민국의 윤석열 정부가 선포한 비상계엄이다. 2024년 12월 3일 윤석열은 계엄령을 선포했다. ↑ 이승준 (2024년 12월 3일). ↑ 이승준 (2024년 8월 26일). ↑ 이승준 (2024년 8월 26일). ↑ 가 나 손우성; 이보라 (2024년 9월 10일). ↑ 신수아 (2024년 9월 5일). ↑ 김민형 (2024년 9월 5일). ↑ 박서연 (2024년 9월 4일). ↑ 박재령 (2024년 9월 3일). ↑ 2024-12-03, 유새슬; 박순봉 (2024년 12월 3일). 2024년 12월 3일. ↑ 유정인 (2024년 12월 3일). ↑ 박용하; 신주영 (2024년 12월 3일). ↑ 고한솔 (2024년 12월 3일). ↑ 고한솔 (2024년 12월 3일). ↑ 김민형 (2024년 12월 3일). 이 문서는 2024년 12월 4일 (수) 00:22에 마지막으로 편집되었습니다.\"}, {\"url\": \"https://www.hankookilbo.com/News/Read/A2024120411070003147\", \"content\": \"미국 백악관 국가안보회의(NSC) 대변인은 이날 계엄 상황이 해제된 직후 성명을 통해 \\\\\"우리는 윤 대통령이 우려스러운 계엄령 선포와 관련해 방향을 바꿔서 계엄을 해제하는 한국 국회의 표결을 존중한 것에 대해 안도한다\\\\\"고 밝혔다. 토니 블링컨 미국 국무장관도 성명에서 \\\\\"우리는 윤 대통령이 국회의 만장일치 해제 결의안 통과 이후 헌법에 따라 비상계엄령을 해제하겠다고 한 발표를 환영한다\\\\\"고 밝혔다. 그는 \\\\\"미국은 지난 24시간 동안 한국의 상황을 면밀히 주시해왔다\\\\\"며 \\\\\"우리는 정치적 이견이 평화적이고 법치에 따라 해결되기를 계속 기대한다\\\\\"고 강조했다. 블링컨 장관, 제이크 설리번 백악관 국가안보보좌관 등과 함께 아프리카 앙골라를 방문 중인 조 바이든 미국 대통령은 한국의 계엄령 선포 사실과 진행 상황을 보고 받은 것으로 알려진다. 드미트리 페스코프 러시아 크렘린궁 대변인은 \\\\\"한국의 계엄령 선포 이후 상황이 걱정스러우며 우리는 이를 면밀히 지켜보고 있다\\\\\"고 말했다고 국영 인테르팍스 통신이 전했다.\"}]', name='tavily_search_results_json', id='c4cbdea8-363f-49f6-8836-14f6be21f97c', tool_call_id='call_tBgfzIA52zNtViT3Juws3NF4', artifact={'query': '한국 계엄령 2023', 'follow_up_questions': None, 'answer': None, 'images': [], 'results': [{'title': '2024년 대한민국 비상계엄 - 위키백과, 우리 모두의 백과사전', 'url': 'https://ko.wikipedia.org/wiki/2024년_대한민국_비상계엄', 'content': '2024년 대한민국 비상계엄 편집 2024년 대한민국 비상계엄 날짜  2024년 12월 3일 2024년 대한민국 비상계엄은 2024년 12월 3일 오후 10시 30분경 대한민국의 윤석열 정부가 선포한 비상계엄이다. 2024년 12월 3일 윤석열은 계엄령을 선포했다. ↑ 이승준 (2024년 12월 3일). ↑ 이승준 (2024년 8월 26일). ↑ 이승준 (2024년 8월 26일). ↑ 가 나 손우성; 이보라 (2024년 9월 10일). ↑ 신수아 (2024년 9월 5일). ↑ 김민형 (2024년 9월 5일). ↑ 박서연 (2024년 9월 4일). ↑ 박재령 (2024년 9월 3일). ↑ 2024-12-03, 유새슬; 박순봉 (2024년 12월 3일). 2024년 12월 3일. ↑ 유정인 (2024년 12월 3일). ↑ 박용하; 신주영 (2024년 12월 3일). ↑ 고한솔 (2024년 12월 3일). ↑ 고한솔 (2024년 12월 3일). ↑ 김민형 (2024년 12월 3일). 이 문서는 2024년 12월 4일 (수) 00:22에 마지막으로 편집되었습니다.', 'score': 0.33574328, 'raw_content': None}, {'title': '계엄령 해제에도 국제사회 \\'상황 주시\\'… \"북한, 이번 상황 이용 가능성\" | 한국일보', 'url': 'https://www.hankookilbo.com/News/Read/A2024120411070003147', 'content': '미국 백악관 국가안보회의(NSC) 대변인은 이날 계엄 상황이 해제된 직후 성명을 통해 \"우리는 윤 대통령이 우려스러운 계엄령 선포와 관련해 방향을 바꿔서 계엄을 해제하는 한국 국회의 표결을 존중한 것에 대해 안도한다\"고 밝혔다. 토니 블링컨 미국 국무장관도 성명에서 \"우리는 윤 대통령이 국회의 만장일치 해제 결의안 통과 이후 헌법에 따라 비상계엄령을 해제하겠다고 한 발표를 환영한다\"고 밝혔다. 그는 \"미국은 지난 24시간 동안 한국의 상황을 면밀히 주시해왔다\"며 \"우리는 정치적 이견이 평화적이고 법치에 따라 해결되기를 계속 기대한다\"고 강조했다. 블링컨 장관, 제이크 설리번 백악관 국가안보보좌관 등과 함께 아프리카 앙골라를 방문 중인 조 바이든 미국 대통령은 한국의 계엄령 선포 사실과 진행 상황을 보고 받은 것으로 알려진다. 드미트리 페스코프 러시아 크렘린궁 대변인은 \"한국의 계엄령 선포 이후 상황이 걱정스러우며 우리는 이를 면밀히 지켜보고 있다\"고 말했다고 국영 인테르팍스 통신이 전했다.', 'score': 0.22792482, 'raw_content': None}], 'response_time': 1.88}),\n",
       "  AIMessage(content='한국에서 최근 계엄령이 선포된 것은 2024년 12월 3일입니다. 윤석열 정부가 오후 10시 30분경에 비상계엄을 선포하였으며, 이후 국회의 만장일치 해제 결의안 통과에 따라 계엄은 해제되었습니다. 이와 관련하여 미국과 러시아의 반응도 보도되었습니다. \\n\\n더 자세한 내용은 [여기](https://ko.wikipedia.org/wiki/2024년_대한민국_비상계엄)에서 확인할 수 있습니다.', additional_kwargs={'refusal': None}, response_metadata={'token_usage': {'completion_tokens': 123, 'prompt_tokens': 873, 'total_tokens': 996, 'completion_tokens_details': {'accepted_prediction_tokens': 0, 'audio_tokens': 0, 'reasoning_tokens': 0, 'rejected_prediction_tokens': 0}, 'prompt_tokens_details': {'audio_tokens': 0, 'cached_tokens': 0}}, 'model_name': 'gpt-4o-mini-2024-07-18', 'system_fingerprint': 'fp_0aa8d3e20b', 'finish_reason': 'stop', 'logprobs': None}, id='run-fd2248d0-58d6-40ee-a4c4-7355bf38e853-0', usage_metadata={'input_tokens': 873, 'output_tokens': 123, 'total_tokens': 996, 'input_token_details': {'audio': 0, 'cache_read': 0}, 'output_token_details': {'audio': 0, 'reasoning': 0}})]}"
      ]
     },
     "execution_count": 44,
     "metadata": {},
     "output_type": "execute_result"
    }
   ],
   "source": [
    "graph.invoke({\"messages\": {\"role\": \"user\", \"content\": \"한국이 최근에 계엄령이 일어났다고 하는데 언제 일어났어?\"}})\n",
    "\n",
    "# 지금 질문은 llm이 실시간성 정보니까 웹검색을 활용해야겠다. 라고 판단을 하여 결과를 보면 additional_kwargs={'tool_calls'... 이런식으로 tool_calls을 통해 답변을 한 것을 볼 수 있다.\n",
    "# 사용자 질문(HumanMessage) -> AI(llm)가 tool_calls 속성을 만들어 도구한테 주어짐(AIMessage) -> 도구 호출 결과로 답변이 쭉 나옴(ToolMessage) -> 마지막으로 도구로 통한 답변을 정리하여 AI(llm)이 답변을 정리하여 뱉어줌 (AIMessage)"
   ]
  },
  {
   "cell_type": "markdown",
   "id": "76572368-5cd1-4317-bc3e-247203ff28a5",
   "metadata": {},
   "source": [
    "**LLM이 답할 수 있는 질문**"
   ]
  },
  {
   "cell_type": "code",
   "execution_count": 49,
   "id": "6dd9acc9-84b0-4a30-b07d-cb99ed452c45",
   "metadata": {},
   "outputs": [
    {
     "data": {
      "text/plain": [
       "{'messages': [HumanMessage(content='마이크로소프트가 어떤 회사야?', id='15a7fd9f-5afb-4c7d-91be-b99a8fef88c2'),\n",
       "  AIMessage(content='마이크로소프트(Microsoft)는 미국의 다국적 기술 기업으로, 소프트웨어, 하드웨어, 전자 제품 및 서비스 분야에서 활동하고 있습니다. 1975년 빌 게이츠와 폴 앨런에 의해 설립된 이 회사는 세계에서 가장 큰 소프트웨어 제작업체 중 하나로 알려져 있습니다.\\n\\n마이크로소프트의 가장 유명한 제품은 다음과 같습니다:\\n\\n1. **운영 체제**: Windows 시리즈는 개인용 컴퓨터와 서버에서 널리 사용되는 운영 체제입니다.\\n2. **오피스 제품군**: Microsoft Office는 워드, 엑셀, 파워포인트 등 다양한 생산성 도구를 포함하고 있습니다.\\n3. **클라우드 서비스**: Azure는 마이크로소프트의 클라우드 컴퓨팅 플랫폼으로, 기업들이 클라우드 기반의 서비스를 구축하고 운영할 수 있게 돕습니다.\\n4. **게임**: Xbox 게임 콘솔과 Xbox Live 서비스는 마이크로소프트의 게임 분야에서 중요한 제품입니다.\\n5. **소프트웨어 개발**: Visual Studio와 같은 개발 도구를 제공하여 소프트웨어 개발자를 지원합니다.\\n\\n마이크로소프트는 또한 인공지능(AI), 가상 현실(VR), 증강 현실(AR), 그리고 다양한 혁신 기술 분야에서도 활발히 연구 및 개발을 진행하고 있습니다. 이 회사는 전 세계적으로 수많은 직원과 고객을 보유하고 있으며, 기술 혁신과 기업 사회적 책임에 중점을 두고 운영되고 있습니다.', additional_kwargs={'refusal': None}, response_metadata={'token_usage': {'completion_tokens': 334, 'prompt_tokens': 89, 'total_tokens': 423}, 'model_name': 'gpt-4o-mini-2024-07-18', 'system_fingerprint': 'fp_9722793223', 'finish_reason': 'stop', 'logprobs': None}, id='run-f8a0ff03-0113-44f6-a500-3dbd8c5c9cbf-0', usage_metadata={'input_tokens': 89, 'output_tokens': 334, 'total_tokens': 423})]}"
      ]
     },
     "execution_count": 49,
     "metadata": {},
     "output_type": "execute_result"
    }
   ],
   "source": [
    "graph.invoke({\"messages\": {\"role\": \"user\", \"content\": \"마이크로소프트가 어떤 회사야?\"}})\n",
    "\n",
    "# 실시간 성이 필요하지 않고 llm이 직접 답할 수 있는 질문이면 AIMessage에 tool_calls가 호출하지 않고 바로 그대로 content에 담겨 답변을 한것을 볼 수 있다."
   ]
  }
 ],
 "metadata": {
  "kernelspec": {
   "display_name": "Python 3",
   "language": "python",
   "name": "python3"
  },
  "language_info": {
   "codemirror_mode": {
    "name": "ipython",
    "version": 3
   },
   "file_extension": ".py",
   "mimetype": "text/x-python",
   "name": "python",
   "nbconvert_exporter": "python",
   "pygments_lexer": "ipython3",
   "version": "3.12.1"
  }
 },
 "nbformat": 4,
 "nbformat_minor": 5
}
