{
 "cells": [
  {
   "cell_type": "markdown",
   "id": "557e4ccc-0344-4c6f-9858-6bc068d84aba",
   "metadata": {},
   "source": [
    "### **Langgraph Tool 활용 기초** ###"
   ]
  },
  {
   "cell_type": "markdown",
   "id": "531e4eb2",
   "metadata": {},
   "source": [
    "### 랭그래프에서 Tool을 어떤식으로 활용해야 될까?\n",
    "LLM이 판단하기에 본인이 직접 답변하기 어려운 경우 Tool을 활용하도록 만들어 줄 수가 있다.\n",
    "만약에 Tool이 이 시스템안에 등록이 되어 있지 않다면 어떤 질문이 왔는데 (예를 들어 가장 최신의 질문이나 답변하기 어려운 질문 같은것)\n",
    "LLM이 스스로 판단하기에 잘 모르는 부분이면 모른다고 하는게 아닌 엉뚱한 정보를 알려줄 수 있다.\n",
    "이를 환각현상 이라고 한다. (모르지만 아는 것처럼 엉뚱한 정보나 거짓된 정보를 줄 수 있음)\n",
    "\n",
    "하지만 도구를 결합해서 LLM이 도구를 활용할 수 있도록 어떤 조치를 취해주면 최신질문이나 자세한 정보, 실시간 정보\n",
    "이런 외부에 도움이 필요한 질문을 했을 때 LLM이 나는 도구를 필요로 하고 있고 웹서치를 활용해야 겠다는 판단이 들게 되면,\n",
    "웹 서치가 있는 Tool Node를 들어가서 Tool Node를 실행한 결과를 받아 사용자에게 정리된 답변을 전달하는 방식으로 Tool을 활용하게 된다.\n",
    "\n",
    "이 과정에서 만약에 Tool을 사용하지 않고도 LLM이 출분히 답변할 수 있는 상황이면 그렇게 하고,\n",
    "그게 아니고 답변이 어려운 경우 Tool활용을 선택적으로 사용할 수 있도록 만들어 주면된다.\n",
    "\n",
    "엣지를 어떤식으로 설정해야 하는지도 한번 살펴보자"
   ]
  },
  {
   "cell_type": "code",
   "execution_count": 1,
   "id": "46300929",
   "metadata": {},
   "outputs": [
    {
     "ename": "ModuleNotFoundError",
     "evalue": "No module named 'dotenv'",
     "output_type": "error",
     "traceback": [
      "\u001b[0;31m---------------------------------------------------------------------------\u001b[0m",
      "\u001b[0;31mModuleNotFoundError\u001b[0m                       Traceback (most recent call last)",
      "Cell \u001b[0;32mIn[1], line 1\u001b[0m\n\u001b[0;32m----> 1\u001b[0m \u001b[38;5;28;01mfrom\u001b[39;00m \u001b[38;5;21;01mdotenv\u001b[39;00m \u001b[38;5;28;01mimport\u001b[39;00m load_dotenv\n\u001b[1;32m      3\u001b[0m load_dotenv()\n",
      "\u001b[0;31mModuleNotFoundError\u001b[0m: No module named 'dotenv'"
     ]
    }
   ],
   "source": [
    "from dotenv import load_dotenv\n",
    "\n",
    "load_dotenv()"
   ]
  },
  {
   "cell_type": "code",
   "execution_count": 111,
   "id": "ecd740a2-2cf1-4a38-aef5-59ba26a622cf",
   "metadata": {},
   "outputs": [],
   "source": [
    "from langchain_core.messages import AIMessage\n",
    "from langchain_core.tools import tool # Tool라이브러리 가져오기\n",
    "\n",
    "from langgraph.prebuilt import ToolNode # Tool들을 선언해주고 실제로 그래프 내에서 활용할 수 있는 노드로 변환을 시켜주는 라이브러리 가져오기"
   ]
  },
  {
   "cell_type": "markdown",
   "id": "2ef1a136-6232-4dd3-aabc-a03507fb1c64",
   "metadata": {},
   "source": [
    "#### **Langgraph Custom Tool 선언** ####"
   ]
  },
  {
   "cell_type": "markdown",
   "id": "aaa86631",
   "metadata": {},
   "source": [
    "외부API를 결합하는게 아닌\n",
    "기초적으로 어떤 가상의 답변을 내놓은 함수를 Tool로 만들어서 활용해보기"
   ]
  },
  {
   "cell_type": "code",
   "execution_count": 113,
   "id": "9fe1e271-e399-4eb9-869d-dd85fece1774",
   "metadata": {},
   "outputs": [],
   "source": [
    "#langchain_core.tools의 tool을 import하면 @tool 데코레이터만으로 함수를 langchain의 tool로 변환할 수 있다.\n",
    "#아래 날씨 관련 함수들은 임의의 로직이므로, 실제 함수는 API를 포함한 로직이 들어가면 된다.\n",
    "\n",
    "# tool 데코레이터(@)를 달고 함수를 작성해주면 된다.\n",
    "\n",
    "# 1. 날씨를 출력해주는 함수\n",
    "@tool\n",
    "def get_weather(location: str): # 입력값은 location이고 타입은 string 선언\n",
    "    \"\"\"Call to get the weather\"\"\" # 이 부분은 docString을 적어주어 agent가 어떤 도구를 사용해야 할지 선택할 때 힌트로써 활용하게 된다. (날씨를 알아보기에 좋은 도구다)\n",
    "    if location in [\"서울\", \"인천\"]:\n",
    "        return \"It's 60 degrees and foggy.\" # 입력값으로 서울이나 인천이 들어오면 반환\n",
    "    else:\n",
    "        return \"It's 90 degrees and sunny.\" # 둘 다 아니면 이 부분 반환\n",
    "    # 실제로 날씨 API를 불러온건 아니지만 그렇다고 하는 경우에 이런식으로 만들어 볼 수 있다. 예시함수\n",
    "\n",
    "# 2. 가장 추운 도시들을 출력해주는 함수\n",
    "@tool\n",
    "def get_coolest_cities(): # 아무런 입력값을 받지않고 출력\n",
    "    \"\"\"Get a list of coolest cities\"\"\"\n",
    "    return \"서울, 고성\""
   ]
  },
  {
   "cell_type": "code",
   "execution_count": 115,
   "id": "eeff4c38-0f37-4853-aa67-105ebc04df07",
   "metadata": {},
   "outputs": [],
   "source": [
    "#Tool Node로 묶어줄 때, 리스트 형태로 tool들을 함께 제공합니다.\n",
    "tools = [get_weather, get_coolest_cities]\n",
    "tool_node = ToolNode(tools) # aget가 ToolNode로 요청을 보냈을 때 ToolNode에 있는 여러가지 툴들 중에 어떤 툴을 부르는건지 어떤식으로 실행하는지에 대해서 자세히 알 수 있게된다."
   ]
  },
  {
   "cell_type": "code",
   "execution_count": null,
   "id": "52badb6a-093d-4980-abd0-33ac257aad13",
   "metadata": {},
   "outputs": [],
   "source": [
    "#bind_tools() 함수로 LLM에게 어떤 tool들이 있는지 인지시켜 도구를 활용하도록 만듭니다.\n",
    "from langchain_openai import ChatOpenAI\n",
    "\n",
    "model_with_tools = ChatOpenAI(\n",
    "    model=\"gpt-4o-mini\", temperature=0\n",
    ").bind_tools(tools) # ai를 그냥 불러오는게 아닌 bind_tools로 어떤 도구들이 있는지 힌트를 줄 수 있게끔 만들어줌\n",
    "                    # gpt-4o-mini 모델은 tools를 살펴보고 이런 도구들을 가지고 있구나 인지하게됨"
   ]
  },
  {
   "cell_type": "code",
   "execution_count": 127,
   "id": "adcb1fcc-5aa6-4f6a-80f0-de7cff01a5d9",
   "metadata": {},
   "outputs": [
    {
     "data": {
      "text/plain": [
       "[{'name': 'get_weather',\n",
       "  'args': {'location': '서울'},\n",
       "  'id': 'call_HmyqZSrjgHd0p59ePE1Ll9kZ',\n",
       "  'type': 'tool_call'}]"
      ]
     },
     "execution_count": 127,
     "metadata": {},
     "output_type": "execute_result"
    }
   ],
   "source": [
    "model_with_tools.invoke(\"서울 날씨는 어때?\").tool_calls"
   ]
  },
  {
   "cell_type": "code",
   "execution_count": 125,
   "id": "f37897ec-6be6-4faf-88b9-9db08595e7c9",
   "metadata": {},
   "outputs": [
    {
     "data": {
      "text/plain": [
       "[{'name': 'get_coolest_cities',\n",
       "  'args': {},\n",
       "  'id': 'call_lt9B0z9aILHS2HHJCyId5F7G',\n",
       "  'type': 'tool_call'}]"
      ]
     },
     "execution_count": 125,
     "metadata": {},
     "output_type": "execute_result"
    }
   ],
   "source": [
    "model_with_tools.invoke(\"한국에서 가장 추운 도시는?\").tool_calls"
   ]
  },
  {
   "cell_type": "code",
   "execution_count": 129,
   "id": "e96dfc22-f9a2-43ee-89f3-b8c12f361a6b",
   "metadata": {},
   "outputs": [
    {
     "data": {
      "text/plain": [
       "{'messages': [ToolMessage(content=\"It's 60 degrees and foggy.\", name='get_weather', tool_call_id='call_k7S04S37SUlIhe5jdyw9zJIb')]}"
      ]
     },
     "execution_count": 129,
     "metadata": {},
     "output_type": "execute_result"
    }
   ],
   "source": [
    "tool_node.invoke({\"messages\": [model_with_tools.invoke(\"서울 날씨는 어때?\")]})"
   ]
  },
  {
   "cell_type": "markdown",
   "id": "33b05567-9cdf-4bf9-b80e-e5fabe3d412a",
   "metadata": {},
   "source": [
    "#### **노드, 엣지를 선언하고 그래프 정의하기** ####\n",
    "\n",
    "실제로 어떤식으로 그래프에서 작동하는지 살펴보자"
   ]
  },
  {
   "cell_type": "code",
   "execution_count": 131,
   "id": "b4842094-35a6-4135-9e59-fbd8208333bf",
   "metadata": {},
   "outputs": [],
   "source": [
    "from typing import Annotated, Literal, TypedDict\n",
    "from langchain_core.messages import HumanMessage\n",
    "from langchain_core.tools import tool\n",
    "from langgraph.graph import END, START, StateGraph, MessagesState\n",
    "\n",
    "def should_continue(state: MessagesState) -> Literal[\"tools\", END]:\n",
    "    messages = state['messages']\n",
    "    last_message = messages[-1]\n",
    "    if last_message.tool_calls:\n",
    "        return \"tools\"\n",
    "    return END\n",
    "\n",
    "\n",
    "def call_model(state: MessagesState):\n",
    "    messages = state['messages']\n",
    "    response = model_with_tools.invoke(messages)\n",
    "    return {\"messages\": [response]}\n",
    "\n",
    "\n",
    "workflow = StateGraph(MessagesState)\n",
    "\n",
    "workflow.add_node(\"agent\", call_model)\n",
    "workflow.add_node(\"tools\", tool_node)\n",
    "\n",
    "workflow.add_edge(START, \"agent\")\n",
    "\n",
    "# add_conditional_edges는 조건부 엣지 추가 함수입니다.\n",
    "#아래 conditional_edge는 should_continue라는 함수에 따라 agent 노드에서 tool 혹은 end로 진입시킵니다.\n",
    "# def should_continue(state: MessagesState) -> Literal[\"tools\", END]:\n",
    "#     messages = state['messages']\n",
    "#     last_message = messages[-1]\n",
    "#     # If the LLM makes a tool call, then we route to the \"tools\" node\n",
    "#     if last_message.tool_calls:\n",
    "#         return \"tools\"\n",
    "#     # Otherwise, we stop (reply to the user)\n",
    "#     return END\n",
    "\n",
    "workflow.add_conditional_edges(\n",
    "    \"agent\",\n",
    "    should_continue,\n",
    ")\n",
    "\n",
    "workflow.add_edge(\"tools\", 'agent')\n",
    "\n",
    "app = workflow.compile()"
   ]
  },
  {
   "cell_type": "markdown",
   "id": "0c5fb168-dc19-42f2-b23c-8acad9cddd21",
   "metadata": {},
   "source": [
    "#### **그래프 시각화** ####"
   ]
  },
  {
   "cell_type": "code",
   "execution_count": 133,
   "id": "f7d3ce14-bf53-4ae3-ae00-d1c91c681285",
   "metadata": {},
   "outputs": [
    {
     "data": {
      "image/jpeg": "[encoded data removed]",
      "text/plain": [
       "<IPython.core.display.Image object>"
      ]
     },
     "metadata": {},
     "output_type": "display_data"
    }
   ],
   "source": [
    "from IPython.display import Image, display\n",
    "\n",
    "try:\n",
    "    display(Image(graph.get_graph().draw_mermaid_png()))\n",
    "except Exception:\n",
    "    # This requires some extra dependencies and is optional\n",
    "    pass"
   ]
  },
  {
   "cell_type": "markdown",
   "id": "c6613170-9115-44bc-935d-a5967749db3c",
   "metadata": {},
   "source": [
    "#### **invoke 함수로 그래프 호출하기** ####"
   ]
  },
  {
   "cell_type": "code",
   "execution_count": 135,
   "id": "7fdb20fc-4ec8-4f1e-93ed-06abc22bd429",
   "metadata": {},
   "outputs": [
    {
     "data": {
      "text/plain": [
       "'서울의 날씨는 60도(약 15도)이며 안개가 낀 상태입니다.'"
      ]
     },
     "execution_count": 135,
     "metadata": {},
     "output_type": "execute_result"
    }
   ],
   "source": [
    "final_state = app.invoke(\n",
    "    {\"messages\": [HumanMessage(content=\"서울의 날씨는 어때?\")]}\n",
    ")\n",
    "final_state[\"messages\"][-1].content"
   ]
  },
  {
   "cell_type": "code",
   "execution_count": 137,
   "id": "43b411ea-8159-4bb6-a356-aa0f930952f7",
   "metadata": {},
   "outputs": [
    {
     "name": "stdout",
     "output_type": "stream",
     "text": [
      "================================\u001b[1m Human Message \u001b[0m=================================\n",
      "\n",
      "가장 추운 도시의 날씨는 어때?\n",
      "==================================\u001b[1m Ai Message \u001b[0m==================================\n",
      "Tool Calls:\n",
      "  get_coolest_cities (call_KVq9iOM6UMURVnYj2VvydHid)\n",
      " Call ID: call_KVq9iOM6UMURVnYj2VvydHid\n",
      "  Args:\n",
      "=================================\u001b[1m Tool Message \u001b[0m=================================\n",
      "Name: get_coolest_cities\n",
      "\n",
      "서울, 고성\n",
      "==================================\u001b[1m Ai Message \u001b[0m==================================\n",
      "Tool Calls:\n",
      "  get_weather (call_o7SnhRLJXxugmPw1UNseAcfE)\n",
      " Call ID: call_o7SnhRLJXxugmPw1UNseAcfE\n",
      "  Args:\n",
      "    location: 서울\n",
      "  get_weather (call_OaKLeEcLz2PgxMusCjMaxQsf)\n",
      " Call ID: call_OaKLeEcLz2PgxMusCjMaxQsf\n",
      "  Args:\n",
      "    location: 고성\n",
      "=================================\u001b[1m Tool Message \u001b[0m=================================\n",
      "Name: get_weather\n",
      "\n",
      "It's 90 degrees and sunny.\n",
      "==================================\u001b[1m Ai Message \u001b[0m==================================\n",
      "\n",
      "가장 추운 도시인 서울의 날씨는 60도(약 15도)로 안개가 끼어 있습니다. 반면, 고성의 날씨는 90도(약 32도)로 맑고 화창합니다.\n"
     ]
    }
   ],
   "source": [
    "# example with a multiple tool calls in succession\n",
    "\n",
    "for chunk in app.stream(\n",
    "    {\"messages\": [(\"human\", \"가장 추운 도시의 날씨는 어때?\")]},\n",
    "    stream_mode=\"values\",\n",
    "):\n",
    "    chunk[\"messages\"][-1].pretty_print()"
   ]
  }
 ],
 "metadata": {
  "kernelspec": {
   "display_name": "Python 3",
   "language": "python",
   "name": "python3"
  },
  "language_info": {
   "codemirror_mode": {
    "name": "ipython",
    "version": 3
   },
   "file_extension": ".py",
   "mimetype": "text/x-python",
   "name": "python",
   "nbconvert_exporter": "python",
   "pygments_lexer": "ipython3",
   "version": "3.12.1"
  }
 },
 "nbformat": 4,
 "nbformat_minor": 5
}
