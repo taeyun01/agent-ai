{
 "cells": [
  {
   "cell_type": "markdown",
   "id": "bac41b7a",
   "metadata": {},
   "source": [
    "### CodeExecutor로 로컬환경에서 코드 실행해보기\n",
    "사용하는데 주의할점!\n",
    "LocalCommandLineCodeExecutor는 실제로 내 로컬환경 코드가 실행되기 때문에\n",
    "만약에 LLM이 위험한 코드를 작성하고 그것을 실행하게끔 만들었다면\n",
    "내 PC가 위험한 상황을 맞이할 수 있으니 안전한 코드를 작성하는 에이전트 시스템의 경우에만 사용하는 걸 권장\n",
    "\n",
    "좀 위험한 일이 있을것 같거나, 만약 외부라이브러리를 많이 설치해야되는 경우가 있다면\n",
    "다커컨테이너??를 불러와서 거기서 실행시키면 된다."
   ]
  },
  {
   "cell_type": "code",
   "execution_count": null,
   "id": "5ba8892f",
   "metadata": {},
   "outputs": [],
   "source": [
    "%pip install pyautogen"
   ]
  },
  {
   "cell_type": "code",
   "execution_count": 1,
   "id": "3c6cf6c5-188a-4b13-94b4-8e0cc4a2304d",
   "metadata": {},
   "outputs": [],
   "source": [
    "import warnings\n",
    "from dotenv import load_dotenv\n",
    "\n",
    "load_dotenv()\n",
    "warnings.filterwarnings('ignore')"
   ]
  },
  {
   "cell_type": "code",
   "execution_count": 4,
   "id": "4f57a513-d6af-4cc1-b1a2-32dbbe3a06a7",
   "metadata": {},
   "outputs": [
    {
     "name": "stderr",
     "output_type": "stream",
     "text": [
      "flaml.automl is not available. Please install flaml[automl] to enable AutoML functionalities.\n"
     ]
    },
    {
     "name": "stdout",
     "output_type": "stream",
     "text": [
      "sagemaker.config INFO - Not applying SDK defaults from location: /etc/xdg/sagemaker/config.yaml\n",
      "sagemaker.config INFO - Not applying SDK defaults from location: /home/codespace/.config/sagemaker/config.yaml\n"
     ]
    }
   ],
   "source": [
    "import autogen\n",
    "from autogen.coding import LocalCommandLineCodeExecutor\n",
    "# LocalCommandLineCodeExecutor: 내가 받은 PC 로컬환경 내에서 코드를 실행하고 그 결과물을 받아오겠다.\n",
    "\n",
    "\n",
    "config_list = [{\"model\": \"gpt-4o-mini\"}]"
   ]
  },
  {
   "cell_type": "code",
   "execution_count": 9,
   "id": "3c8e1b8f-188a-429d-9587-fd5de4f56170",
   "metadata": {},
   "outputs": [
    {
     "name": "stdout",
     "output_type": "stream",
     "text": [
      "\u001b[33muser_proxy\u001b[0m (to assistant):\n",
      "\n",
      "100까지 소수가 어떤 것이 있는지 코드로 살펴봐주세요.\n",
      "\n",
      "--------------------------------------------------------------------------------\n",
      "\u001b[33massistant\u001b[0m (to user_proxy):\n",
      "\n",
      "소수를 찾기 위해 1부터 100까지의 숫자를 검사하는 파이썬 코드를 작성하겠습니다. 이 코드는 소수를 판별하고, 100 이하의 모든 소수를 출력할 것입니다.\n",
      "\n",
      "아래 코드를 실행해 주세요.\n",
      "\n",
      "```python\n",
      "# filename: find_primes.py\n",
      "def is_prime(n):\n",
      "    if n <= 1:\n",
      "        return False\n",
      "    for i in range(2, int(n**0.5) + 1):\n",
      "        if n % i == 0:\n",
      "            return False\n",
      "    return True\n",
      "\n",
      "primes = [num for num in range(1, 101) if is_prime(num)]\n",
      "print(primes)\n",
      "```\n",
      "\n",
      "코드를 실행한 후 결과를 확인해 주세요.\n",
      "\n",
      "--------------------------------------------------------------------------------\n",
      "\u001b[31m\n",
      ">>>>>>>> EXECUTING CODE BLOCK (inferred language is python)...\u001b[0m\n",
      "\u001b[33muser_proxy\u001b[0m (to assistant):\n",
      "\n",
      "exitcode: 0 (execution succeeded)\n",
      "Code output: [2, 3, 5, 7, 11, 13, 17, 19, 23, 29, 31, 37, 41, 43, 47, 53, 59, 61, 67, 71, 73, 79, 83, 89, 97]\n",
      "\n",
      "\n",
      "--------------------------------------------------------------------------------\n",
      "\u001b[33massistant\u001b[0m (to user_proxy):\n",
      "\n",
      "100 이하의 소수는 다음과 같습니다:\n",
      "\n",
      "\\[2, 3, 5, 7, 11, 13, 17, 19, 23, 29, 31, 37, 41, 43, 47, 53, 59, 61, 67, 71, 73, 79, 83, 89, 97\\]\n",
      "\n",
      "작업이 완료되었습니다. TERMINATE\n",
      "\n",
      "--------------------------------------------------------------------------------\n"
     ]
    }
   ],
   "source": [
    "# UserProxyAgent와 AssistantAgent를 활용 할 것이다.\n",
    "# UserProxyAgent에다가 CodeExecutor를 붙여서 UserProxyAgent가 어떤 코드실행 결과를 실행할 때 마다 사용자한테 허락을 받도록 구현 해보기\n",
    "\n",
    "# 1. AssistantAgent 만들기 \n",
    "assistant = autogen.AssistantAgent(\n",
    "    name=\"assistant\",\n",
    "    llm_config={\n",
    "        \"config_list\": config_list,  \n",
    "        \"temperature\": 0, # 답변이 일관성 있게 나옴. (코드를 실행한다던가, 코드를 만드는데에 있어서 좀 더 높은 일관성을 가지고 싶을 때, 0으로 설정)\n",
    "    }, \n",
    ")\n",
    "\n",
    "# 2. UserProxyAgent 만들기 \n",
    "user_proxy = autogen.UserProxyAgent(\n",
    "    name=\"user_proxy\",\n",
    "    max_consecutive_auto_reply=10, # 만약에 human_input_mode를 \"NEVER\"로 했을 때, 즉 인간의 개입이 없다고 했을 때 자동적으로 계속 UserProxyAgent가 응답을 하게되는데 그 최대치를 정해줌 (무한루프를 탈 수도 있기 때문에)\n",
    "    # 이번엔 human_input_mode를 \"ALWAYS\"로 해서 항상 인간의 허락을 받고 진행할 거기 때문에 주석처리\n",
    "    is_termination_msg=lambda x: x.get(\"content\", \"\").rstrip().endswith(\"TERMINATE\"), # UserProxyAgent의 메시지를 받았을 때, \"content\"에 해당하는 key 값을 value로 가져왔는데, \"TERMINATE\"로 끝나면 에이전트의 행동을 멈추겠다.\n",
    "    code_execution_config={  # code_execution 사용\n",
    "        # 생성된 코드를 실행하는 실행기 \n",
    "        \"executor\": LocalCommandLineCodeExecutor(work_dir=\"coding\"), # work_dir(워크 디렉토리)를 설저앟고 \"coding\"이라는 폴더 안에 LocalCommandLineCodeExecutor가 실행한 코드의 결과물을 저장.\n",
    "    },\n",
    "    human_input_mode=\"NEVER\", # NEVER: AI가 알아서 진행, ALWAYS: 인간에게 허락을 맡음\n",
    ")\n",
    "\n",
    "# 1) UserProxyAgent가 \n",
    "chat_res = user_proxy.initiate_chat(\n",
    "    assistant, # 3) assistant에이전트 한테\n",
    "    message=\"\"\"100까지 소수가 어떤 것이 있는지 코드로 살펴봐주세요.\"\"\", # 2) 해당 메세지를 보냄 누구한테?\n",
    "    summary_method=\"reflection_with_llm\", # user_proxy에이전트와 assistant에이전트가 대화한 내용을 요약해서 받기 위해 설정\n",
    ")"
   ]
  },
  {
   "cell_type": "code",
   "execution_count": 6,
   "id": "bfd316ca-d3cb-4824-b297-7d855721a7fe",
   "metadata": {},
   "outputs": [
    {
     "name": "stdout",
     "output_type": "stream",
     "text": [
      "Chat history: [{'content': '100까지 소수가 어떤 것이 있는지 코드로 살펴봐주세요.', 'role': 'assistant', 'name': 'user_proxy'}, {'content': '소수를 찾기 위해 1부터 100까지의 숫자를 검사하는 파이썬 코드를 작성하겠습니다. 이 코드는 소수를 판별하고, 100 이하의 모든 소수를 출력할 것입니다.\\n\\n아래 코드를 실행해 주세요.\\n\\n```python\\n# filename: find_primes.py\\ndef is_prime(n):\\n    if n <= 1:\\n        return False\\n    for i in range(2, int(n**0.5) + 1):\\n        if n % i == 0:\\n            return False\\n    return True\\n\\nprimes = [num for num in range(1, 101) if is_prime(num)]\\nprint(primes)\\n```\\n\\n코드를 실행한 후 결과를 확인해 주세요.', 'role': 'user', 'name': 'assistant'}, {'content': 'exitcode: 0 (execution succeeded)\\nCode output: [2, 3, 5, 7, 11, 13, 17, 19, 23, 29, 31, 37, 41, 43, 47, 53, 59, 61, 67, 71, 73, 79, 83, 89, 97]\\n', 'role': 'assistant', 'name': 'user_proxy'}, {'content': '100 이하의 소수는 다음과 같습니다:\\n\\n\\\\[2, 3, 5, 7, 11, 13, 17, 19, 23, 29, 31, 37, 41, 43, 47, 53, 59, 61, 67, 71, 73, 79, 83, 89, 97\\\\]\\n\\n작업이 완료되었습니다. TERMINATE', 'role': 'user', 'name': 'assistant'}]\n",
      "--------------------------------------------------------------------------------\n",
      "Summary: 100 이하의 소수 목록은 2, 3, 5, 7, 11, 13, 17, 19, 23, 29, 31, 37, 41, 43, 47, 53, 59, 61, 67, 71, 73, 79, 83, 89, 97이다.\n",
      "--------------------------------------------------------------------------------\n",
      "Cost info: {'usage_including_cached_inference': {'total_cost': 0.0004403999999999999, 'gpt-4o-mini-2024-07-18': {'cost': 0.0004403999999999999, 'prompt_tokens': 1612, 'completion_tokens': 331, 'total_tokens': 1943}}, 'usage_excluding_cached_inference': {'total_cost': 0.0004403999999999999, 'gpt-4o-mini-2024-07-18': {'cost': 0.0004403999999999999, 'prompt_tokens': 1612, 'completion_tokens': 331, 'total_tokens': 1943}}}\n"
     ]
    }
   ],
   "source": [
    "print(\"Chat history:\", chat_res.chat_history) # 두 에이전트가 각각 어떤 content를 출력했는지에 대해서 쭉 담아놓음\n",
    "print(\"-\"*80)\n",
    "print(\"Summary:\", chat_res.summary) # 지금 까지 나눈 대화 요약\n",
    "print(\"-\"*80)\n",
    "print(\"Cost info:\", chat_res.cost) # 대화간에 발생했던 비용에 대해서 출력"
   ]
  },
  {
   "cell_type": "code",
   "execution_count": 12,
   "id": "ef4e47e7-9f3e-401c-91ea-4968ffc8186a",
   "metadata": {},
   "outputs": [
    {
     "name": "stdout",
     "output_type": "stream",
     "text": [
      "\u001b[33muser_proxy\u001b[0m (to assistant):\n",
      "\n",
      "예시 영어 문장을 만들고, 키워드를 추출하세요\n",
      "\n",
      "--------------------------------------------------------------------------------\n",
      "\u001b[33massistant\u001b[0m (to user_proxy):\n",
      "\n",
      "예시 영어 문장을 만들고, 그 문장에서 키워드를 추출하는 파이썬 코드를 작성하겠습니다. 아래 코드를 실행해 주세요.\n",
      "\n",
      "```python\n",
      "# filename: extract_keywords_english.py\n",
      "import re\n",
      "from collections import Counter\n",
      "\n",
      "# 예시 문장\n",
      "sentence = \"Machine learning is revolutionizing industries by providing insights from large datasets.\"\n",
      "\n",
      "# 단어 추출 및 소문자 변환\n",
      "words = re.findall(r'\\b\\w+\\b', sentence.lower())\n",
      "\n",
      "# 불용어 목록\n",
      "stop_words = set([\n",
      "    'is', 'the', 'by', 'to', 'from', 'and', 'a', 'of', 'in', 'that', 'it', 'as', 'for', 'on', 'with', 'this', 'an', 'are', 'at', 'be', 'or', 'which', 'but', 'not', 'all', 'can', 'we', 'you', 'your', 'their', 'they', 'if', 'has', 'have', 'more', 'than', 'so', 'about', 'up', 'out', 'just', 'like', 'will', 'no', 'do', 'what', 'when', 'where', 'who', 'how', 'there', 'here', 'my', 'our', 'its', 'he', 'she', 'them', 'me', 'us', 'him', 'her', 'his', 'hers', 'theirs', 'yours', 'the', 'and', 'is', 'are', 'was', 'were', 'been', 'being', 'am', 'i', 'you', 'he', 'she', 'it', 'we', 'they', 'that', 'this', 'these', 'those', 'each', 'every', 'some', 'any', 'one', 'two', 'three', 'four', 'five', 'six', 'seven', 'eight', 'nine', 'ten'\n",
      "])\n",
      "\n",
      "# 불용어 제거\n",
      "keywords = [word for word in words if word not in stop_words]\n",
      "\n",
      "# 키워드 빈도수 계산\n",
      "keyword_counts = Counter(keywords)\n",
      "\n",
      "# 결과 출력\n",
      "print(\"Keywords:\", list(keyword_counts.keys()))\n",
      "print(\"Keyword Counts:\", dict(keyword_counts))\n",
      "```\n",
      "\n",
      "코드를 실행한 후 결과를 확인해 주세요.\n",
      "\n",
      "--------------------------------------------------------------------------------\n",
      "\u001b[31m\n",
      ">>>>>>>> EXECUTING CODE BLOCK (inferred language is python)...\u001b[0m\n",
      "\u001b[33muser_proxy\u001b[0m (to assistant):\n",
      "\n",
      "exitcode: 0 (execution succeeded)\n",
      "Code output: Keywords: ['machine', 'learning', 'revolutionizing', 'industries', 'providing', 'insights', 'large', 'datasets']\n",
      "Keyword Counts: {'machine': 1, 'learning': 1, 'revolutionizing': 1, 'industries': 1, 'providing': 1, 'insights': 1, 'large': 1, 'datasets': 1}\n",
      "\n",
      "\n",
      "--------------------------------------------------------------------------------\n",
      "\u001b[33massistant\u001b[0m (to user_proxy):\n",
      "\n",
      "키워드 추출 결과는 다음과 같습니다:\n",
      "\n",
      "**키워드:** \n",
      "- ['machine', 'learning', 'revolutionizing', 'industries', 'providing', 'insights', 'large', 'datasets']\n",
      "\n",
      "**키워드 빈도수:** \n",
      "- {'machine': 1, 'learning': 1, 'revolutionizing': 1, 'industries': 1, 'providing': 1, 'insights': 1, 'large': 1, 'datasets': 1}\n",
      "\n",
      "작업이 완료되었습니다. TERMINATE\n",
      "\n",
      "--------------------------------------------------------------------------------\n"
     ]
    }
   ],
   "source": [
    "# followup of the previous question (이전 질문에 대한 후속 조치)\n",
    "\n",
    "# 위에 initiate_chat을 통해서 대화를 시작했다. 대화에 이어서 메세지를 싶다면 아래와 같이 작성\n",
    "\n",
    "user_proxy.send(\n",
    "    recipient=assistant,\n",
    "    message=\"\"\"예시 영어 문장을 만들고, 키워드를 추출하세요\"\"\")"
   ]
  }
 ],
 "metadata": {
  "kernelspec": {
   "display_name": ".venv",
   "language": "python",
   "name": "python3"
  },
  "language_info": {
   "codemirror_mode": {
    "name": "ipython",
    "version": 3
   },
   "file_extension": ".py",
   "mimetype": "text/x-python",
   "name": "python",
   "nbconvert_exporter": "python",
   "pygments_lexer": "ipython3",
   "version": "3.12.1"
  }
 },
 "nbformat": 4,
 "nbformat_minor": 5
}
